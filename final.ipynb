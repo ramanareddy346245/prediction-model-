{
 "cells": [
  {
   "cell_type": "code",
   "execution_count": 1,
   "metadata": {},
   "outputs": [
    {
     "data": {
      "application/vnd.microsoft.datawrangler.viewer.v0+json": {
       "columns": [
        {
         "name": "index",
         "rawType": "int64",
         "type": "integer"
        },
        {
         "name": "Company Name",
         "rawType": "object",
         "type": "string"
        },
        {
         "name": "Industry",
         "rawType": "object",
         "type": "string"
        },
        {
         "name": "Symbol",
         "rawType": "object",
         "type": "string"
        },
        {
         "name": "Series",
         "rawType": "object",
         "type": "string"
        },
        {
         "name": "ISIN Code",
         "rawType": "object",
         "type": "string"
        }
       ],
       "conversionMethod": "pd.DataFrame",
       "ref": "c7773100-5535-4616-b6df-5984243d3040",
       "rows": [
        [
         "0",
         "360 ONE WAM Ltd.",
         "Financial Services",
         "360ONE",
         "EQ",
         "INE466L01038"
        ],
        [
         "1",
         "ABB India Ltd.",
         "Capital Goods",
         "ABB",
         "EQ",
         "INE117A01022"
        ],
        [
         "2",
         "ACC Ltd.",
         "Construction Materials",
         "ACC",
         "EQ",
         "INE012A01025"
        ],
        [
         "3",
         "AIA Engineering Ltd.",
         "Capital Goods",
         "AIAENG",
         "EQ",
         "INE212H01026"
        ],
        [
         "4",
         "APL Apollo Tubes Ltd.",
         "Capital Goods",
         "APLAPOLLO",
         "EQ",
         "INE702C01027"
        ],
        [
         "5",
         "AU Small Finance Bank Ltd.",
         "Financial Services",
         "AUBANK",
         "EQ",
         "INE949L01017"
        ],
        [
         "6",
         "Aarti Industries Ltd.",
         "Chemicals",
         "AARTIIND",
         "EQ",
         "INE769A01020"
        ],
        [
         "7",
         "Aavas Financiers Ltd.",
         "Financial Services",
         "AAVAS",
         "EQ",
         "INE216P01012"
        ],
        [
         "8",
         "Abbott India Ltd.",
         "Healthcare",
         "ABBOTINDIA",
         "EQ",
         "INE358A01014"
        ],
        [
         "9",
         "Action Construction Equipment Ltd.",
         "Capital Goods",
         "ACE",
         "EQ",
         "INE731H01025"
        ],
        [
         "10",
         "Adani Enterprises Ltd.",
         "Metals & Mining",
         "ADANIENT",
         "EQ",
         "INE423A01024"
        ],
        [
         "11",
         "Adani Green Energy Ltd.",
         "Power",
         "ADANIGREEN",
         "EQ",
         "INE364U01010"
        ],
        [
         "12",
         "Adani Ports and Special Economic Zone Ltd.",
         "Services",
         "ADANIPORTS",
         "EQ",
         "INE742F01042"
        ],
        [
         "13",
         "Adani Power Ltd.",
         "Power",
         "ADANIPOWER",
         "EQ",
         "INE814H01011"
        ],
        [
         "14",
         "Adani Total Gas Ltd.",
         "Oil Gas & Consumable Fuels",
         "ATGL",
         "EQ",
         "INE399L01023"
        ],
        [
         "15",
         "Aditya Birla Capital Ltd.",
         "Financial Services",
         "ABCAPITAL",
         "EQ",
         "INE674K01013"
        ],
        [
         "16",
         "Aditya Birla Fashion and Retail Ltd.",
         "Consumer Services",
         "ABFRL",
         "EQ",
         "INE647O01011"
        ],
        [
         "17",
         "Aditya Birla Sun Life AMC Ltd.",
         "Financial Services",
         "ABSLAMC",
         "EQ",
         "INE404A01024"
        ],
        [
         "18",
         "Affle (India) Ltd.",
         "Information Technology",
         "AFFLE",
         "EQ",
         "INE00WC01027"
        ],
        [
         "19",
         "Ajanta Pharmaceuticals Ltd.",
         "Healthcare",
         "AJANTPHARM",
         "EQ",
         "INE031B01049"
        ],
        [
         "20",
         "Alembic Pharmaceuticals Ltd.",
         "Healthcare",
         "APLLTD",
         "EQ",
         "INE901L01018"
        ],
        [
         "21",
         "Alkem Laboratories Ltd.",
         "Healthcare",
         "ALKEM",
         "EQ",
         "INE540L01014"
        ],
        [
         "22",
         "Alkyl Amines Chemicals Ltd.",
         "Chemicals",
         "ALKYLAMINE",
         "EQ",
         "INE150B01039"
        ],
        [
         "23",
         "Alok Industries Ltd.",
         "Textiles",
         "ALOKINDS",
         "EQ",
         "INE270A01029"
        ],
        [
         "24",
         "Amber Enterprises India Ltd.",
         "Consumer Durables",
         "AMBER",
         "EQ",
         "INE371P01015"
        ],
        [
         "25",
         "Ambuja Cements Ltd.",
         "Construction Materials",
         "AMBUJACEM",
         "EQ",
         "INE079A01024"
        ],
        [
         "26",
         "Anand Rathi Wealth Ltd.",
         "Financial Services",
         "ANANDRATHI",
         "EQ",
         "INE463V01026"
        ],
        [
         "27",
         "Anant Raj Ltd.",
         "Realty",
         "ANANTRAJ",
         "EQ",
         "INE242C01024"
        ],
        [
         "28",
         "Angel One Ltd.",
         "Financial Services",
         "ANGELONE",
         "EQ",
         "INE732I01013"
        ],
        [
         "29",
         "Apar Industries Ltd.",
         "Capital Goods",
         "APARINDS",
         "EQ",
         "INE372A01015"
        ],
        [
         "30",
         "Apollo Hospitals Enterprise Ltd.",
         "Healthcare",
         "APOLLOHOSP",
         "EQ",
         "INE437A01024"
        ],
        [
         "31",
         "Apollo Tyres Ltd.",
         "Automobile and Auto Components",
         "APOLLOTYRE",
         "EQ",
         "INE438A01022"
        ],
        [
         "32",
         "Aptus Value Housing Finance India Ltd.",
         "Financial Services",
         "APTUS",
         "EQ",
         "INE852O01025"
        ],
        [
         "33",
         "Asahi India Glass Ltd.",
         "Automobile and Auto Components",
         "ASAHIINDIA",
         "EQ",
         "INE439A01020"
        ],
        [
         "34",
         "Ashok Leyland Ltd.",
         "Capital Goods",
         "ASHOKLEY",
         "EQ",
         "INE208A01029"
        ],
        [
         "35",
         "Asian Paints Ltd.",
         "Consumer Durables",
         "ASIANPAINT",
         "EQ",
         "INE021A01026"
        ],
        [
         "36",
         "Aster DM Healthcare Ltd.",
         "Healthcare",
         "ASTERDM",
         "EQ",
         "INE914M01019"
        ],
        [
         "37",
         "AstraZenca Pharma India Ltd.",
         "Healthcare",
         "ASTRAZEN",
         "EQ",
         "INE203A01020"
        ],
        [
         "38",
         "Astral Ltd.",
         "Capital Goods",
         "ASTRAL",
         "EQ",
         "INE006I01046"
        ],
        [
         "39",
         "Atul Ltd.",
         "Chemicals",
         "ATUL",
         "EQ",
         "INE100A01010"
        ],
        [
         "40",
         "Aurobindo Pharma Ltd.",
         "Healthcare",
         "AUROPHARMA",
         "EQ",
         "INE406A01037"
        ],
        [
         "41",
         "Avanti Feeds Ltd.",
         "Fast Moving Consumer Goods",
         "AVANTIFEED",
         "EQ",
         "INE871C01038"
        ],
        [
         "42",
         "Avenue Supermarts Ltd.",
         "Consumer Services",
         "DMART",
         "EQ",
         "INE192R01011"
        ],
        [
         "43",
         "Axis Bank Ltd.",
         "Financial Services",
         "AXISBANK",
         "EQ",
         "INE238A01034"
        ],
        [
         "44",
         "BASF India Ltd.",
         "Chemicals",
         "BASF",
         "EQ",
         "INE373A01013"
        ],
        [
         "45",
         "BEML Ltd.",
         "Capital Goods",
         "BEML",
         "EQ",
         "INE258A01016"
        ],
        [
         "46",
         "BLS International Services Ltd.",
         "Consumer Services",
         "BLS",
         "EQ",
         "INE153T01027"
        ],
        [
         "47",
         "BSE Ltd.",
         "Financial Services",
         "BSE",
         "EQ",
         "INE118H01025"
        ],
        [
         "48",
         "Bajaj Auto Ltd.",
         "Automobile and Auto Components",
         "BAJAJ-AUTO",
         "EQ",
         "INE917I01010"
        ],
        [
         "49",
         "Bajaj Finance Ltd.",
         "Financial Services",
         "BAJFINANCE",
         "EQ",
         "INE296A01024"
        ]
       ],
       "shape": {
        "columns": 5,
        "rows": 445
       }
      },
      "text/html": [
       "<div>\n",
       "<style scoped>\n",
       "    .dataframe tbody tr th:only-of-type {\n",
       "        vertical-align: middle;\n",
       "    }\n",
       "\n",
       "    .dataframe tbody tr th {\n",
       "        vertical-align: top;\n",
       "    }\n",
       "\n",
       "    .dataframe thead th {\n",
       "        text-align: right;\n",
       "    }\n",
       "</style>\n",
       "<table border=\"1\" class=\"dataframe\">\n",
       "  <thead>\n",
       "    <tr style=\"text-align: right;\">\n",
       "      <th></th>\n",
       "      <th>Company Name</th>\n",
       "      <th>Industry</th>\n",
       "      <th>Symbol</th>\n",
       "      <th>Series</th>\n",
       "      <th>ISIN Code</th>\n",
       "    </tr>\n",
       "  </thead>\n",
       "  <tbody>\n",
       "    <tr>\n",
       "      <th>0</th>\n",
       "      <td>360 ONE WAM Ltd.</td>\n",
       "      <td>Financial Services</td>\n",
       "      <td>360ONE</td>\n",
       "      <td>EQ</td>\n",
       "      <td>INE466L01038</td>\n",
       "    </tr>\n",
       "    <tr>\n",
       "      <th>1</th>\n",
       "      <td>ABB India Ltd.</td>\n",
       "      <td>Capital Goods</td>\n",
       "      <td>ABB</td>\n",
       "      <td>EQ</td>\n",
       "      <td>INE117A01022</td>\n",
       "    </tr>\n",
       "    <tr>\n",
       "      <th>2</th>\n",
       "      <td>ACC Ltd.</td>\n",
       "      <td>Construction Materials</td>\n",
       "      <td>ACC</td>\n",
       "      <td>EQ</td>\n",
       "      <td>INE012A01025</td>\n",
       "    </tr>\n",
       "    <tr>\n",
       "      <th>3</th>\n",
       "      <td>AIA Engineering Ltd.</td>\n",
       "      <td>Capital Goods</td>\n",
       "      <td>AIAENG</td>\n",
       "      <td>EQ</td>\n",
       "      <td>INE212H01026</td>\n",
       "    </tr>\n",
       "    <tr>\n",
       "      <th>4</th>\n",
       "      <td>APL Apollo Tubes Ltd.</td>\n",
       "      <td>Capital Goods</td>\n",
       "      <td>APLAPOLLO</td>\n",
       "      <td>EQ</td>\n",
       "      <td>INE702C01027</td>\n",
       "    </tr>\n",
       "    <tr>\n",
       "      <th>...</th>\n",
       "      <td>...</td>\n",
       "      <td>...</td>\n",
       "      <td>...</td>\n",
       "      <td>...</td>\n",
       "      <td>...</td>\n",
       "    </tr>\n",
       "    <tr>\n",
       "      <th>440</th>\n",
       "      <td>Zee Entertainment Enterprises Ltd.</td>\n",
       "      <td>Media Entertainment &amp; Publication</td>\n",
       "      <td>ZEEL</td>\n",
       "      <td>EQ</td>\n",
       "      <td>INE256A01028</td>\n",
       "    </tr>\n",
       "    <tr>\n",
       "      <th>441</th>\n",
       "      <td>Zensar Technolgies Ltd.</td>\n",
       "      <td>Information Technology</td>\n",
       "      <td>ZENSARTECH</td>\n",
       "      <td>EQ</td>\n",
       "      <td>INE520A01027</td>\n",
       "    </tr>\n",
       "    <tr>\n",
       "      <th>442</th>\n",
       "      <td>Zomato Ltd.</td>\n",
       "      <td>Consumer Services</td>\n",
       "      <td>ZOMATO</td>\n",
       "      <td>EQ</td>\n",
       "      <td>INE758T01015</td>\n",
       "    </tr>\n",
       "    <tr>\n",
       "      <th>443</th>\n",
       "      <td>Zydus Lifesciences Ltd.</td>\n",
       "      <td>Healthcare</td>\n",
       "      <td>ZYDUSLIFE</td>\n",
       "      <td>EQ</td>\n",
       "      <td>INE010B01027</td>\n",
       "    </tr>\n",
       "    <tr>\n",
       "      <th>444</th>\n",
       "      <td>eClerx Services Ltd.</td>\n",
       "      <td>Services</td>\n",
       "      <td>ECLERX</td>\n",
       "      <td>EQ</td>\n",
       "      <td>INE738I01010</td>\n",
       "    </tr>\n",
       "  </tbody>\n",
       "</table>\n",
       "<p>445 rows × 5 columns</p>\n",
       "</div>"
      ],
      "text/plain": [
       "                           Company Name                           Industry  \\\n",
       "0                      360 ONE WAM Ltd.                 Financial Services   \n",
       "1                        ABB India Ltd.                      Capital Goods   \n",
       "2                              ACC Ltd.             Construction Materials   \n",
       "3                  AIA Engineering Ltd.                      Capital Goods   \n",
       "4                 APL Apollo Tubes Ltd.                      Capital Goods   \n",
       "..                                  ...                                ...   \n",
       "440  Zee Entertainment Enterprises Ltd.  Media Entertainment & Publication   \n",
       "441             Zensar Technolgies Ltd.             Information Technology   \n",
       "442                         Zomato Ltd.                  Consumer Services   \n",
       "443             Zydus Lifesciences Ltd.                         Healthcare   \n",
       "444                eClerx Services Ltd.                           Services   \n",
       "\n",
       "         Symbol Series     ISIN Code  \n",
       "0        360ONE     EQ  INE466L01038  \n",
       "1           ABB     EQ  INE117A01022  \n",
       "2           ACC     EQ  INE012A01025  \n",
       "3        AIAENG     EQ  INE212H01026  \n",
       "4     APLAPOLLO     EQ  INE702C01027  \n",
       "..          ...    ...           ...  \n",
       "440        ZEEL     EQ  INE256A01028  \n",
       "441  ZENSARTECH     EQ  INE520A01027  \n",
       "442      ZOMATO     EQ  INE758T01015  \n",
       "443   ZYDUSLIFE     EQ  INE010B01027  \n",
       "444      ECLERX     EQ  INE738I01010  \n",
       "\n",
       "[445 rows x 5 columns]"
      ]
     },
     "execution_count": 1,
     "metadata": {},
     "output_type": "execute_result"
    }
   ],
   "source": [
    "import pandas as pd\n",
    "df=pd.read_csv(r\"filtered_companies.csv\")\n",
    "df"
   ]
  },
  {
   "cell_type": "code",
   "execution_count": 2,
   "metadata": {},
   "outputs": [],
   "source": [
    "\n",
    "tickers=df['Symbol']"
   ]
  },
  {
   "cell_type": "code",
   "execution_count": 3,
   "metadata": {},
   "outputs": [
    {
     "name": "stdout",
     "output_type": "stream",
     "text": [
      "Downloading data for 360ONE.NS...\n",
      "YF.download() has changed argument auto_adjust default to True\n"
     ]
    },
    {
     "name": "stderr",
     "output_type": "stream",
     "text": [
      "[*********************100%***********************]  1 of 1 completed\n"
     ]
    },
    {
     "name": "stdout",
     "output_type": "stream",
     "text": [
      "Data for 360ONE.NS saved to Stock_Data\\360ONE.NS.csv.\n",
      "Downloading data for ABB.NS...\n"
     ]
    },
    {
     "name": "stderr",
     "output_type": "stream",
     "text": [
      "[*********************100%***********************]  1 of 1 completed\n",
      "[*********************100%***********************]  1 of 1 completed"
     ]
    },
    {
     "name": "stdout",
     "output_type": "stream",
     "text": [
      "Data for ABB.NS saved to Stock_Data\\ABB.NS.csv.\n",
      "Downloading data for ACC.NS...\n"
     ]
    },
    {
     "name": "stderr",
     "output_type": "stream",
     "text": [
      "\n"
     ]
    },
    {
     "name": "stdout",
     "output_type": "stream",
     "text": [
      "Data for ACC.NS saved to Stock_Data\\ACC.NS.csv.\n",
      "Downloading data for AIAENG.NS...\n"
     ]
    },
    {
     "name": "stderr",
     "output_type": "stream",
     "text": [
      "[*********************100%***********************]  1 of 1 completed\n"
     ]
    },
    {
     "name": "stdout",
     "output_type": "stream",
     "text": [
      "Data for AIAENG.NS saved to Stock_Data\\AIAENG.NS.csv.\n",
      "Downloading data for APLAPOLLO.NS...\n"
     ]
    },
    {
     "name": "stderr",
     "output_type": "stream",
     "text": [
      "[*********************100%***********************]  1 of 1 completed\n"
     ]
    },
    {
     "name": "stdout",
     "output_type": "stream",
     "text": [
      "Data for APLAPOLLO.NS saved to Stock_Data\\APLAPOLLO.NS.csv.\n",
      "Downloading data for AUBANK.NS...\n"
     ]
    },
    {
     "name": "stderr",
     "output_type": "stream",
     "text": [
      "[*********************100%***********************]  1 of 1 completed\n"
     ]
    },
    {
     "name": "stdout",
     "output_type": "stream",
     "text": [
      "Data for AUBANK.NS saved to Stock_Data\\AUBANK.NS.csv.\n",
      "Downloading data for AARTIIND.NS...\n"
     ]
    },
    {
     "name": "stderr",
     "output_type": "stream",
     "text": [
      "[*********************100%***********************]  1 of 1 completed\n",
      "[*********************100%***********************]  1 of 1 completed"
     ]
    },
    {
     "name": "stdout",
     "output_type": "stream",
     "text": [
      "Data for AARTIIND.NS saved to Stock_Data\\AARTIIND.NS.csv.\n",
      "Downloading data for AAVAS.NS...\n"
     ]
    },
    {
     "name": "stderr",
     "output_type": "stream",
     "text": [
      "\n"
     ]
    },
    {
     "name": "stdout",
     "output_type": "stream",
     "text": [
      "Data for AAVAS.NS saved to Stock_Data\\AAVAS.NS.csv.\n",
      "Downloading data for ABBOTINDIA.NS...\n"
     ]
    },
    {
     "name": "stderr",
     "output_type": "stream",
     "text": [
      "[*********************100%***********************]  1 of 1 completed\n"
     ]
    },
    {
     "name": "stdout",
     "output_type": "stream",
     "text": [
      "Data for ABBOTINDIA.NS saved to Stock_Data\\ABBOTINDIA.NS.csv.\n",
      "Downloading data for ACE.NS...\n"
     ]
    },
    {
     "name": "stderr",
     "output_type": "stream",
     "text": [
      "[*********************100%***********************]  1 of 1 completed\n",
      "[*********************100%***********************]  1 of 1 completed"
     ]
    },
    {
     "name": "stdout",
     "output_type": "stream",
     "text": [
      "Data for ACE.NS saved to Stock_Data\\ACE.NS.csv.\n",
      "Downloading data for ADANIENT.NS...\n"
     ]
    },
    {
     "name": "stderr",
     "output_type": "stream",
     "text": [
      "\n",
      "[*********************100%***********************]  1 of 1 completed"
     ]
    },
    {
     "name": "stdout",
     "output_type": "stream",
     "text": [
      "Data for ADANIENT.NS saved to Stock_Data\\ADANIENT.NS.csv.\n",
      "Downloading data for ADANIGREEN.NS...\n"
     ]
    },
    {
     "name": "stderr",
     "output_type": "stream",
     "text": [
      "\n",
      "[*********************100%***********************]  1 of 1 completed"
     ]
    },
    {
     "name": "stdout",
     "output_type": "stream",
     "text": [
      "Data for ADANIGREEN.NS saved to Stock_Data\\ADANIGREEN.NS.csv.\n",
      "Downloading data for ADANIPORTS.NS...\n"
     ]
    },
    {
     "name": "stderr",
     "output_type": "stream",
     "text": [
      "\n"
     ]
    },
    {
     "name": "stdout",
     "output_type": "stream",
     "text": [
      "Data for ADANIPORTS.NS saved to Stock_Data\\ADANIPORTS.NS.csv.\n",
      "Downloading data for ADANIPOWER.NS...\n"
     ]
    },
    {
     "name": "stderr",
     "output_type": "stream",
     "text": [
      "[*********************100%***********************]  1 of 1 completed\n"
     ]
    },
    {
     "name": "stdout",
     "output_type": "stream",
     "text": [
      "Data for ADANIPOWER.NS saved to Stock_Data\\ADANIPOWER.NS.csv.\n",
      "Downloading data for ATGL.NS...\n"
     ]
    },
    {
     "name": "stderr",
     "output_type": "stream",
     "text": [
      "[*********************100%***********************]  1 of 1 completed\n",
      "[*********************100%***********************]  1 of 1 completed"
     ]
    },
    {
     "name": "stdout",
     "output_type": "stream",
     "text": [
      "Data for ATGL.NS saved to Stock_Data\\ATGL.NS.csv.\n",
      "Downloading data for ABCAPITAL.NS...\n",
      "Data for ABCAPITAL.NS saved to Stock_Data\\ABCAPITAL.NS.csv.\n",
      "Downloading data for ABFRL.NS...\n"
     ]
    },
    {
     "name": "stderr",
     "output_type": "stream",
     "text": [
      "\n",
      "[*********************100%***********************]  1 of 1 completed\n"
     ]
    },
    {
     "name": "stdout",
     "output_type": "stream",
     "text": [
      "Data for ABFRL.NS saved to Stock_Data\\ABFRL.NS.csv.\n",
      "Downloading data for ABSLAMC.NS...\n"
     ]
    },
    {
     "name": "stderr",
     "output_type": "stream",
     "text": [
      "[*********************100%***********************]  1 of 1 completed\n"
     ]
    },
    {
     "name": "stdout",
     "output_type": "stream",
     "text": [
      "Data for ABSLAMC.NS saved to Stock_Data\\ABSLAMC.NS.csv.\n",
      "Downloading data for AFFLE.NS...\n"
     ]
    },
    {
     "name": "stderr",
     "output_type": "stream",
     "text": [
      "[*********************100%***********************]  1 of 1 completed\n"
     ]
    },
    {
     "name": "stdout",
     "output_type": "stream",
     "text": [
      "Data for AFFLE.NS saved to Stock_Data\\AFFLE.NS.csv.\n",
      "Downloading data for AJANTPHARM.NS...\n"
     ]
    },
    {
     "name": "stderr",
     "output_type": "stream",
     "text": [
      "[*********************100%***********************]  1 of 1 completed\n"
     ]
    },
    {
     "name": "stdout",
     "output_type": "stream",
     "text": [
      "Data for AJANTPHARM.NS saved to Stock_Data\\AJANTPHARM.NS.csv.\n",
      "Downloading data for APLLTD.NS...\n"
     ]
    },
    {
     "name": "stderr",
     "output_type": "stream",
     "text": [
      "[*********************100%***********************]  1 of 1 completed\n"
     ]
    },
    {
     "name": "stdout",
     "output_type": "stream",
     "text": [
      "Data for APLLTD.NS saved to Stock_Data\\APLLTD.NS.csv.\n",
      "Downloading data for ALKEM.NS...\n"
     ]
    },
    {
     "name": "stderr",
     "output_type": "stream",
     "text": [
      "[*********************100%***********************]  1 of 1 completed\n"
     ]
    },
    {
     "name": "stdout",
     "output_type": "stream",
     "text": [
      "Data for ALKEM.NS saved to Stock_Data\\ALKEM.NS.csv.\n",
      "Downloading data for ALKYLAMINE.NS...\n"
     ]
    },
    {
     "name": "stderr",
     "output_type": "stream",
     "text": [
      "[*********************100%***********************]  1 of 1 completed\n",
      "[*********************100%***********************]  1 of 1 completed"
     ]
    },
    {
     "name": "stdout",
     "output_type": "stream",
     "text": [
      "Data for ALKYLAMINE.NS saved to Stock_Data\\ALKYLAMINE.NS.csv.\n",
      "Downloading data for ALOKINDS.NS...\n",
      "Data for ALOKINDS.NS saved to Stock_Data\\ALOKINDS.NS.csv.\n",
      "Downloading data for AMBER.NS...\n"
     ]
    },
    {
     "name": "stderr",
     "output_type": "stream",
     "text": [
      "\n",
      "[*********************100%***********************]  1 of 1 completed\n"
     ]
    },
    {
     "name": "stdout",
     "output_type": "stream",
     "text": [
      "Data for AMBER.NS saved to Stock_Data\\AMBER.NS.csv.\n",
      "Downloading data for AMBUJACEM.NS...\n"
     ]
    },
    {
     "name": "stderr",
     "output_type": "stream",
     "text": [
      "[*********************100%***********************]  1 of 1 completed\n"
     ]
    },
    {
     "name": "stdout",
     "output_type": "stream",
     "text": [
      "Data for AMBUJACEM.NS saved to Stock_Data\\AMBUJACEM.NS.csv.\n",
      "Downloading data for ANANDRATHI.NS...\n"
     ]
    },
    {
     "name": "stderr",
     "output_type": "stream",
     "text": [
      "[*********************100%***********************]  1 of 1 completed\n"
     ]
    },
    {
     "name": "stdout",
     "output_type": "stream",
     "text": [
      "Data for ANANDRATHI.NS saved to Stock_Data\\ANANDRATHI.NS.csv.\n",
      "Downloading data for ANANTRAJ.NS...\n"
     ]
    },
    {
     "name": "stderr",
     "output_type": "stream",
     "text": [
      "[*********************100%***********************]  1 of 1 completed\n"
     ]
    },
    {
     "name": "stdout",
     "output_type": "stream",
     "text": [
      "Data for ANANTRAJ.NS saved to Stock_Data\\ANANTRAJ.NS.csv.\n",
      "Downloading data for ANGELONE.NS...\n"
     ]
    },
    {
     "name": "stderr",
     "output_type": "stream",
     "text": [
      "[*********************100%***********************]  1 of 1 completed\n"
     ]
    },
    {
     "name": "stdout",
     "output_type": "stream",
     "text": [
      "Data for ANGELONE.NS saved to Stock_Data\\ANGELONE.NS.csv.\n",
      "Downloading data for APARINDS.NS...\n"
     ]
    },
    {
     "name": "stderr",
     "output_type": "stream",
     "text": [
      "[*********************100%***********************]  1 of 1 completed\n"
     ]
    },
    {
     "name": "stdout",
     "output_type": "stream",
     "text": [
      "Data for APARINDS.NS saved to Stock_Data\\APARINDS.NS.csv.\n",
      "Downloading data for APOLLOHOSP.NS...\n"
     ]
    },
    {
     "name": "stderr",
     "output_type": "stream",
     "text": [
      "[*********************100%***********************]  1 of 1 completed\n"
     ]
    },
    {
     "name": "stdout",
     "output_type": "stream",
     "text": [
      "Data for APOLLOHOSP.NS saved to Stock_Data\\APOLLOHOSP.NS.csv.\n",
      "Downloading data for APOLLOTYRE.NS...\n"
     ]
    },
    {
     "name": "stderr",
     "output_type": "stream",
     "text": [
      "[*********************100%***********************]  1 of 1 completed\n"
     ]
    },
    {
     "name": "stdout",
     "output_type": "stream",
     "text": [
      "Data for APOLLOTYRE.NS saved to Stock_Data\\APOLLOTYRE.NS.csv.\n",
      "Downloading data for APTUS.NS...\n"
     ]
    },
    {
     "name": "stderr",
     "output_type": "stream",
     "text": [
      "[*********************100%***********************]  1 of 1 completed\n"
     ]
    },
    {
     "name": "stdout",
     "output_type": "stream",
     "text": [
      "Data for APTUS.NS saved to Stock_Data\\APTUS.NS.csv.\n",
      "Downloading data for ASAHIINDIA.NS...\n"
     ]
    },
    {
     "name": "stderr",
     "output_type": "stream",
     "text": [
      "[*********************100%***********************]  1 of 1 completed\n"
     ]
    },
    {
     "name": "stdout",
     "output_type": "stream",
     "text": [
      "Data for ASAHIINDIA.NS saved to Stock_Data\\ASAHIINDIA.NS.csv.\n",
      "Downloading data for ASHOKLEY.NS...\n"
     ]
    },
    {
     "name": "stderr",
     "output_type": "stream",
     "text": [
      "[*********************100%***********************]  1 of 1 completed\n"
     ]
    },
    {
     "name": "stdout",
     "output_type": "stream",
     "text": [
      "Data for ASHOKLEY.NS saved to Stock_Data\\ASHOKLEY.NS.csv.\n",
      "Downloading data for ASIANPAINT.NS...\n"
     ]
    },
    {
     "name": "stderr",
     "output_type": "stream",
     "text": [
      "[*********************100%***********************]  1 of 1 completed\n",
      "[*********************100%***********************]  1 of 1 completed"
     ]
    },
    {
     "name": "stdout",
     "output_type": "stream",
     "text": [
      "Data for ASIANPAINT.NS saved to Stock_Data\\ASIANPAINT.NS.csv.\n",
      "Downloading data for ASTERDM.NS...\n",
      "Data for ASTERDM.NS saved to Stock_Data\\ASTERDM.NS.csv.\n",
      "Downloading data for ASTRAZEN.NS...\n"
     ]
    },
    {
     "name": "stderr",
     "output_type": "stream",
     "text": [
      "\n",
      "[*********************100%***********************]  1 of 1 completed\n"
     ]
    },
    {
     "name": "stdout",
     "output_type": "stream",
     "text": [
      "Data for ASTRAZEN.NS saved to Stock_Data\\ASTRAZEN.NS.csv.\n",
      "Downloading data for ASTRAL.NS...\n"
     ]
    },
    {
     "name": "stderr",
     "output_type": "stream",
     "text": [
      "[*********************100%***********************]  1 of 1 completed\n"
     ]
    },
    {
     "name": "stdout",
     "output_type": "stream",
     "text": [
      "Data for ASTRAL.NS saved to Stock_Data\\ASTRAL.NS.csv.\n",
      "Downloading data for ATUL.NS...\n"
     ]
    },
    {
     "name": "stderr",
     "output_type": "stream",
     "text": [
      "[*********************100%***********************]  1 of 1 completed\n"
     ]
    },
    {
     "name": "stdout",
     "output_type": "stream",
     "text": [
      "Data for ATUL.NS saved to Stock_Data\\ATUL.NS.csv.\n",
      "Downloading data for AUROPHARMA.NS...\n"
     ]
    },
    {
     "name": "stderr",
     "output_type": "stream",
     "text": [
      "[*********************100%***********************]  1 of 1 completed\n"
     ]
    },
    {
     "name": "stdout",
     "output_type": "stream",
     "text": [
      "Data for AUROPHARMA.NS saved to Stock_Data\\AUROPHARMA.NS.csv.\n",
      "Downloading data for AVANTIFEED.NS...\n"
     ]
    },
    {
     "name": "stderr",
     "output_type": "stream",
     "text": [
      "[*********************100%***********************]  1 of 1 completed\n"
     ]
    },
    {
     "name": "stdout",
     "output_type": "stream",
     "text": [
      "Data for AVANTIFEED.NS saved to Stock_Data\\AVANTIFEED.NS.csv.\n",
      "Downloading data for DMART.NS...\n"
     ]
    },
    {
     "name": "stderr",
     "output_type": "stream",
     "text": [
      "[*********************100%***********************]  1 of 1 completed\n"
     ]
    },
    {
     "name": "stdout",
     "output_type": "stream",
     "text": [
      "Data for DMART.NS saved to Stock_Data\\DMART.NS.csv.\n",
      "Downloading data for AXISBANK.NS...\n"
     ]
    },
    {
     "name": "stderr",
     "output_type": "stream",
     "text": [
      "[*********************100%***********************]  1 of 1 completed\n"
     ]
    },
    {
     "name": "stdout",
     "output_type": "stream",
     "text": [
      "Data for AXISBANK.NS saved to Stock_Data\\AXISBANK.NS.csv.\n",
      "Downloading data for BASF.NS...\n"
     ]
    },
    {
     "name": "stderr",
     "output_type": "stream",
     "text": [
      "[*********************100%***********************]  1 of 1 completed\n"
     ]
    },
    {
     "name": "stdout",
     "output_type": "stream",
     "text": [
      "Data for BASF.NS saved to Stock_Data\\BASF.NS.csv.\n",
      "Downloading data for BEML.NS...\n"
     ]
    },
    {
     "name": "stderr",
     "output_type": "stream",
     "text": [
      "[*********************100%***********************]  1 of 1 completed\n"
     ]
    },
    {
     "name": "stdout",
     "output_type": "stream",
     "text": [
      "Data for BEML.NS saved to Stock_Data\\BEML.NS.csv.\n",
      "Downloading data for BLS.NS...\n"
     ]
    },
    {
     "name": "stderr",
     "output_type": "stream",
     "text": [
      "[*********************100%***********************]  1 of 1 completed\n"
     ]
    },
    {
     "name": "stdout",
     "output_type": "stream",
     "text": [
      "Data for BLS.NS saved to Stock_Data\\BLS.NS.csv.\n",
      "Downloading data for BSE.NS...\n"
     ]
    },
    {
     "name": "stderr",
     "output_type": "stream",
     "text": [
      "[*********************100%***********************]  1 of 1 completed\n"
     ]
    },
    {
     "name": "stdout",
     "output_type": "stream",
     "text": [
      "Data for BSE.NS saved to Stock_Data\\BSE.NS.csv.\n",
      "Downloading data for BAJAJ-AUTO.NS...\n"
     ]
    },
    {
     "name": "stderr",
     "output_type": "stream",
     "text": [
      "[*********************100%***********************]  1 of 1 completed\n",
      "[*********************100%***********************]  1 of 1 completed"
     ]
    },
    {
     "name": "stdout",
     "output_type": "stream",
     "text": [
      "Data for BAJAJ-AUTO.NS saved to Stock_Data\\BAJAJ-AUTO.NS.csv.\n",
      "Downloading data for BAJFINANCE.NS...\n"
     ]
    },
    {
     "name": "stderr",
     "output_type": "stream",
     "text": [
      "\n",
      "[*********************100%***********************]  1 of 1 completed"
     ]
    },
    {
     "name": "stdout",
     "output_type": "stream",
     "text": [
      "Data for BAJFINANCE.NS saved to Stock_Data\\BAJFINANCE.NS.csv.\n",
      "Downloading data for BAJAJFINSV.NS...\n"
     ]
    },
    {
     "name": "stderr",
     "output_type": "stream",
     "text": [
      "\n"
     ]
    },
    {
     "name": "stdout",
     "output_type": "stream",
     "text": [
      "Data for BAJAJFINSV.NS saved to Stock_Data\\BAJAJFINSV.NS.csv.\n",
      "Downloading data for BAJAJHLDNG.NS...\n"
     ]
    },
    {
     "name": "stderr",
     "output_type": "stream",
     "text": [
      "[*********************100%***********************]  1 of 1 completed\n"
     ]
    },
    {
     "name": "stdout",
     "output_type": "stream",
     "text": [
      "Data for BAJAJHLDNG.NS saved to Stock_Data\\BAJAJHLDNG.NS.csv.\n",
      "Downloading data for BALAMINES.NS...\n"
     ]
    },
    {
     "name": "stderr",
     "output_type": "stream",
     "text": [
      "[*********************100%***********************]  1 of 1 completed\n"
     ]
    },
    {
     "name": "stdout",
     "output_type": "stream",
     "text": [
      "Data for BALAMINES.NS saved to Stock_Data\\BALAMINES.NS.csv.\n",
      "Downloading data for BALKRISIND.NS...\n"
     ]
    },
    {
     "name": "stderr",
     "output_type": "stream",
     "text": [
      "[*********************100%***********************]  1 of 1 completed\n"
     ]
    },
    {
     "name": "stdout",
     "output_type": "stream",
     "text": [
      "Data for BALKRISIND.NS saved to Stock_Data\\BALKRISIND.NS.csv.\n",
      "Downloading data for BALRAMCHIN.NS...\n"
     ]
    },
    {
     "name": "stderr",
     "output_type": "stream",
     "text": [
      "[*********************100%***********************]  1 of 1 completed\n"
     ]
    },
    {
     "name": "stdout",
     "output_type": "stream",
     "text": [
      "Data for BALRAMCHIN.NS saved to Stock_Data\\BALRAMCHIN.NS.csv.\n",
      "Downloading data for BANDHANBNK.NS...\n"
     ]
    },
    {
     "name": "stderr",
     "output_type": "stream",
     "text": [
      "[*********************100%***********************]  1 of 1 completed\n"
     ]
    },
    {
     "name": "stdout",
     "output_type": "stream",
     "text": [
      "Data for BANDHANBNK.NS saved to Stock_Data\\BANDHANBNK.NS.csv.\n",
      "Downloading data for BANKBARODA.NS...\n"
     ]
    },
    {
     "name": "stderr",
     "output_type": "stream",
     "text": [
      "[*********************100%***********************]  1 of 1 completed\n"
     ]
    },
    {
     "name": "stdout",
     "output_type": "stream",
     "text": [
      "Data for BANKBARODA.NS saved to Stock_Data\\BANKBARODA.NS.csv.\n",
      "Downloading data for BANKINDIA.NS...\n"
     ]
    },
    {
     "name": "stderr",
     "output_type": "stream",
     "text": [
      "[*********************100%***********************]  1 of 1 completed\n"
     ]
    },
    {
     "name": "stdout",
     "output_type": "stream",
     "text": [
      "Data for BANKINDIA.NS saved to Stock_Data\\BANKINDIA.NS.csv.\n",
      "Downloading data for MAHABANK.NS...\n"
     ]
    },
    {
     "name": "stderr",
     "output_type": "stream",
     "text": [
      "[*********************100%***********************]  1 of 1 completed\n",
      "[*********************100%***********************]  1 of 1 completed"
     ]
    },
    {
     "name": "stdout",
     "output_type": "stream",
     "text": [
      "Data for MAHABANK.NS saved to Stock_Data\\MAHABANK.NS.csv.\n",
      "Downloading data for BATAINDIA.NS...\n"
     ]
    },
    {
     "name": "stderr",
     "output_type": "stream",
     "text": [
      "\n"
     ]
    },
    {
     "name": "stdout",
     "output_type": "stream",
     "text": [
      "Data for BATAINDIA.NS saved to Stock_Data\\BATAINDIA.NS.csv.\n",
      "Downloading data for BAYERCROP.NS...\n"
     ]
    },
    {
     "name": "stderr",
     "output_type": "stream",
     "text": [
      "[*********************100%***********************]  1 of 1 completed\n"
     ]
    },
    {
     "name": "stdout",
     "output_type": "stream",
     "text": [
      "Data for BAYERCROP.NS saved to Stock_Data\\BAYERCROP.NS.csv.\n",
      "Downloading data for BERGEPAINT.NS...\n"
     ]
    },
    {
     "name": "stderr",
     "output_type": "stream",
     "text": [
      "[*********************100%***********************]  1 of 1 completed\n"
     ]
    },
    {
     "name": "stdout",
     "output_type": "stream",
     "text": [
      "Data for BERGEPAINT.NS saved to Stock_Data\\BERGEPAINT.NS.csv.\n",
      "Downloading data for BDL.NS...\n"
     ]
    },
    {
     "name": "stderr",
     "output_type": "stream",
     "text": [
      "[*********************100%***********************]  1 of 1 completed\n"
     ]
    },
    {
     "name": "stdout",
     "output_type": "stream",
     "text": [
      "Data for BDL.NS saved to Stock_Data\\BDL.NS.csv.\n",
      "Downloading data for BEL.NS...\n"
     ]
    },
    {
     "name": "stderr",
     "output_type": "stream",
     "text": [
      "[*********************100%***********************]  1 of 1 completed\n"
     ]
    },
    {
     "name": "stdout",
     "output_type": "stream",
     "text": [
      "Data for BEL.NS saved to Stock_Data\\BEL.NS.csv.\n",
      "Downloading data for BHARATFORG.NS...\n"
     ]
    },
    {
     "name": "stderr",
     "output_type": "stream",
     "text": [
      "[*********************100%***********************]  1 of 1 completed\n"
     ]
    },
    {
     "name": "stdout",
     "output_type": "stream",
     "text": [
      "Data for BHARATFORG.NS saved to Stock_Data\\BHARATFORG.NS.csv.\n",
      "Downloading data for BHEL.NS...\n"
     ]
    },
    {
     "name": "stderr",
     "output_type": "stream",
     "text": [
      "[*********************100%***********************]  1 of 1 completed\n"
     ]
    },
    {
     "name": "stdout",
     "output_type": "stream",
     "text": [
      "Data for BHEL.NS saved to Stock_Data\\BHEL.NS.csv.\n",
      "Downloading data for BPCL.NS...\n"
     ]
    },
    {
     "name": "stderr",
     "output_type": "stream",
     "text": [
      "[*********************100%***********************]  1 of 1 completed\n",
      "[*********************100%***********************]  1 of 1 completed"
     ]
    },
    {
     "name": "stdout",
     "output_type": "stream",
     "text": [
      "Data for BPCL.NS saved to Stock_Data\\BPCL.NS.csv.\n",
      "Downloading data for BHARTIARTL.NS...\n"
     ]
    },
    {
     "name": "stderr",
     "output_type": "stream",
     "text": [
      "\n"
     ]
    },
    {
     "name": "stdout",
     "output_type": "stream",
     "text": [
      "Data for BHARTIARTL.NS saved to Stock_Data\\BHARTIARTL.NS.csv.\n",
      "Downloading data for BIOCON.NS...\n"
     ]
    },
    {
     "name": "stderr",
     "output_type": "stream",
     "text": [
      "[*********************100%***********************]  1 of 1 completed\n"
     ]
    },
    {
     "name": "stdout",
     "output_type": "stream",
     "text": [
      "Data for BIOCON.NS saved to Stock_Data\\BIOCON.NS.csv.\n",
      "Downloading data for BIRLACORPN.NS...\n"
     ]
    },
    {
     "name": "stderr",
     "output_type": "stream",
     "text": [
      "[*********************100%***********************]  1 of 1 completed\n"
     ]
    },
    {
     "name": "stdout",
     "output_type": "stream",
     "text": [
      "Data for BIRLACORPN.NS saved to Stock_Data\\BIRLACORPN.NS.csv.\n",
      "Downloading data for BSOFT.NS...\n"
     ]
    },
    {
     "name": "stderr",
     "output_type": "stream",
     "text": [
      "[*********************100%***********************]  1 of 1 completed\n"
     ]
    },
    {
     "name": "stdout",
     "output_type": "stream",
     "text": [
      "Data for BSOFT.NS saved to Stock_Data\\BSOFT.NS.csv.\n",
      "Downloading data for BLUEDART.NS...\n"
     ]
    },
    {
     "name": "stderr",
     "output_type": "stream",
     "text": [
      "[*********************100%***********************]  1 of 1 completed\n"
     ]
    },
    {
     "name": "stdout",
     "output_type": "stream",
     "text": [
      "Data for BLUEDART.NS saved to Stock_Data\\BLUEDART.NS.csv.\n",
      "Downloading data for BLUESTARCO.NS...\n"
     ]
    },
    {
     "name": "stderr",
     "output_type": "stream",
     "text": [
      "[*********************100%***********************]  1 of 1 completed\n"
     ]
    },
    {
     "name": "stdout",
     "output_type": "stream",
     "text": [
      "Data for BLUESTARCO.NS saved to Stock_Data\\BLUESTARCO.NS.csv.\n",
      "Downloading data for BBTC.NS...\n"
     ]
    },
    {
     "name": "stderr",
     "output_type": "stream",
     "text": [
      "[*********************100%***********************]  1 of 1 completed\n"
     ]
    },
    {
     "name": "stdout",
     "output_type": "stream",
     "text": [
      "Data for BBTC.NS saved to Stock_Data\\BBTC.NS.csv.\n",
      "Downloading data for BOSCHLTD.NS...\n"
     ]
    },
    {
     "name": "stderr",
     "output_type": "stream",
     "text": [
      "[*********************100%***********************]  1 of 1 completed\n"
     ]
    },
    {
     "name": "stdout",
     "output_type": "stream",
     "text": [
      "Data for BOSCHLTD.NS saved to Stock_Data\\BOSCHLTD.NS.csv.\n",
      "Downloading data for BRITANNIA.NS...\n"
     ]
    },
    {
     "name": "stderr",
     "output_type": "stream",
     "text": [
      "[*********************100%***********************]  1 of 1 completed\n",
      "[*********************100%***********************]  1 of 1 completed"
     ]
    },
    {
     "name": "stdout",
     "output_type": "stream",
     "text": [
      "Data for BRITANNIA.NS saved to Stock_Data\\BRITANNIA.NS.csv.\n",
      "Downloading data for MAPMYINDIA.NS...\n"
     ]
    },
    {
     "name": "stderr",
     "output_type": "stream",
     "text": [
      "\n"
     ]
    },
    {
     "name": "stdout",
     "output_type": "stream",
     "text": [
      "Data for MAPMYINDIA.NS saved to Stock_Data\\MAPMYINDIA.NS.csv.\n",
      "Downloading data for CCL.NS...\n"
     ]
    },
    {
     "name": "stderr",
     "output_type": "stream",
     "text": [
      "[*********************100%***********************]  1 of 1 completed\n"
     ]
    },
    {
     "name": "stdout",
     "output_type": "stream",
     "text": [
      "Data for CCL.NS saved to Stock_Data\\CCL.NS.csv.\n",
      "Downloading data for CESC.NS...\n"
     ]
    },
    {
     "name": "stderr",
     "output_type": "stream",
     "text": [
      "[*********************100%***********************]  1 of 1 completed\n"
     ]
    },
    {
     "name": "stdout",
     "output_type": "stream",
     "text": [
      "Data for CESC.NS saved to Stock_Data\\CESC.NS.csv.\n",
      "Downloading data for CGPOWER.NS...\n"
     ]
    },
    {
     "name": "stderr",
     "output_type": "stream",
     "text": [
      "[*********************100%***********************]  1 of 1 completed\n"
     ]
    },
    {
     "name": "stdout",
     "output_type": "stream",
     "text": [
      "Data for CGPOWER.NS saved to Stock_Data\\CGPOWER.NS.csv.\n",
      "Downloading data for CIEINDIA.NS...\n"
     ]
    },
    {
     "name": "stderr",
     "output_type": "stream",
     "text": [
      "[*********************100%***********************]  1 of 1 completed\n"
     ]
    },
    {
     "name": "stdout",
     "output_type": "stream",
     "text": [
      "Data for CIEINDIA.NS saved to Stock_Data\\CIEINDIA.NS.csv.\n",
      "Downloading data for CRISIL.NS...\n"
     ]
    },
    {
     "name": "stderr",
     "output_type": "stream",
     "text": [
      "[*********************100%***********************]  1 of 1 completed\n"
     ]
    },
    {
     "name": "stdout",
     "output_type": "stream",
     "text": [
      "Data for CRISIL.NS saved to Stock_Data\\CRISIL.NS.csv.\n",
      "Downloading data for CANFINHOME.NS...\n"
     ]
    },
    {
     "name": "stderr",
     "output_type": "stream",
     "text": [
      "[*********************100%***********************]  1 of 1 completed\n"
     ]
    },
    {
     "name": "stdout",
     "output_type": "stream",
     "text": [
      "Data for CANFINHOME.NS saved to Stock_Data\\CANFINHOME.NS.csv.\n",
      "Downloading data for CANBK.NS...\n"
     ]
    },
    {
     "name": "stderr",
     "output_type": "stream",
     "text": [
      "[*********************100%***********************]  1 of 1 completed\n",
      "[*********************100%***********************]  1 of 1 completed"
     ]
    },
    {
     "name": "stdout",
     "output_type": "stream",
     "text": [
      "Data for CANBK.NS saved to Stock_Data\\CANBK.NS.csv.\n",
      "Downloading data for CAPLIPOINT.NS...\n"
     ]
    },
    {
     "name": "stderr",
     "output_type": "stream",
     "text": [
      "\n"
     ]
    },
    {
     "name": "stdout",
     "output_type": "stream",
     "text": [
      "Data for CAPLIPOINT.NS saved to Stock_Data\\CAPLIPOINT.NS.csv.\n",
      "Downloading data for CGCL.NS...\n"
     ]
    },
    {
     "name": "stderr",
     "output_type": "stream",
     "text": [
      "[*********************100%***********************]  1 of 1 completed\n"
     ]
    },
    {
     "name": "stdout",
     "output_type": "stream",
     "text": [
      "Data for CGCL.NS saved to Stock_Data\\CGCL.NS.csv.\n",
      "Downloading data for CARBORUNIV.NS...\n"
     ]
    },
    {
     "name": "stderr",
     "output_type": "stream",
     "text": [
      "[*********************100%***********************]  1 of 1 completed\n"
     ]
    },
    {
     "name": "stdout",
     "output_type": "stream",
     "text": [
      "Data for CARBORUNIV.NS saved to Stock_Data\\CARBORUNIV.NS.csv.\n",
      "Downloading data for CASTROLIND.NS...\n"
     ]
    },
    {
     "name": "stderr",
     "output_type": "stream",
     "text": [
      "[*********************100%***********************]  1 of 1 completed\n"
     ]
    },
    {
     "name": "stdout",
     "output_type": "stream",
     "text": [
      "Data for CASTROLIND.NS saved to Stock_Data\\CASTROLIND.NS.csv.\n",
      "Downloading data for CEATLTD.NS...\n"
     ]
    },
    {
     "name": "stderr",
     "output_type": "stream",
     "text": [
      "[*********************100%***********************]  1 of 1 completed\n",
      "[*********************100%***********************]  1 of 1 completed"
     ]
    },
    {
     "name": "stdout",
     "output_type": "stream",
     "text": [
      "Data for CEATLTD.NS saved to Stock_Data\\CEATLTD.NS.csv.\n",
      "Downloading data for CENTRALBK.NS...\n"
     ]
    },
    {
     "name": "stderr",
     "output_type": "stream",
     "text": [
      "\n",
      "[*********************100%***********************]  1 of 1 completed\n"
     ]
    },
    {
     "name": "stdout",
     "output_type": "stream",
     "text": [
      "Data for CENTRALBK.NS saved to Stock_Data\\CENTRALBK.NS.csv.\n",
      "Downloading data for CDSL.NS...\n",
      "Data for CDSL.NS saved to Stock_Data\\CDSL.NS.csv.\n",
      "Downloading data for CENTURYPLY.NS...\n"
     ]
    },
    {
     "name": "stderr",
     "output_type": "stream",
     "text": [
      "[*********************100%***********************]  1 of 1 completed\n"
     ]
    },
    {
     "name": "stdout",
     "output_type": "stream",
     "text": [
      "Data for CENTURYPLY.NS saved to Stock_Data\\CENTURYPLY.NS.csv.\n",
      "Downloading data for CERA.NS...\n"
     ]
    },
    {
     "name": "stderr",
     "output_type": "stream",
     "text": [
      "[*********************100%***********************]  1 of 1 completed\n",
      "[*********************100%***********************]  1 of 1 completed"
     ]
    },
    {
     "name": "stdout",
     "output_type": "stream",
     "text": [
      "Data for CERA.NS saved to Stock_Data\\CERA.NS.csv.\n",
      "Downloading data for CHALET.NS...\n"
     ]
    },
    {
     "name": "stderr",
     "output_type": "stream",
     "text": [
      "\n"
     ]
    },
    {
     "name": "stdout",
     "output_type": "stream",
     "text": [
      "Data for CHALET.NS saved to Stock_Data\\CHALET.NS.csv.\n",
      "Downloading data for CHAMBLFERT.NS...\n"
     ]
    },
    {
     "name": "stderr",
     "output_type": "stream",
     "text": [
      "[*********************100%***********************]  1 of 1 completed\n",
      "[*********************100%***********************]  1 of 1 completed\n"
     ]
    },
    {
     "name": "stdout",
     "output_type": "stream",
     "text": [
      "Data for CHAMBLFERT.NS saved to Stock_Data\\CHAMBLFERT.NS.csv.\n",
      "Downloading data for CHEMPLASTS.NS...\n",
      "Data for CHEMPLASTS.NS saved to Stock_Data\\CHEMPLASTS.NS.csv.\n",
      "Downloading data for CHENNPETRO.NS...\n"
     ]
    },
    {
     "name": "stderr",
     "output_type": "stream",
     "text": [
      "[*********************100%***********************]  1 of 1 completed\n"
     ]
    },
    {
     "name": "stdout",
     "output_type": "stream",
     "text": [
      "Data for CHENNPETRO.NS saved to Stock_Data\\CHENNPETRO.NS.csv.\n",
      "Downloading data for CHOLAHLDNG.NS...\n"
     ]
    },
    {
     "name": "stderr",
     "output_type": "stream",
     "text": [
      "[*********************100%***********************]  1 of 1 completed\n"
     ]
    },
    {
     "name": "stdout",
     "output_type": "stream",
     "text": [
      "Data for CHOLAHLDNG.NS saved to Stock_Data\\CHOLAHLDNG.NS.csv.\n",
      "Downloading data for CHOLAFIN.NS...\n"
     ]
    },
    {
     "name": "stderr",
     "output_type": "stream",
     "text": [
      "[*********************100%***********************]  1 of 1 completed\n"
     ]
    },
    {
     "name": "stdout",
     "output_type": "stream",
     "text": [
      "Data for CHOLAFIN.NS saved to Stock_Data\\CHOLAFIN.NS.csv.\n",
      "Downloading data for CIPLA.NS...\n"
     ]
    },
    {
     "name": "stderr",
     "output_type": "stream",
     "text": [
      "[*********************100%***********************]  1 of 1 completed\n"
     ]
    },
    {
     "name": "stdout",
     "output_type": "stream",
     "text": [
      "Data for CIPLA.NS saved to Stock_Data\\CIPLA.NS.csv.\n",
      "Downloading data for CUB.NS...\n"
     ]
    },
    {
     "name": "stderr",
     "output_type": "stream",
     "text": [
      "[*********************100%***********************]  1 of 1 completed\n"
     ]
    },
    {
     "name": "stdout",
     "output_type": "stream",
     "text": [
      "Data for CUB.NS saved to Stock_Data\\CUB.NS.csv.\n",
      "Downloading data for CLEAN.NS...\n"
     ]
    },
    {
     "name": "stderr",
     "output_type": "stream",
     "text": [
      "[*********************100%***********************]  1 of 1 completed\n"
     ]
    },
    {
     "name": "stdout",
     "output_type": "stream",
     "text": [
      "Data for CLEAN.NS saved to Stock_Data\\CLEAN.NS.csv.\n",
      "Downloading data for COALINDIA.NS...\n"
     ]
    },
    {
     "name": "stderr",
     "output_type": "stream",
     "text": [
      "[*********************100%***********************]  1 of 1 completed\n"
     ]
    },
    {
     "name": "stdout",
     "output_type": "stream",
     "text": [
      "Data for COALINDIA.NS saved to Stock_Data\\COALINDIA.NS.csv.\n",
      "Downloading data for COCHINSHIP.NS...\n"
     ]
    },
    {
     "name": "stderr",
     "output_type": "stream",
     "text": [
      "[*********************100%***********************]  1 of 1 completed\n"
     ]
    },
    {
     "name": "stdout",
     "output_type": "stream",
     "text": [
      "Data for COCHINSHIP.NS saved to Stock_Data\\COCHINSHIP.NS.csv.\n",
      "Downloading data for COFORGE.NS...\n"
     ]
    },
    {
     "name": "stderr",
     "output_type": "stream",
     "text": [
      "[*********************100%***********************]  1 of 1 completed\n"
     ]
    },
    {
     "name": "stdout",
     "output_type": "stream",
     "text": [
      "Data for COFORGE.NS saved to Stock_Data\\COFORGE.NS.csv.\n",
      "Downloading data for COLPAL.NS...\n"
     ]
    },
    {
     "name": "stderr",
     "output_type": "stream",
     "text": [
      "[*********************100%***********************]  1 of 1 completed\n",
      "[*********************100%***********************]  1 of 1 completed"
     ]
    },
    {
     "name": "stdout",
     "output_type": "stream",
     "text": [
      "Data for COLPAL.NS saved to Stock_Data\\COLPAL.NS.csv.\n",
      "Downloading data for CAMS.NS...\n"
     ]
    },
    {
     "name": "stderr",
     "output_type": "stream",
     "text": [
      "\n"
     ]
    },
    {
     "name": "stdout",
     "output_type": "stream",
     "text": [
      "Data for CAMS.NS saved to Stock_Data\\CAMS.NS.csv.\n",
      "Downloading data for CONCOR.NS...\n"
     ]
    },
    {
     "name": "stderr",
     "output_type": "stream",
     "text": [
      "[*********************100%***********************]  1 of 1 completed\n"
     ]
    },
    {
     "name": "stdout",
     "output_type": "stream",
     "text": [
      "Data for CONCOR.NS saved to Stock_Data\\CONCOR.NS.csv.\n",
      "Downloading data for COROMANDEL.NS...\n"
     ]
    },
    {
     "name": "stderr",
     "output_type": "stream",
     "text": [
      "[*********************100%***********************]  1 of 1 completed\n"
     ]
    },
    {
     "name": "stdout",
     "output_type": "stream",
     "text": [
      "Data for COROMANDEL.NS saved to Stock_Data\\COROMANDEL.NS.csv.\n",
      "Downloading data for CRAFTSMAN.NS...\n"
     ]
    },
    {
     "name": "stderr",
     "output_type": "stream",
     "text": [
      "[*********************100%***********************]  1 of 1 completed\n"
     ]
    },
    {
     "name": "stdout",
     "output_type": "stream",
     "text": [
      "Data for CRAFTSMAN.NS saved to Stock_Data\\CRAFTSMAN.NS.csv.\n",
      "Downloading data for CREDITACC.NS...\n"
     ]
    },
    {
     "name": "stderr",
     "output_type": "stream",
     "text": [
      "[*********************100%***********************]  1 of 1 completed\n"
     ]
    },
    {
     "name": "stdout",
     "output_type": "stream",
     "text": [
      "Data for CREDITACC.NS saved to Stock_Data\\CREDITACC.NS.csv.\n",
      "Downloading data for CROMPTON.NS...\n"
     ]
    },
    {
     "name": "stderr",
     "output_type": "stream",
     "text": [
      "[*********************100%***********************]  1 of 1 completed\n"
     ]
    },
    {
     "name": "stdout",
     "output_type": "stream",
     "text": [
      "Data for CROMPTON.NS saved to Stock_Data\\CROMPTON.NS.csv.\n",
      "Downloading data for CUMMINSIND.NS...\n"
     ]
    },
    {
     "name": "stderr",
     "output_type": "stream",
     "text": [
      "[*********************100%***********************]  1 of 1 completed\n"
     ]
    },
    {
     "name": "stdout",
     "output_type": "stream",
     "text": [
      "Data for CUMMINSIND.NS saved to Stock_Data\\CUMMINSIND.NS.csv.\n",
      "Downloading data for CYIENT.NS...\n"
     ]
    },
    {
     "name": "stderr",
     "output_type": "stream",
     "text": [
      "[*********************100%***********************]  1 of 1 completed\n"
     ]
    },
    {
     "name": "stdout",
     "output_type": "stream",
     "text": [
      "Data for CYIENT.NS saved to Stock_Data\\CYIENT.NS.csv.\n",
      "Downloading data for DLF.NS...\n"
     ]
    },
    {
     "name": "stderr",
     "output_type": "stream",
     "text": [
      "[*********************100%***********************]  1 of 1 completed\n"
     ]
    },
    {
     "name": "stdout",
     "output_type": "stream",
     "text": [
      "Data for DLF.NS saved to Stock_Data\\DLF.NS.csv.\n",
      "Downloading data for DABUR.NS...\n"
     ]
    },
    {
     "name": "stderr",
     "output_type": "stream",
     "text": [
      "[*********************100%***********************]  1 of 1 completed\n"
     ]
    },
    {
     "name": "stdout",
     "output_type": "stream",
     "text": [
      "Data for DABUR.NS saved to Stock_Data\\DABUR.NS.csv.\n",
      "Downloading data for DALBHARAT.NS...\n"
     ]
    },
    {
     "name": "stderr",
     "output_type": "stream",
     "text": [
      "[*********************100%***********************]  1 of 1 completed\n"
     ]
    },
    {
     "name": "stdout",
     "output_type": "stream",
     "text": [
      "Data for DALBHARAT.NS saved to Stock_Data\\DALBHARAT.NS.csv.\n",
      "Downloading data for DATAPATTNS.NS...\n"
     ]
    },
    {
     "name": "stderr",
     "output_type": "stream",
     "text": [
      "[*********************100%***********************]  1 of 1 completed\n"
     ]
    },
    {
     "name": "stdout",
     "output_type": "stream",
     "text": [
      "Data for DATAPATTNS.NS saved to Stock_Data\\DATAPATTNS.NS.csv.\n",
      "Downloading data for DEEPAKFERT.NS...\n"
     ]
    },
    {
     "name": "stderr",
     "output_type": "stream",
     "text": [
      "[*********************100%***********************]  1 of 1 completed\n"
     ]
    },
    {
     "name": "stdout",
     "output_type": "stream",
     "text": [
      "Data for DEEPAKFERT.NS saved to Stock_Data\\DEEPAKFERT.NS.csv.\n",
      "Downloading data for DEEPAKNTR.NS...\n"
     ]
    },
    {
     "name": "stderr",
     "output_type": "stream",
     "text": [
      "[*********************100%***********************]  1 of 1 completed\n"
     ]
    },
    {
     "name": "stdout",
     "output_type": "stream",
     "text": [
      "Data for DEEPAKNTR.NS saved to Stock_Data\\DEEPAKNTR.NS.csv.\n",
      "Downloading data for DEVYANI.NS...\n"
     ]
    },
    {
     "name": "stderr",
     "output_type": "stream",
     "text": [
      "[*********************100%***********************]  1 of 1 completed\n"
     ]
    },
    {
     "name": "stdout",
     "output_type": "stream",
     "text": [
      "Data for DEVYANI.NS saved to Stock_Data\\DEVYANI.NS.csv.\n",
      "Downloading data for DIVISLAB.NS...\n"
     ]
    },
    {
     "name": "stderr",
     "output_type": "stream",
     "text": [
      "[*********************100%***********************]  1 of 1 completed\n"
     ]
    },
    {
     "name": "stdout",
     "output_type": "stream",
     "text": [
      "Data for DIVISLAB.NS saved to Stock_Data\\DIVISLAB.NS.csv.\n",
      "Downloading data for DIXON.NS...\n"
     ]
    },
    {
     "name": "stderr",
     "output_type": "stream",
     "text": [
      "[*********************100%***********************]  1 of 1 completed\n",
      "[*********************100%***********************]  1 of 1 completed"
     ]
    },
    {
     "name": "stdout",
     "output_type": "stream",
     "text": [
      "Data for DIXON.NS saved to Stock_Data\\DIXON.NS.csv.\n",
      "Downloading data for LALPATHLAB.NS...\n",
      "Data for LALPATHLAB.NS saved to Stock_Data\\LALPATHLAB.NS.csv.\n",
      "Downloading data for DRREDDY.NS...\n"
     ]
    },
    {
     "name": "stderr",
     "output_type": "stream",
     "text": [
      "\n",
      "[*********************100%***********************]  1 of 1 completed\n"
     ]
    },
    {
     "name": "stdout",
     "output_type": "stream",
     "text": [
      "Data for DRREDDY.NS saved to Stock_Data\\DRREDDY.NS.csv.\n",
      "Downloading data for EIDPARRY.NS...\n"
     ]
    },
    {
     "name": "stderr",
     "output_type": "stream",
     "text": [
      "[*********************100%***********************]  1 of 1 completed\n"
     ]
    },
    {
     "name": "stdout",
     "output_type": "stream",
     "text": [
      "Data for EIDPARRY.NS saved to Stock_Data\\EIDPARRY.NS.csv.\n",
      "Downloading data for EIHOTEL.NS...\n"
     ]
    },
    {
     "name": "stderr",
     "output_type": "stream",
     "text": [
      "[*********************100%***********************]  1 of 1 completed\n"
     ]
    },
    {
     "name": "stdout",
     "output_type": "stream",
     "text": [
      "Data for EIHOTEL.NS saved to Stock_Data\\EIHOTEL.NS.csv.\n",
      "Downloading data for EASEMYTRIP.NS...\n"
     ]
    },
    {
     "name": "stderr",
     "output_type": "stream",
     "text": [
      "[*********************100%***********************]  1 of 1 completed\n"
     ]
    },
    {
     "name": "stdout",
     "output_type": "stream",
     "text": [
      "Data for EASEMYTRIP.NS saved to Stock_Data\\EASEMYTRIP.NS.csv.\n",
      "Downloading data for EICHERMOT.NS...\n"
     ]
    },
    {
     "name": "stderr",
     "output_type": "stream",
     "text": [
      "[*********************100%***********************]  1 of 1 completed\n"
     ]
    },
    {
     "name": "stdout",
     "output_type": "stream",
     "text": [
      "Data for EICHERMOT.NS saved to Stock_Data\\EICHERMOT.NS.csv.\n",
      "Downloading data for ELECON.NS...\n"
     ]
    },
    {
     "name": "stderr",
     "output_type": "stream",
     "text": [
      "[*********************100%***********************]  1 of 1 completed\n"
     ]
    },
    {
     "name": "stdout",
     "output_type": "stream",
     "text": [
      "Data for ELECON.NS saved to Stock_Data\\ELECON.NS.csv.\n",
      "Downloading data for ELGIEQUIP.NS...\n"
     ]
    },
    {
     "name": "stderr",
     "output_type": "stream",
     "text": [
      "[*********************100%***********************]  1 of 1 completed\n"
     ]
    },
    {
     "name": "stdout",
     "output_type": "stream",
     "text": [
      "Data for ELGIEQUIP.NS saved to Stock_Data\\ELGIEQUIP.NS.csv.\n",
      "Downloading data for EMAMILTD.NS...\n"
     ]
    },
    {
     "name": "stderr",
     "output_type": "stream",
     "text": [
      "[*********************100%***********************]  1 of 1 completed\n"
     ]
    },
    {
     "name": "stdout",
     "output_type": "stream",
     "text": [
      "Data for EMAMILTD.NS saved to Stock_Data\\EMAMILTD.NS.csv.\n",
      "Downloading data for ENDURANCE.NS...\n"
     ]
    },
    {
     "name": "stderr",
     "output_type": "stream",
     "text": [
      "[*********************100%***********************]  1 of 1 completed\n"
     ]
    },
    {
     "name": "stdout",
     "output_type": "stream",
     "text": [
      "Data for ENDURANCE.NS saved to Stock_Data\\ENDURANCE.NS.csv.\n",
      "Downloading data for ENGINERSIN.NS...\n"
     ]
    },
    {
     "name": "stderr",
     "output_type": "stream",
     "text": [
      "[*********************100%***********************]  1 of 1 completed\n",
      "[*********************100%***********************]  1 of 1 completed"
     ]
    },
    {
     "name": "stdout",
     "output_type": "stream",
     "text": [
      "Data for ENGINERSIN.NS saved to Stock_Data\\ENGINERSIN.NS.csv.\n",
      "Downloading data for EQUITASBNK.NS...\n",
      "Data for EQUITASBNK.NS saved to Stock_Data\\EQUITASBNK.NS.csv.\n",
      "Downloading data for ERIS.NS...\n"
     ]
    },
    {
     "name": "stderr",
     "output_type": "stream",
     "text": [
      "\n",
      "[*********************100%***********************]  1 of 1 completed\n"
     ]
    },
    {
     "name": "stdout",
     "output_type": "stream",
     "text": [
      "Data for ERIS.NS saved to Stock_Data\\ERIS.NS.csv.\n",
      "Downloading data for ESCORTS.NS...\n"
     ]
    },
    {
     "name": "stderr",
     "output_type": "stream",
     "text": [
      "[*********************100%***********************]  1 of 1 completed\n"
     ]
    },
    {
     "name": "stdout",
     "output_type": "stream",
     "text": [
      "Data for ESCORTS.NS saved to Stock_Data\\ESCORTS.NS.csv.\n",
      "Downloading data for EXIDEIND.NS...\n"
     ]
    },
    {
     "name": "stderr",
     "output_type": "stream",
     "text": [
      "[*********************100%***********************]  1 of 1 completed\n",
      "[*********************100%***********************]  1 of 1 completed\n"
     ]
    },
    {
     "name": "stdout",
     "output_type": "stream",
     "text": [
      "Data for EXIDEIND.NS saved to Stock_Data\\EXIDEIND.NS.csv.\n",
      "Downloading data for NYKAA.NS...\n",
      "Data for NYKAA.NS saved to Stock_Data\\NYKAA.NS.csv.\n",
      "Downloading data for FEDERALBNK.NS...\n"
     ]
    },
    {
     "name": "stderr",
     "output_type": "stream",
     "text": [
      "[*********************100%***********************]  1 of 1 completed\n"
     ]
    },
    {
     "name": "stdout",
     "output_type": "stream",
     "text": [
      "Data for FEDERALBNK.NS saved to Stock_Data\\FEDERALBNK.NS.csv.\n",
      "Downloading data for FACT.NS...\n"
     ]
    },
    {
     "name": "stderr",
     "output_type": "stream",
     "text": [
      "[*********************100%***********************]  1 of 1 completed\n"
     ]
    },
    {
     "name": "stdout",
     "output_type": "stream",
     "text": [
      "Data for FACT.NS saved to Stock_Data\\FACT.NS.csv.\n",
      "Downloading data for FINEORG.NS...\n"
     ]
    },
    {
     "name": "stderr",
     "output_type": "stream",
     "text": [
      "[*********************100%***********************]  1 of 1 completed\n"
     ]
    },
    {
     "name": "stdout",
     "output_type": "stream",
     "text": [
      "Data for FINEORG.NS saved to Stock_Data\\FINEORG.NS.csv.\n",
      "Downloading data for FINCABLES.NS...\n"
     ]
    },
    {
     "name": "stderr",
     "output_type": "stream",
     "text": [
      "[*********************100%***********************]  1 of 1 completed\n"
     ]
    },
    {
     "name": "stdout",
     "output_type": "stream",
     "text": [
      "Data for FINCABLES.NS saved to Stock_Data\\FINCABLES.NS.csv.\n",
      "Downloading data for FINPIPE.NS...\n"
     ]
    },
    {
     "name": "stderr",
     "output_type": "stream",
     "text": [
      "[*********************100%***********************]  1 of 1 completed\n",
      "[*********************100%***********************]  1 of 1 completed"
     ]
    },
    {
     "name": "stdout",
     "output_type": "stream",
     "text": [
      "Data for FINPIPE.NS saved to Stock_Data\\FINPIPE.NS.csv.\n",
      "Downloading data for FSL.NS...\n"
     ]
    },
    {
     "name": "stderr",
     "output_type": "stream",
     "text": [
      "\n",
      "[*********************100%***********************]  1 of 1 completed"
     ]
    },
    {
     "name": "stdout",
     "output_type": "stream",
     "text": [
      "Data for FSL.NS saved to Stock_Data\\FSL.NS.csv.\n",
      "Downloading data for FORTIS.NS...\n"
     ]
    },
    {
     "name": "stderr",
     "output_type": "stream",
     "text": [
      "\n"
     ]
    },
    {
     "name": "stdout",
     "output_type": "stream",
     "text": [
      "Data for FORTIS.NS saved to Stock_Data\\FORTIS.NS.csv.\n",
      "Downloading data for GRINFRA.NS...\n"
     ]
    },
    {
     "name": "stderr",
     "output_type": "stream",
     "text": [
      "[*********************100%***********************]  1 of 1 completed\n"
     ]
    },
    {
     "name": "stdout",
     "output_type": "stream",
     "text": [
      "Data for GRINFRA.NS saved to Stock_Data\\GRINFRA.NS.csv.\n",
      "Downloading data for GAIL.NS...\n"
     ]
    },
    {
     "name": "stderr",
     "output_type": "stream",
     "text": [
      "[*********************100%***********************]  1 of 1 completed\n"
     ]
    },
    {
     "name": "stdout",
     "output_type": "stream",
     "text": [
      "Data for GAIL.NS saved to Stock_Data\\GAIL.NS.csv.\n",
      "Downloading data for GVT&D.NS...\n"
     ]
    },
    {
     "name": "stderr",
     "output_type": "stream",
     "text": [
      "[*********************100%***********************]  1 of 1 completed\n",
      "[*********************100%***********************]  1 of 1 completed\n"
     ]
    },
    {
     "name": "stdout",
     "output_type": "stream",
     "text": [
      "Data for GVT&D.NS saved to Stock_Data\\GVT&D.NS.csv.\n",
      "Downloading data for GMRAIRPORT.NS...\n",
      "Data for GMRAIRPORT.NS saved to Stock_Data\\GMRAIRPORT.NS.csv.\n",
      "Downloading data for GRSE.NS...\n"
     ]
    },
    {
     "name": "stderr",
     "output_type": "stream",
     "text": [
      "[*********************100%***********************]  1 of 1 completed\n"
     ]
    },
    {
     "name": "stdout",
     "output_type": "stream",
     "text": [
      "Data for GRSE.NS saved to Stock_Data\\GRSE.NS.csv.\n",
      "Downloading data for GICRE.NS...\n"
     ]
    },
    {
     "name": "stderr",
     "output_type": "stream",
     "text": [
      "[*********************100%***********************]  1 of 1 completed\n"
     ]
    },
    {
     "name": "stdout",
     "output_type": "stream",
     "text": [
      "Data for GICRE.NS saved to Stock_Data\\GICRE.NS.csv.\n",
      "Downloading data for GILLETTE.NS...\n"
     ]
    },
    {
     "name": "stderr",
     "output_type": "stream",
     "text": [
      "[*********************100%***********************]  1 of 1 completed\n"
     ]
    },
    {
     "name": "stdout",
     "output_type": "stream",
     "text": [
      "Data for GILLETTE.NS saved to Stock_Data\\GILLETTE.NS.csv.\n",
      "Downloading data for GLAND.NS...\n"
     ]
    },
    {
     "name": "stderr",
     "output_type": "stream",
     "text": [
      "[*********************100%***********************]  1 of 1 completed\n"
     ]
    },
    {
     "name": "stdout",
     "output_type": "stream",
     "text": [
      "Data for GLAND.NS saved to Stock_Data\\GLAND.NS.csv.\n",
      "Downloading data for GLAXO.NS...\n"
     ]
    },
    {
     "name": "stderr",
     "output_type": "stream",
     "text": [
      "[*********************100%***********************]  1 of 1 completed\n"
     ]
    },
    {
     "name": "stdout",
     "output_type": "stream",
     "text": [
      "Data for GLAXO.NS saved to Stock_Data\\GLAXO.NS.csv.\n",
      "Downloading data for GLENMARK.NS...\n"
     ]
    },
    {
     "name": "stderr",
     "output_type": "stream",
     "text": [
      "[*********************100%***********************]  1 of 1 completed\n"
     ]
    },
    {
     "name": "stdout",
     "output_type": "stream",
     "text": [
      "Data for GLENMARK.NS saved to Stock_Data\\GLENMARK.NS.csv.\n",
      "Downloading data for GPIL.NS...\n"
     ]
    },
    {
     "name": "stderr",
     "output_type": "stream",
     "text": [
      "[*********************100%***********************]  1 of 1 completed\n"
     ]
    },
    {
     "name": "stdout",
     "output_type": "stream",
     "text": [
      "Data for GPIL.NS saved to Stock_Data\\GPIL.NS.csv.\n",
      "Downloading data for GODFRYPHLP.NS...\n"
     ]
    },
    {
     "name": "stderr",
     "output_type": "stream",
     "text": [
      "[*********************100%***********************]  1 of 1 completed\n",
      "[*********************100%***********************]  1 of 1 completed"
     ]
    },
    {
     "name": "stdout",
     "output_type": "stream",
     "text": [
      "Data for GODFRYPHLP.NS saved to Stock_Data\\GODFRYPHLP.NS.csv.\n",
      "Downloading data for GODREJAGRO.NS...\n"
     ]
    },
    {
     "name": "stderr",
     "output_type": "stream",
     "text": [
      "\n"
     ]
    },
    {
     "name": "stdout",
     "output_type": "stream",
     "text": [
      "Data for GODREJAGRO.NS saved to Stock_Data\\GODREJAGRO.NS.csv.\n",
      "Downloading data for GODREJCP.NS...\n"
     ]
    },
    {
     "name": "stderr",
     "output_type": "stream",
     "text": [
      "[*********************100%***********************]  1 of 1 completed\n",
      "[*********************100%***********************]  1 of 1 completed"
     ]
    },
    {
     "name": "stdout",
     "output_type": "stream",
     "text": [
      "Data for GODREJCP.NS saved to Stock_Data\\GODREJCP.NS.csv.\n",
      "Downloading data for GODREJPROP.NS...\n",
      "Data for GODREJPROP.NS saved to Stock_Data\\GODREJPROP.NS.csv.\n",
      "Downloading data for GRANULES.NS...\n"
     ]
    },
    {
     "name": "stderr",
     "output_type": "stream",
     "text": [
      "\n",
      "[*********************100%***********************]  1 of 1 completed\n"
     ]
    },
    {
     "name": "stdout",
     "output_type": "stream",
     "text": [
      "Data for GRANULES.NS saved to Stock_Data\\GRANULES.NS.csv.\n",
      "Downloading data for GRAPHITE.NS...\n"
     ]
    },
    {
     "name": "stderr",
     "output_type": "stream",
     "text": [
      "[*********************100%***********************]  1 of 1 completed\n",
      "[*********************100%***********************]  1 of 1 completed"
     ]
    },
    {
     "name": "stdout",
     "output_type": "stream",
     "text": [
      "Data for GRAPHITE.NS saved to Stock_Data\\GRAPHITE.NS.csv.\n",
      "Downloading data for GRASIM.NS...\n"
     ]
    },
    {
     "name": "stderr",
     "output_type": "stream",
     "text": [
      "\n"
     ]
    },
    {
     "name": "stdout",
     "output_type": "stream",
     "text": [
      "Data for GRASIM.NS saved to Stock_Data\\GRASIM.NS.csv.\n",
      "Downloading data for GESHIP.NS...\n"
     ]
    },
    {
     "name": "stderr",
     "output_type": "stream",
     "text": [
      "[*********************100%***********************]  1 of 1 completed\n",
      "[*********************100%***********************]  1 of 1 completed"
     ]
    },
    {
     "name": "stdout",
     "output_type": "stream",
     "text": [
      "Data for GESHIP.NS saved to Stock_Data\\GESHIP.NS.csv.\n",
      "Downloading data for GRINDWELL.NS...\n",
      "Data for GRINDWELL.NS saved to Stock_Data\\GRINDWELL.NS.csv.\n",
      "Downloading data for GAEL.NS...\n"
     ]
    },
    {
     "name": "stderr",
     "output_type": "stream",
     "text": [
      "\n",
      "[*********************100%***********************]  1 of 1 completed\n"
     ]
    },
    {
     "name": "stdout",
     "output_type": "stream",
     "text": [
      "Data for GAEL.NS saved to Stock_Data\\GAEL.NS.csv.\n",
      "Downloading data for FLUOROCHEM.NS...\n"
     ]
    },
    {
     "name": "stderr",
     "output_type": "stream",
     "text": [
      "[*********************100%***********************]  1 of 1 completed\n"
     ]
    },
    {
     "name": "stdout",
     "output_type": "stream",
     "text": [
      "Data for FLUOROCHEM.NS saved to Stock_Data\\FLUOROCHEM.NS.csv.\n",
      "Downloading data for GUJGASLTD.NS...\n"
     ]
    },
    {
     "name": "stderr",
     "output_type": "stream",
     "text": [
      "[*********************100%***********************]  1 of 1 completed\n"
     ]
    },
    {
     "name": "stdout",
     "output_type": "stream",
     "text": [
      "Data for GUJGASLTD.NS saved to Stock_Data\\GUJGASLTD.NS.csv.\n",
      "Downloading data for GMDCLTD.NS...\n"
     ]
    },
    {
     "name": "stderr",
     "output_type": "stream",
     "text": [
      "[*********************100%***********************]  1 of 1 completed\n"
     ]
    },
    {
     "name": "stdout",
     "output_type": "stream",
     "text": [
      "Data for GMDCLTD.NS saved to Stock_Data\\GMDCLTD.NS.csv.\n",
      "Downloading data for GNFC.NS...\n"
     ]
    },
    {
     "name": "stderr",
     "output_type": "stream",
     "text": [
      "[*********************100%***********************]  1 of 1 completed\n",
      "[*********************100%***********************]  1 of 1 completed"
     ]
    },
    {
     "name": "stdout",
     "output_type": "stream",
     "text": [
      "Data for GNFC.NS saved to Stock_Data\\GNFC.NS.csv.\n",
      "Downloading data for GPPL.NS...\n"
     ]
    },
    {
     "name": "stderr",
     "output_type": "stream",
     "text": [
      "\n"
     ]
    },
    {
     "name": "stdout",
     "output_type": "stream",
     "text": [
      "Data for GPPL.NS saved to Stock_Data\\GPPL.NS.csv.\n",
      "Downloading data for GSFC.NS...\n"
     ]
    },
    {
     "name": "stderr",
     "output_type": "stream",
     "text": [
      "[*********************100%***********************]  1 of 1 completed\n",
      "[*********************100%***********************]  1 of 1 completed"
     ]
    },
    {
     "name": "stdout",
     "output_type": "stream",
     "text": [
      "Data for GSFC.NS saved to Stock_Data\\GSFC.NS.csv.\n",
      "Downloading data for GSPL.NS...\n"
     ]
    },
    {
     "name": "stderr",
     "output_type": "stream",
     "text": [
      "\n"
     ]
    },
    {
     "name": "stdout",
     "output_type": "stream",
     "text": [
      "Data for GSPL.NS saved to Stock_Data\\GSPL.NS.csv.\n",
      "Downloading data for HEG.NS...\n"
     ]
    },
    {
     "name": "stderr",
     "output_type": "stream",
     "text": [
      "[*********************100%***********************]  1 of 1 completed\n"
     ]
    },
    {
     "name": "stdout",
     "output_type": "stream",
     "text": [
      "Data for HEG.NS saved to Stock_Data\\HEG.NS.csv.\n",
      "Downloading data for HCLTECH.NS...\n"
     ]
    },
    {
     "name": "stderr",
     "output_type": "stream",
     "text": [
      "[*********************100%***********************]  1 of 1 completed\n"
     ]
    },
    {
     "name": "stdout",
     "output_type": "stream",
     "text": [
      "Data for HCLTECH.NS saved to Stock_Data\\HCLTECH.NS.csv.\n",
      "Downloading data for HDFCAMC.NS...\n"
     ]
    },
    {
     "name": "stderr",
     "output_type": "stream",
     "text": [
      "[*********************100%***********************]  1 of 1 completed\n"
     ]
    },
    {
     "name": "stdout",
     "output_type": "stream",
     "text": [
      "Data for HDFCAMC.NS saved to Stock_Data\\HDFCAMC.NS.csv.\n",
      "Downloading data for HDFCBANK.NS...\n"
     ]
    },
    {
     "name": "stderr",
     "output_type": "stream",
     "text": [
      "[*********************100%***********************]  1 of 1 completed\n"
     ]
    },
    {
     "name": "stdout",
     "output_type": "stream",
     "text": [
      "Data for HDFCBANK.NS saved to Stock_Data\\HDFCBANK.NS.csv.\n",
      "Downloading data for HDFCLIFE.NS...\n"
     ]
    },
    {
     "name": "stderr",
     "output_type": "stream",
     "text": [
      "[*********************100%***********************]  1 of 1 completed\n"
     ]
    },
    {
     "name": "stdout",
     "output_type": "stream",
     "text": [
      "Data for HDFCLIFE.NS saved to Stock_Data\\HDFCLIFE.NS.csv.\n",
      "Downloading data for HFCL.NS...\n"
     ]
    },
    {
     "name": "stderr",
     "output_type": "stream",
     "text": [
      "[*********************100%***********************]  1 of 1 completed\n"
     ]
    },
    {
     "name": "stdout",
     "output_type": "stream",
     "text": [
      "Data for HFCL.NS saved to Stock_Data\\HFCL.NS.csv.\n",
      "Downloading data for HAPPSTMNDS.NS...\n"
     ]
    },
    {
     "name": "stderr",
     "output_type": "stream",
     "text": [
      "[*********************100%***********************]  1 of 1 completed\n"
     ]
    },
    {
     "name": "stdout",
     "output_type": "stream",
     "text": [
      "Data for HAPPSTMNDS.NS saved to Stock_Data\\HAPPSTMNDS.NS.csv.\n",
      "Downloading data for HAVELLS.NS...\n"
     ]
    },
    {
     "name": "stderr",
     "output_type": "stream",
     "text": [
      "[*********************100%***********************]  1 of 1 completed\n"
     ]
    },
    {
     "name": "stdout",
     "output_type": "stream",
     "text": [
      "Data for HAVELLS.NS saved to Stock_Data\\HAVELLS.NS.csv.\n",
      "Downloading data for HEROMOTOCO.NS...\n"
     ]
    },
    {
     "name": "stderr",
     "output_type": "stream",
     "text": [
      "[*********************100%***********************]  1 of 1 completed\n"
     ]
    },
    {
     "name": "stdout",
     "output_type": "stream",
     "text": [
      "Data for HEROMOTOCO.NS saved to Stock_Data\\HEROMOTOCO.NS.csv.\n",
      "Downloading data for HSCL.NS...\n"
     ]
    },
    {
     "name": "stderr",
     "output_type": "stream",
     "text": [
      "[*********************100%***********************]  1 of 1 completed\n"
     ]
    },
    {
     "name": "stdout",
     "output_type": "stream",
     "text": [
      "Data for HSCL.NS saved to Stock_Data\\HSCL.NS.csv.\n",
      "Downloading data for HINDALCO.NS...\n"
     ]
    },
    {
     "name": "stderr",
     "output_type": "stream",
     "text": [
      "[*********************100%***********************]  1 of 1 completed\n"
     ]
    },
    {
     "name": "stdout",
     "output_type": "stream",
     "text": [
      "Data for HINDALCO.NS saved to Stock_Data\\HINDALCO.NS.csv.\n",
      "Downloading data for HAL.NS...\n"
     ]
    },
    {
     "name": "stderr",
     "output_type": "stream",
     "text": [
      "[*********************100%***********************]  1 of 1 completed\n"
     ]
    },
    {
     "name": "stdout",
     "output_type": "stream",
     "text": [
      "Data for HAL.NS saved to Stock_Data\\HAL.NS.csv.\n",
      "Downloading data for HINDCOPPER.NS...\n"
     ]
    },
    {
     "name": "stderr",
     "output_type": "stream",
     "text": [
      "[*********************100%***********************]  1 of 1 completed\n"
     ]
    },
    {
     "name": "stdout",
     "output_type": "stream",
     "text": [
      "Data for HINDCOPPER.NS saved to Stock_Data\\HINDCOPPER.NS.csv.\n",
      "Downloading data for HINDPETRO.NS...\n"
     ]
    },
    {
     "name": "stderr",
     "output_type": "stream",
     "text": [
      "[*********************100%***********************]  1 of 1 completed\n"
     ]
    },
    {
     "name": "stdout",
     "output_type": "stream",
     "text": [
      "Data for HINDPETRO.NS saved to Stock_Data\\HINDPETRO.NS.csv.\n",
      "Downloading data for HINDUNILVR.NS...\n"
     ]
    },
    {
     "name": "stderr",
     "output_type": "stream",
     "text": [
      "[*********************100%***********************]  1 of 1 completed\n"
     ]
    },
    {
     "name": "stdout",
     "output_type": "stream",
     "text": [
      "Data for HINDUNILVR.NS saved to Stock_Data\\HINDUNILVR.NS.csv.\n",
      "Downloading data for HINDZINC.NS...\n"
     ]
    },
    {
     "name": "stderr",
     "output_type": "stream",
     "text": [
      "[*********************100%***********************]  1 of 1 completed\n"
     ]
    },
    {
     "name": "stdout",
     "output_type": "stream",
     "text": [
      "Data for HINDZINC.NS saved to Stock_Data\\HINDZINC.NS.csv.\n",
      "Downloading data for POWERINDIA.NS...\n"
     ]
    },
    {
     "name": "stderr",
     "output_type": "stream",
     "text": [
      "[*********************100%***********************]  1 of 1 completed\n",
      "[*********************100%***********************]  1 of 1 completed"
     ]
    },
    {
     "name": "stdout",
     "output_type": "stream",
     "text": [
      "Data for POWERINDIA.NS saved to Stock_Data\\POWERINDIA.NS.csv.\n",
      "Downloading data for HOMEFIRST.NS...\n"
     ]
    },
    {
     "name": "stderr",
     "output_type": "stream",
     "text": [
      "\n"
     ]
    },
    {
     "name": "stdout",
     "output_type": "stream",
     "text": [
      "Data for HOMEFIRST.NS saved to Stock_Data\\HOMEFIRST.NS.csv.\n",
      "Downloading data for HONAUT.NS...\n"
     ]
    },
    {
     "name": "stderr",
     "output_type": "stream",
     "text": [
      "[*********************100%***********************]  1 of 1 completed\n"
     ]
    },
    {
     "name": "stdout",
     "output_type": "stream",
     "text": [
      "Data for HONAUT.NS saved to Stock_Data\\HONAUT.NS.csv.\n",
      "Downloading data for HUDCO.NS...\n"
     ]
    },
    {
     "name": "stderr",
     "output_type": "stream",
     "text": [
      "[*********************100%***********************]  1 of 1 completed\n"
     ]
    },
    {
     "name": "stdout",
     "output_type": "stream",
     "text": [
      "Data for HUDCO.NS saved to Stock_Data\\HUDCO.NS.csv.\n",
      "Downloading data for ICICIBANK.NS...\n"
     ]
    },
    {
     "name": "stderr",
     "output_type": "stream",
     "text": [
      "[*********************100%***********************]  1 of 1 completed\n"
     ]
    },
    {
     "name": "stdout",
     "output_type": "stream",
     "text": [
      "Data for ICICIBANK.NS saved to Stock_Data\\ICICIBANK.NS.csv.\n",
      "Downloading data for ICICIGI.NS...\n"
     ]
    },
    {
     "name": "stderr",
     "output_type": "stream",
     "text": [
      "[*********************100%***********************]  1 of 1 completed\n",
      "[*********************100%***********************]  1 of 1 completed"
     ]
    },
    {
     "name": "stdout",
     "output_type": "stream",
     "text": [
      "Data for ICICIGI.NS saved to Stock_Data\\ICICIGI.NS.csv.\n",
      "Downloading data for ICICIPRULI.NS...\n"
     ]
    },
    {
     "name": "stderr",
     "output_type": "stream",
     "text": [
      "\n"
     ]
    },
    {
     "name": "stdout",
     "output_type": "stream",
     "text": [
      "Data for ICICIPRULI.NS saved to Stock_Data\\ICICIPRULI.NS.csv.\n",
      "Downloading data for ISEC.NS...\n"
     ]
    },
    {
     "name": "stderr",
     "output_type": "stream",
     "text": [
      "[*********************100%***********************]  1 of 1 completed\n"
     ]
    },
    {
     "name": "stdout",
     "output_type": "stream",
     "text": [
      "Data for ISEC.NS saved to Stock_Data\\ISEC.NS.csv.\n",
      "Downloading data for IDBI.NS...\n"
     ]
    },
    {
     "name": "stderr",
     "output_type": "stream",
     "text": [
      "[*********************100%***********************]  1 of 1 completed\n",
      "[*********************100%***********************]  1 of 1 completed\n"
     ]
    },
    {
     "name": "stdout",
     "output_type": "stream",
     "text": [
      "Data for IDBI.NS saved to Stock_Data\\IDBI.NS.csv.\n",
      "Downloading data for IDFCFIRSTB.NS...\n",
      "Data for IDFCFIRSTB.NS saved to Stock_Data\\IDFCFIRSTB.NS.csv.\n",
      "Downloading data for IFCI.NS...\n"
     ]
    },
    {
     "name": "stderr",
     "output_type": "stream",
     "text": [
      "[*********************100%***********************]  1 of 1 completed\n",
      "[*********************100%***********************]  1 of 1 completed"
     ]
    },
    {
     "name": "stdout",
     "output_type": "stream",
     "text": [
      "Data for IFCI.NS saved to Stock_Data\\IFCI.NS.csv.\n",
      "Downloading data for IIFL.NS...\n"
     ]
    },
    {
     "name": "stderr",
     "output_type": "stream",
     "text": [
      "\n"
     ]
    },
    {
     "name": "stdout",
     "output_type": "stream",
     "text": [
      "Data for IIFL.NS saved to Stock_Data\\IIFL.NS.csv.\n",
      "Downloading data for IRB.NS...\n"
     ]
    },
    {
     "name": "stderr",
     "output_type": "stream",
     "text": [
      "[*********************100%***********************]  1 of 1 completed\n"
     ]
    },
    {
     "name": "stdout",
     "output_type": "stream",
     "text": [
      "Data for IRB.NS saved to Stock_Data\\IRB.NS.csv.\n",
      "Downloading data for IRCON.NS...\n"
     ]
    },
    {
     "name": "stderr",
     "output_type": "stream",
     "text": [
      "[*********************100%***********************]  1 of 1 completed\n"
     ]
    },
    {
     "name": "stdout",
     "output_type": "stream",
     "text": [
      "Data for IRCON.NS saved to Stock_Data\\IRCON.NS.csv.\n",
      "Downloading data for ITC.NS...\n"
     ]
    },
    {
     "name": "stderr",
     "output_type": "stream",
     "text": [
      "[*********************100%***********************]  1 of 1 completed\n"
     ]
    },
    {
     "name": "stdout",
     "output_type": "stream",
     "text": [
      "Data for ITC.NS saved to Stock_Data\\ITC.NS.csv.\n",
      "Downloading data for ITI.NS...\n"
     ]
    },
    {
     "name": "stderr",
     "output_type": "stream",
     "text": [
      "[*********************100%***********************]  1 of 1 completed\n"
     ]
    },
    {
     "name": "stdout",
     "output_type": "stream",
     "text": [
      "Data for ITI.NS saved to Stock_Data\\ITI.NS.csv.\n",
      "Downloading data for INDIACEM.NS...\n"
     ]
    },
    {
     "name": "stderr",
     "output_type": "stream",
     "text": [
      "[*********************100%***********************]  1 of 1 completed\n"
     ]
    },
    {
     "name": "stdout",
     "output_type": "stream",
     "text": [
      "Data for INDIACEM.NS saved to Stock_Data\\INDIACEM.NS.csv.\n",
      "Downloading data for INDIAMART.NS...\n"
     ]
    },
    {
     "name": "stderr",
     "output_type": "stream",
     "text": [
      "[*********************100%***********************]  1 of 1 completed\n"
     ]
    },
    {
     "name": "stdout",
     "output_type": "stream",
     "text": [
      "Data for INDIAMART.NS saved to Stock_Data\\INDIAMART.NS.csv.\n",
      "Downloading data for INDIANB.NS...\n"
     ]
    },
    {
     "name": "stderr",
     "output_type": "stream",
     "text": [
      "[*********************100%***********************]  1 of 1 completed\n"
     ]
    },
    {
     "name": "stdout",
     "output_type": "stream",
     "text": [
      "Data for INDIANB.NS saved to Stock_Data\\INDIANB.NS.csv.\n",
      "Downloading data for IEX.NS...\n"
     ]
    },
    {
     "name": "stderr",
     "output_type": "stream",
     "text": [
      "[*********************100%***********************]  1 of 1 completed\n"
     ]
    },
    {
     "name": "stdout",
     "output_type": "stream",
     "text": [
      "Data for IEX.NS saved to Stock_Data\\IEX.NS.csv.\n",
      "Downloading data for INDHOTEL.NS...\n"
     ]
    },
    {
     "name": "stderr",
     "output_type": "stream",
     "text": [
      "[*********************100%***********************]  1 of 1 completed\n"
     ]
    },
    {
     "name": "stdout",
     "output_type": "stream",
     "text": [
      "Data for INDHOTEL.NS saved to Stock_Data\\INDHOTEL.NS.csv.\n",
      "Downloading data for IOC.NS...\n"
     ]
    },
    {
     "name": "stderr",
     "output_type": "stream",
     "text": [
      "[*********************100%***********************]  1 of 1 completed\n"
     ]
    },
    {
     "name": "stdout",
     "output_type": "stream",
     "text": [
      "Data for IOC.NS saved to Stock_Data\\IOC.NS.csv.\n",
      "Downloading data for IOB.NS...\n"
     ]
    },
    {
     "name": "stderr",
     "output_type": "stream",
     "text": [
      "[*********************100%***********************]  1 of 1 completed\n"
     ]
    },
    {
     "name": "stdout",
     "output_type": "stream",
     "text": [
      "Data for IOB.NS saved to Stock_Data\\IOB.NS.csv.\n",
      "Downloading data for IRCTC.NS...\n"
     ]
    },
    {
     "name": "stderr",
     "output_type": "stream",
     "text": [
      "[*********************100%***********************]  1 of 1 completed\n"
     ]
    },
    {
     "name": "stdout",
     "output_type": "stream",
     "text": [
      "Data for IRCTC.NS saved to Stock_Data\\IRCTC.NS.csv.\n",
      "Downloading data for IRFC.NS...\n"
     ]
    },
    {
     "name": "stderr",
     "output_type": "stream",
     "text": [
      "[*********************100%***********************]  1 of 1 completed\n"
     ]
    },
    {
     "name": "stdout",
     "output_type": "stream",
     "text": [
      "Data for IRFC.NS saved to Stock_Data\\IRFC.NS.csv.\n",
      "Downloading data for IGL.NS...\n"
     ]
    },
    {
     "name": "stderr",
     "output_type": "stream",
     "text": [
      "[*********************100%***********************]  1 of 1 completed\n",
      "[*********************100%***********************]  1 of 1 completed"
     ]
    },
    {
     "name": "stdout",
     "output_type": "stream",
     "text": [
      "Data for IGL.NS saved to Stock_Data\\IGL.NS.csv.\n",
      "Downloading data for INDUSTOWER.NS...\n"
     ]
    },
    {
     "name": "stderr",
     "output_type": "stream",
     "text": [
      "\n"
     ]
    },
    {
     "name": "stdout",
     "output_type": "stream",
     "text": [
      "Data for INDUSTOWER.NS saved to Stock_Data\\INDUSTOWER.NS.csv.\n",
      "Downloading data for INDUSINDBK.NS...\n"
     ]
    },
    {
     "name": "stderr",
     "output_type": "stream",
     "text": [
      "[*********************100%***********************]  1 of 1 completed\n",
      "[*********************100%***********************]  1 of 1 completed"
     ]
    },
    {
     "name": "stdout",
     "output_type": "stream",
     "text": [
      "Data for INDUSINDBK.NS saved to Stock_Data\\INDUSINDBK.NS.csv.\n",
      "Downloading data for NAUKRI.NS...\n"
     ]
    },
    {
     "name": "stderr",
     "output_type": "stream",
     "text": [
      "\n"
     ]
    },
    {
     "name": "stdout",
     "output_type": "stream",
     "text": [
      "Data for NAUKRI.NS saved to Stock_Data\\NAUKRI.NS.csv.\n",
      "Downloading data for INFY.NS...\n"
     ]
    },
    {
     "name": "stderr",
     "output_type": "stream",
     "text": [
      "[*********************100%***********************]  1 of 1 completed\n",
      "[*********************100%***********************]  1 of 1 completed"
     ]
    },
    {
     "name": "stdout",
     "output_type": "stream",
     "text": [
      "Data for INFY.NS saved to Stock_Data\\INFY.NS.csv.\n",
      "Downloading data for INOXWIND.NS...\n",
      "Data for INOXWIND.NS saved to Stock_Data\\INOXWIND.NS.csv.\n",
      "Downloading data for INTELLECT.NS...\n"
     ]
    },
    {
     "name": "stderr",
     "output_type": "stream",
     "text": [
      "\n",
      "[*********************100%***********************]  1 of 1 completed\n",
      "[*********************100%***********************]  1 of 1 completed"
     ]
    },
    {
     "name": "stdout",
     "output_type": "stream",
     "text": [
      "Data for INTELLECT.NS saved to Stock_Data\\INTELLECT.NS.csv.\n",
      "Downloading data for INDIGO.NS...\n"
     ]
    },
    {
     "name": "stderr",
     "output_type": "stream",
     "text": [
      "\n"
     ]
    },
    {
     "name": "stdout",
     "output_type": "stream",
     "text": [
      "Data for INDIGO.NS saved to Stock_Data\\INDIGO.NS.csv.\n",
      "Downloading data for IPCALAB.NS...\n"
     ]
    },
    {
     "name": "stderr",
     "output_type": "stream",
     "text": [
      "[*********************100%***********************]  1 of 1 completed\n"
     ]
    },
    {
     "name": "stdout",
     "output_type": "stream",
     "text": [
      "Data for IPCALAB.NS saved to Stock_Data\\IPCALAB.NS.csv.\n",
      "Downloading data for JBCHEPHARM.NS...\n"
     ]
    },
    {
     "name": "stderr",
     "output_type": "stream",
     "text": [
      "[*********************100%***********************]  1 of 1 completed\n"
     ]
    },
    {
     "name": "stdout",
     "output_type": "stream",
     "text": [
      "Data for JBCHEPHARM.NS saved to Stock_Data\\JBCHEPHARM.NS.csv.\n",
      "Downloading data for JKCEMENT.NS...\n"
     ]
    },
    {
     "name": "stderr",
     "output_type": "stream",
     "text": [
      "[*********************100%***********************]  1 of 1 completed\n"
     ]
    },
    {
     "name": "stdout",
     "output_type": "stream",
     "text": [
      "Data for JKCEMENT.NS saved to Stock_Data\\JKCEMENT.NS.csv.\n",
      "Downloading data for JBMA.NS...\n"
     ]
    },
    {
     "name": "stderr",
     "output_type": "stream",
     "text": [
      "[*********************100%***********************]  1 of 1 completed\n"
     ]
    },
    {
     "name": "stdout",
     "output_type": "stream",
     "text": [
      "Data for JBMA.NS saved to Stock_Data\\JBMA.NS.csv.\n",
      "Downloading data for JKLAKSHMI.NS...\n"
     ]
    },
    {
     "name": "stderr",
     "output_type": "stream",
     "text": [
      "[*********************100%***********************]  1 of 1 completed\n"
     ]
    },
    {
     "name": "stdout",
     "output_type": "stream",
     "text": [
      "Data for JKLAKSHMI.NS saved to Stock_Data\\JKLAKSHMI.NS.csv.\n",
      "Downloading data for JKTYRE.NS...\n"
     ]
    },
    {
     "name": "stderr",
     "output_type": "stream",
     "text": [
      "[*********************100%***********************]  1 of 1 completed\n"
     ]
    },
    {
     "name": "stdout",
     "output_type": "stream",
     "text": [
      "Data for JKTYRE.NS saved to Stock_Data\\JKTYRE.NS.csv.\n",
      "Downloading data for JMFINANCIL.NS...\n"
     ]
    },
    {
     "name": "stderr",
     "output_type": "stream",
     "text": [
      "[*********************100%***********************]  1 of 1 completed\n"
     ]
    },
    {
     "name": "stdout",
     "output_type": "stream",
     "text": [
      "Data for JMFINANCIL.NS saved to Stock_Data\\JMFINANCIL.NS.csv.\n",
      "Downloading data for JSWENERGY.NS...\n"
     ]
    },
    {
     "name": "stderr",
     "output_type": "stream",
     "text": [
      "[*********************100%***********************]  1 of 1 completed\n"
     ]
    },
    {
     "name": "stdout",
     "output_type": "stream",
     "text": [
      "Data for JSWENERGY.NS saved to Stock_Data\\JSWENERGY.NS.csv.\n",
      "Downloading data for JSWSTEEL.NS...\n"
     ]
    },
    {
     "name": "stderr",
     "output_type": "stream",
     "text": [
      "[*********************100%***********************]  1 of 1 completed\n",
      "[*********************100%***********************]  1 of 1 completed\n"
     ]
    },
    {
     "name": "stdout",
     "output_type": "stream",
     "text": [
      "Data for JSWSTEEL.NS saved to Stock_Data\\JSWSTEEL.NS.csv.\n",
      "Downloading data for JPPOWER.NS...\n",
      "Data for JPPOWER.NS saved to Stock_Data\\JPPOWER.NS.csv.\n",
      "Downloading data for J&KBANK.NS...\n"
     ]
    },
    {
     "name": "stderr",
     "output_type": "stream",
     "text": [
      "[*********************100%***********************]  1 of 1 completed\n"
     ]
    },
    {
     "name": "stdout",
     "output_type": "stream",
     "text": [
      "Data for J&KBANK.NS saved to Stock_Data\\J&KBANK.NS.csv.\n",
      "Downloading data for JINDALSAW.NS...\n"
     ]
    },
    {
     "name": "stderr",
     "output_type": "stream",
     "text": [
      "[*********************100%***********************]  1 of 1 completed\n",
      "[*********************100%***********************]  1 of 1 completed\n"
     ]
    },
    {
     "name": "stdout",
     "output_type": "stream",
     "text": [
      "Data for JINDALSAW.NS saved to Stock_Data\\JINDALSAW.NS.csv.\n",
      "Downloading data for JSL.NS...\n",
      "Data for JSL.NS saved to Stock_Data\\JSL.NS.csv.\n",
      "Downloading data for JINDALSTEL.NS...\n"
     ]
    },
    {
     "name": "stderr",
     "output_type": "stream",
     "text": [
      "[*********************100%***********************]  1 of 1 completed\n"
     ]
    },
    {
     "name": "stdout",
     "output_type": "stream",
     "text": [
      "Data for JINDALSTEL.NS saved to Stock_Data\\JINDALSTEL.NS.csv.\n",
      "Downloading data for JUBLFOOD.NS...\n"
     ]
    },
    {
     "name": "stderr",
     "output_type": "stream",
     "text": [
      "[*********************100%***********************]  1 of 1 completed\n"
     ]
    },
    {
     "name": "stdout",
     "output_type": "stream",
     "text": [
      "Data for JUBLFOOD.NS saved to Stock_Data\\JUBLFOOD.NS.csv.\n",
      "Downloading data for JUBLINGREA.NS...\n"
     ]
    },
    {
     "name": "stderr",
     "output_type": "stream",
     "text": [
      "[*********************100%***********************]  1 of 1 completed\n"
     ]
    },
    {
     "name": "stdout",
     "output_type": "stream",
     "text": [
      "Data for JUBLINGREA.NS saved to Stock_Data\\JUBLINGREA.NS.csv.\n",
      "Downloading data for JUBLPHARMA.NS...\n"
     ]
    },
    {
     "name": "stderr",
     "output_type": "stream",
     "text": [
      "[*********************100%***********************]  1 of 1 completed\n"
     ]
    },
    {
     "name": "stdout",
     "output_type": "stream",
     "text": [
      "Data for JUBLPHARMA.NS saved to Stock_Data\\JUBLPHARMA.NS.csv.\n",
      "Downloading data for JWL.NS...\n"
     ]
    },
    {
     "name": "stderr",
     "output_type": "stream",
     "text": [
      "[*********************100%***********************]  1 of 1 completed\n",
      "[*********************100%***********************]  1 of 1 completed"
     ]
    },
    {
     "name": "stdout",
     "output_type": "stream",
     "text": [
      "Data for JWL.NS saved to Stock_Data\\JWL.NS.csv.\n",
      "Downloading data for JUSTDIAL.NS...\n",
      "Data for JUSTDIAL.NS saved to Stock_Data\\JUSTDIAL.NS.csv.\n",
      "Downloading data for JYOTHYLAB.NS...\n"
     ]
    },
    {
     "name": "stderr",
     "output_type": "stream",
     "text": [
      "\n",
      "[*********************100%***********************]  1 of 1 completed\n",
      "[*********************100%***********************]  1 of 1 completed\n"
     ]
    },
    {
     "name": "stdout",
     "output_type": "stream",
     "text": [
      "Data for JYOTHYLAB.NS saved to Stock_Data\\JYOTHYLAB.NS.csv.\n",
      "Downloading data for KPRMILL.NS...\n"
     ]
    },
    {
     "name": "stderr",
     "output_type": "stream",
     "text": [
      "[*********************100%***********************]  1 of 1 completed"
     ]
    },
    {
     "name": "stdout",
     "output_type": "stream",
     "text": [
      "Data for KPRMILL.NS saved to Stock_Data\\KPRMILL.NS.csv.\n",
      "Downloading data for KEI.NS...\n",
      "Data for KEI.NS saved to Stock_Data\\KEI.NS.csv.\n",
      "Downloading data for KNRCON.NS...\n"
     ]
    },
    {
     "name": "stderr",
     "output_type": "stream",
     "text": [
      "\n",
      "[*********************100%***********************]  1 of 1 completed\n"
     ]
    },
    {
     "name": "stdout",
     "output_type": "stream",
     "text": [
      "Data for KNRCON.NS saved to Stock_Data\\KNRCON.NS.csv.\n",
      "Downloading data for KPITTECH.NS...\n"
     ]
    },
    {
     "name": "stderr",
     "output_type": "stream",
     "text": [
      "[*********************100%***********************]  1 of 1 completed\n"
     ]
    },
    {
     "name": "stdout",
     "output_type": "stream",
     "text": [
      "Data for KPITTECH.NS saved to Stock_Data\\KPITTECH.NS.csv.\n",
      "Downloading data for KSB.NS...\n"
     ]
    },
    {
     "name": "stderr",
     "output_type": "stream",
     "text": [
      "[*********************100%***********************]  1 of 1 completed\n"
     ]
    },
    {
     "name": "stdout",
     "output_type": "stream",
     "text": [
      "Data for KSB.NS saved to Stock_Data\\KSB.NS.csv.\n",
      "Downloading data for KAJARIACER.NS...\n"
     ]
    },
    {
     "name": "stderr",
     "output_type": "stream",
     "text": [
      "[*********************100%***********************]  1 of 1 completed\n"
     ]
    },
    {
     "name": "stdout",
     "output_type": "stream",
     "text": [
      "Data for KAJARIACER.NS saved to Stock_Data\\KAJARIACER.NS.csv.\n",
      "Downloading data for KALYANKJIL.NS...\n"
     ]
    },
    {
     "name": "stderr",
     "output_type": "stream",
     "text": [
      "[*********************100%***********************]  1 of 1 completed\n"
     ]
    },
    {
     "name": "stdout",
     "output_type": "stream",
     "text": [
      "Data for KALYANKJIL.NS saved to Stock_Data\\KALYANKJIL.NS.csv.\n",
      "Downloading data for KANSAINER.NS...\n"
     ]
    },
    {
     "name": "stderr",
     "output_type": "stream",
     "text": [
      "[*********************100%***********************]  1 of 1 completed\n"
     ]
    },
    {
     "name": "stdout",
     "output_type": "stream",
     "text": [
      "Data for KANSAINER.NS saved to Stock_Data\\KANSAINER.NS.csv.\n",
      "Downloading data for KARURVYSYA.NS...\n"
     ]
    },
    {
     "name": "stderr",
     "output_type": "stream",
     "text": [
      "[*********************100%***********************]  1 of 1 completed\n"
     ]
    },
    {
     "name": "stdout",
     "output_type": "stream",
     "text": [
      "Data for KARURVYSYA.NS saved to Stock_Data\\KARURVYSYA.NS.csv.\n",
      "Downloading data for KEC.NS...\n"
     ]
    },
    {
     "name": "stderr",
     "output_type": "stream",
     "text": [
      "[*********************100%***********************]  1 of 1 completed\n",
      "[*********************100%***********************]  1 of 1 completed"
     ]
    },
    {
     "name": "stdout",
     "output_type": "stream",
     "text": [
      "Data for KEC.NS saved to Stock_Data\\KEC.NS.csv.\n",
      "Downloading data for KIRLOSBROS.NS...\n"
     ]
    },
    {
     "name": "stderr",
     "output_type": "stream",
     "text": [
      "\n"
     ]
    },
    {
     "name": "stdout",
     "output_type": "stream",
     "text": [
      "Data for KIRLOSBROS.NS saved to Stock_Data\\KIRLOSBROS.NS.csv.\n",
      "Downloading data for KIRLOSENG.NS...\n"
     ]
    },
    {
     "name": "stderr",
     "output_type": "stream",
     "text": [
      "[*********************100%***********************]  1 of 1 completed\n",
      "[*********************100%***********************]  1 of 1 completed"
     ]
    },
    {
     "name": "stdout",
     "output_type": "stream",
     "text": [
      "Data for KIRLOSENG.NS saved to Stock_Data\\KIRLOSENG.NS.csv.\n",
      "Downloading data for KOTAKBANK.NS...\n"
     ]
    },
    {
     "name": "stderr",
     "output_type": "stream",
     "text": [
      "\n"
     ]
    },
    {
     "name": "stdout",
     "output_type": "stream",
     "text": [
      "Data for KOTAKBANK.NS saved to Stock_Data\\KOTAKBANK.NS.csv.\n",
      "Downloading data for KIMS.NS...\n"
     ]
    },
    {
     "name": "stderr",
     "output_type": "stream",
     "text": [
      "[*********************100%***********************]  1 of 1 completed\n",
      "[*********************100%***********************]  1 of 1 completed"
     ]
    },
    {
     "name": "stdout",
     "output_type": "stream",
     "text": [
      "Data for KIMS.NS saved to Stock_Data\\KIMS.NS.csv.\n",
      "Downloading data for LTF.NS...\n"
     ]
    },
    {
     "name": "stderr",
     "output_type": "stream",
     "text": [
      "\n"
     ]
    },
    {
     "name": "stdout",
     "output_type": "stream",
     "text": [
      "Data for LTF.NS saved to Stock_Data\\LTF.NS.csv.\n",
      "Downloading data for LTTS.NS...\n"
     ]
    },
    {
     "name": "stderr",
     "output_type": "stream",
     "text": [
      "[*********************100%***********************]  1 of 1 completed\n"
     ]
    },
    {
     "name": "stdout",
     "output_type": "stream",
     "text": [
      "Data for LTTS.NS saved to Stock_Data\\LTTS.NS.csv.\n",
      "Downloading data for LICHSGFIN.NS...\n"
     ]
    },
    {
     "name": "stderr",
     "output_type": "stream",
     "text": [
      "[*********************100%***********************]  1 of 1 completed\n"
     ]
    },
    {
     "name": "stdout",
     "output_type": "stream",
     "text": [
      "Data for LICHSGFIN.NS saved to Stock_Data\\LICHSGFIN.NS.csv.\n",
      "Downloading data for LTIM.NS...\n"
     ]
    },
    {
     "name": "stderr",
     "output_type": "stream",
     "text": [
      "[*********************100%***********************]  1 of 1 completed\n"
     ]
    },
    {
     "name": "stdout",
     "output_type": "stream",
     "text": [
      "Data for LTIM.NS saved to Stock_Data\\LTIM.NS.csv.\n",
      "Downloading data for LT.NS...\n"
     ]
    },
    {
     "name": "stderr",
     "output_type": "stream",
     "text": [
      "[*********************100%***********************]  1 of 1 completed\n",
      "[*********************100%***********************]  1 of 1 completed\n"
     ]
    },
    {
     "name": "stdout",
     "output_type": "stream",
     "text": [
      "Data for LT.NS saved to Stock_Data\\LT.NS.csv.\n",
      "Downloading data for LATENTVIEW.NS...\n",
      "Data for LATENTVIEW.NS saved to Stock_Data\\LATENTVIEW.NS.csv.\n",
      "Downloading data for LAURUSLABS.NS...\n"
     ]
    },
    {
     "name": "stderr",
     "output_type": "stream",
     "text": [
      "[*********************100%***********************]  1 of 1 completed\n"
     ]
    },
    {
     "name": "stdout",
     "output_type": "stream",
     "text": [
      "Data for LAURUSLABS.NS saved to Stock_Data\\LAURUSLABS.NS.csv.\n",
      "Downloading data for LEMONTREE.NS...\n"
     ]
    },
    {
     "name": "stderr",
     "output_type": "stream",
     "text": [
      "[*********************100%***********************]  1 of 1 completed\n"
     ]
    },
    {
     "name": "stdout",
     "output_type": "stream",
     "text": [
      "Data for LEMONTREE.NS saved to Stock_Data\\LEMONTREE.NS.csv.\n",
      "Downloading data for LINDEINDIA.NS...\n"
     ]
    },
    {
     "name": "stderr",
     "output_type": "stream",
     "text": [
      "[*********************100%***********************]  1 of 1 completed\n"
     ]
    },
    {
     "name": "stdout",
     "output_type": "stream",
     "text": [
      "Data for LINDEINDIA.NS saved to Stock_Data\\LINDEINDIA.NS.csv.\n",
      "Downloading data for LUPIN.NS...\n"
     ]
    },
    {
     "name": "stderr",
     "output_type": "stream",
     "text": [
      "[*********************100%***********************]  1 of 1 completed\n",
      "[*********************100%***********************]  1 of 1 completed"
     ]
    },
    {
     "name": "stdout",
     "output_type": "stream",
     "text": [
      "Data for LUPIN.NS saved to Stock_Data\\LUPIN.NS.csv.\n",
      "Downloading data for MMTC.NS...\n",
      "Data for MMTC.NS saved to Stock_Data\\MMTC.NS.csv.\n",
      "Downloading data for MRF.NS...\n"
     ]
    },
    {
     "name": "stderr",
     "output_type": "stream",
     "text": [
      "\n",
      "[*********************100%***********************]  1 of 1 completed\n",
      "[*********************100%***********************]  1 of 1 completed"
     ]
    },
    {
     "name": "stdout",
     "output_type": "stream",
     "text": [
      "Data for MRF.NS saved to Stock_Data\\MRF.NS.csv.\n",
      "Downloading data for LODHA.NS...\n"
     ]
    },
    {
     "name": "stderr",
     "output_type": "stream",
     "text": [
      "\n"
     ]
    },
    {
     "name": "stdout",
     "output_type": "stream",
     "text": [
      "Data for LODHA.NS saved to Stock_Data\\LODHA.NS.csv.\n",
      "Downloading data for MGL.NS...\n"
     ]
    },
    {
     "name": "stderr",
     "output_type": "stream",
     "text": [
      "[*********************100%***********************]  1 of 1 completed\n"
     ]
    },
    {
     "name": "stdout",
     "output_type": "stream",
     "text": [
      "Data for MGL.NS saved to Stock_Data\\MGL.NS.csv.\n",
      "Downloading data for MAHSEAMLES.NS...\n"
     ]
    },
    {
     "name": "stderr",
     "output_type": "stream",
     "text": [
      "[*********************100%***********************]  1 of 1 completed\n",
      "[*********************100%***********************]  1 of 1 completed"
     ]
    },
    {
     "name": "stdout",
     "output_type": "stream",
     "text": [
      "Data for MAHSEAMLES.NS saved to Stock_Data\\MAHSEAMLES.NS.csv.\n",
      "Downloading data for M&MFIN.NS...\n"
     ]
    },
    {
     "name": "stderr",
     "output_type": "stream",
     "text": [
      "\n"
     ]
    },
    {
     "name": "stdout",
     "output_type": "stream",
     "text": [
      "Data for M&MFIN.NS saved to Stock_Data\\M&MFIN.NS.csv.\n",
      "Downloading data for M&M.NS...\n"
     ]
    },
    {
     "name": "stderr",
     "output_type": "stream",
     "text": [
      "[*********************100%***********************]  1 of 1 completed\n",
      "[*********************100%***********************]  1 of 1 completed"
     ]
    },
    {
     "name": "stdout",
     "output_type": "stream",
     "text": [
      "Data for M&M.NS saved to Stock_Data\\M&M.NS.csv.\n",
      "Downloading data for MAHLIFE.NS...\n"
     ]
    },
    {
     "name": "stderr",
     "output_type": "stream",
     "text": [
      "\n"
     ]
    },
    {
     "name": "stdout",
     "output_type": "stream",
     "text": [
      "Data for MAHLIFE.NS saved to Stock_Data\\MAHLIFE.NS.csv.\n",
      "Downloading data for MANAPPURAM.NS...\n"
     ]
    },
    {
     "name": "stderr",
     "output_type": "stream",
     "text": [
      "[*********************100%***********************]  1 of 1 completed\n"
     ]
    },
    {
     "name": "stdout",
     "output_type": "stream",
     "text": [
      "Data for MANAPPURAM.NS saved to Stock_Data\\MANAPPURAM.NS.csv.\n",
      "Downloading data for MRPL.NS...\n"
     ]
    },
    {
     "name": "stderr",
     "output_type": "stream",
     "text": [
      "[*********************100%***********************]  1 of 1 completed\n"
     ]
    },
    {
     "name": "stdout",
     "output_type": "stream",
     "text": [
      "Data for MRPL.NS saved to Stock_Data\\MRPL.NS.csv.\n",
      "Downloading data for MARICO.NS...\n"
     ]
    },
    {
     "name": "stderr",
     "output_type": "stream",
     "text": [
      "[*********************100%***********************]  1 of 1 completed\n"
     ]
    },
    {
     "name": "stdout",
     "output_type": "stream",
     "text": [
      "Data for MARICO.NS saved to Stock_Data\\MARICO.NS.csv.\n",
      "Downloading data for MARUTI.NS...\n"
     ]
    },
    {
     "name": "stderr",
     "output_type": "stream",
     "text": [
      "[*********************100%***********************]  1 of 1 completed\n"
     ]
    },
    {
     "name": "stdout",
     "output_type": "stream",
     "text": [
      "Data for MARUTI.NS saved to Stock_Data\\MARUTI.NS.csv.\n",
      "Downloading data for MASTEK.NS...\n"
     ]
    },
    {
     "name": "stderr",
     "output_type": "stream",
     "text": [
      "[*********************100%***********************]  1 of 1 completed\n"
     ]
    },
    {
     "name": "stdout",
     "output_type": "stream",
     "text": [
      "Data for MASTEK.NS saved to Stock_Data\\MASTEK.NS.csv.\n",
      "Downloading data for MFSL.NS...\n"
     ]
    },
    {
     "name": "stderr",
     "output_type": "stream",
     "text": [
      "[*********************100%***********************]  1 of 1 completed\n"
     ]
    },
    {
     "name": "stdout",
     "output_type": "stream",
     "text": [
      "Data for MFSL.NS saved to Stock_Data\\MFSL.NS.csv.\n",
      "Downloading data for MAXHEALTH.NS...\n"
     ]
    },
    {
     "name": "stderr",
     "output_type": "stream",
     "text": [
      "[*********************100%***********************]  1 of 1 completed\n"
     ]
    },
    {
     "name": "stdout",
     "output_type": "stream",
     "text": [
      "Data for MAXHEALTH.NS saved to Stock_Data\\MAXHEALTH.NS.csv.\n",
      "Downloading data for MAZDOCK.NS...\n"
     ]
    },
    {
     "name": "stderr",
     "output_type": "stream",
     "text": [
      "[*********************100%***********************]  1 of 1 completed\n"
     ]
    },
    {
     "name": "stdout",
     "output_type": "stream",
     "text": [
      "Data for MAZDOCK.NS saved to Stock_Data\\MAZDOCK.NS.csv.\n",
      "Downloading data for METROBRAND.NS...\n"
     ]
    },
    {
     "name": "stderr",
     "output_type": "stream",
     "text": [
      "[*********************100%***********************]  1 of 1 completed\n"
     ]
    },
    {
     "name": "stdout",
     "output_type": "stream",
     "text": [
      "Data for METROBRAND.NS saved to Stock_Data\\METROBRAND.NS.csv.\n",
      "Downloading data for METROPOLIS.NS...\n"
     ]
    },
    {
     "name": "stderr",
     "output_type": "stream",
     "text": [
      "[*********************100%***********************]  1 of 1 completed\n"
     ]
    },
    {
     "name": "stdout",
     "output_type": "stream",
     "text": [
      "Data for METROPOLIS.NS saved to Stock_Data\\METROPOLIS.NS.csv.\n",
      "Downloading data for MINDACORP.NS...\n"
     ]
    },
    {
     "name": "stderr",
     "output_type": "stream",
     "text": [
      "[*********************100%***********************]  1 of 1 completed\n"
     ]
    },
    {
     "name": "stdout",
     "output_type": "stream",
     "text": [
      "Data for MINDACORP.NS saved to Stock_Data\\MINDACORP.NS.csv.\n",
      "Downloading data for MOTILALOFS.NS...\n"
     ]
    },
    {
     "name": "stderr",
     "output_type": "stream",
     "text": [
      "[*********************100%***********************]  1 of 1 completed\n"
     ]
    },
    {
     "name": "stdout",
     "output_type": "stream",
     "text": [
      "Data for MOTILALOFS.NS saved to Stock_Data\\MOTILALOFS.NS.csv.\n",
      "Downloading data for MPHASIS.NS...\n"
     ]
    },
    {
     "name": "stderr",
     "output_type": "stream",
     "text": [
      "[*********************100%***********************]  1 of 1 completed\n"
     ]
    },
    {
     "name": "stdout",
     "output_type": "stream",
     "text": [
      "Data for MPHASIS.NS saved to Stock_Data\\MPHASIS.NS.csv.\n",
      "Downloading data for MCX.NS...\n"
     ]
    },
    {
     "name": "stderr",
     "output_type": "stream",
     "text": [
      "[*********************100%***********************]  1 of 1 completed\n"
     ]
    },
    {
     "name": "stdout",
     "output_type": "stream",
     "text": [
      "Data for MCX.NS saved to Stock_Data\\MCX.NS.csv.\n",
      "Downloading data for MUTHOOTFIN.NS...\n"
     ]
    },
    {
     "name": "stderr",
     "output_type": "stream",
     "text": [
      "[*********************100%***********************]  1 of 1 completed\n"
     ]
    },
    {
     "name": "stdout",
     "output_type": "stream",
     "text": [
      "Data for MUTHOOTFIN.NS saved to Stock_Data\\MUTHOOTFIN.NS.csv.\n",
      "Downloading data for NATCOPHARM.NS...\n"
     ]
    },
    {
     "name": "stderr",
     "output_type": "stream",
     "text": [
      "[*********************100%***********************]  1 of 1 completed\n"
     ]
    },
    {
     "name": "stdout",
     "output_type": "stream",
     "text": [
      "Data for NATCOPHARM.NS saved to Stock_Data\\NATCOPHARM.NS.csv.\n",
      "Downloading data for NBCC.NS...\n"
     ]
    },
    {
     "name": "stderr",
     "output_type": "stream",
     "text": [
      "[*********************100%***********************]  1 of 1 completed\n"
     ]
    },
    {
     "name": "stdout",
     "output_type": "stream",
     "text": [
      "Data for NBCC.NS saved to Stock_Data\\NBCC.NS.csv.\n",
      "Downloading data for NCC.NS...\n"
     ]
    },
    {
     "name": "stderr",
     "output_type": "stream",
     "text": [
      "[*********************100%***********************]  1 of 1 completed\n"
     ]
    },
    {
     "name": "stdout",
     "output_type": "stream",
     "text": [
      "Data for NCC.NS saved to Stock_Data\\NCC.NS.csv.\n",
      "Downloading data for NHPC.NS...\n"
     ]
    },
    {
     "name": "stderr",
     "output_type": "stream",
     "text": [
      "[*********************100%***********************]  1 of 1 completed\n"
     ]
    },
    {
     "name": "stdout",
     "output_type": "stream",
     "text": [
      "Data for NHPC.NS saved to Stock_Data\\NHPC.NS.csv.\n",
      "Downloading data for NLCINDIA.NS...\n"
     ]
    },
    {
     "name": "stderr",
     "output_type": "stream",
     "text": [
      "[*********************100%***********************]  1 of 1 completed\n"
     ]
    },
    {
     "name": "stdout",
     "output_type": "stream",
     "text": [
      "Data for NLCINDIA.NS saved to Stock_Data\\NLCINDIA.NS.csv.\n",
      "Downloading data for NMDC.NS...\n"
     ]
    },
    {
     "name": "stderr",
     "output_type": "stream",
     "text": [
      "[*********************100%***********************]  1 of 1 completed\n"
     ]
    },
    {
     "name": "stdout",
     "output_type": "stream",
     "text": [
      "Data for NMDC.NS saved to Stock_Data\\NMDC.NS.csv.\n",
      "Downloading data for NTPC.NS...\n"
     ]
    },
    {
     "name": "stderr",
     "output_type": "stream",
     "text": [
      "[*********************100%***********************]  1 of 1 completed\n"
     ]
    },
    {
     "name": "stdout",
     "output_type": "stream",
     "text": [
      "Data for NTPC.NS saved to Stock_Data\\NTPC.NS.csv.\n",
      "Downloading data for NH.NS...\n"
     ]
    },
    {
     "name": "stderr",
     "output_type": "stream",
     "text": [
      "[*********************100%***********************]  1 of 1 completed\n"
     ]
    },
    {
     "name": "stdout",
     "output_type": "stream",
     "text": [
      "Data for NH.NS saved to Stock_Data\\NH.NS.csv.\n",
      "Downloading data for NATIONALUM.NS...\n"
     ]
    },
    {
     "name": "stderr",
     "output_type": "stream",
     "text": [
      "[*********************100%***********************]  1 of 1 completed\n"
     ]
    },
    {
     "name": "stdout",
     "output_type": "stream",
     "text": [
      "Data for NATIONALUM.NS saved to Stock_Data\\NATIONALUM.NS.csv.\n",
      "Downloading data for NAVINFLUOR.NS...\n"
     ]
    },
    {
     "name": "stderr",
     "output_type": "stream",
     "text": [
      "[*********************100%***********************]  1 of 1 completed\n"
     ]
    },
    {
     "name": "stdout",
     "output_type": "stream",
     "text": [
      "Data for NAVINFLUOR.NS saved to Stock_Data\\NAVINFLUOR.NS.csv.\n",
      "Downloading data for NESTLEIND.NS...\n"
     ]
    },
    {
     "name": "stderr",
     "output_type": "stream",
     "text": [
      "[*********************100%***********************]  1 of 1 completed\n"
     ]
    },
    {
     "name": "stdout",
     "output_type": "stream",
     "text": [
      "Data for NESTLEIND.NS saved to Stock_Data\\NESTLEIND.NS.csv.\n",
      "Downloading data for NETWORK18.NS...\n"
     ]
    },
    {
     "name": "stderr",
     "output_type": "stream",
     "text": [
      "[*********************100%***********************]  1 of 1 completed\n"
     ]
    },
    {
     "name": "stdout",
     "output_type": "stream",
     "text": [
      "Data for NETWORK18.NS saved to Stock_Data\\NETWORK18.NS.csv.\n",
      "Downloading data for NEWGEN.NS...\n"
     ]
    },
    {
     "name": "stderr",
     "output_type": "stream",
     "text": [
      "[*********************100%***********************]  1 of 1 completed\n"
     ]
    },
    {
     "name": "stdout",
     "output_type": "stream",
     "text": [
      "Data for NEWGEN.NS saved to Stock_Data\\NEWGEN.NS.csv.\n",
      "Downloading data for NAM-INDIA.NS...\n"
     ]
    },
    {
     "name": "stderr",
     "output_type": "stream",
     "text": [
      "[*********************100%***********************]  1 of 1 completed\n"
     ]
    },
    {
     "name": "stdout",
     "output_type": "stream",
     "text": [
      "Data for NAM-INDIA.NS saved to Stock_Data\\NAM-INDIA.NS.csv.\n",
      "Downloading data for NUVOCO.NS...\n"
     ]
    },
    {
     "name": "stderr",
     "output_type": "stream",
     "text": [
      "[*********************100%***********************]  1 of 1 completed\n"
     ]
    },
    {
     "name": "stdout",
     "output_type": "stream",
     "text": [
      "Data for NUVOCO.NS saved to Stock_Data\\NUVOCO.NS.csv.\n",
      "Downloading data for OBEROIRLTY.NS...\n"
     ]
    },
    {
     "name": "stderr",
     "output_type": "stream",
     "text": [
      "[*********************100%***********************]  1 of 1 completed\n"
     ]
    },
    {
     "name": "stdout",
     "output_type": "stream",
     "text": [
      "Data for OBEROIRLTY.NS saved to Stock_Data\\OBEROIRLTY.NS.csv.\n",
      "Downloading data for ONGC.NS...\n"
     ]
    },
    {
     "name": "stderr",
     "output_type": "stream",
     "text": [
      "[*********************100%***********************]  1 of 1 completed\n"
     ]
    },
    {
     "name": "stdout",
     "output_type": "stream",
     "text": [
      "Data for ONGC.NS saved to Stock_Data\\ONGC.NS.csv.\n",
      "Downloading data for OIL.NS...\n"
     ]
    },
    {
     "name": "stderr",
     "output_type": "stream",
     "text": [
      "[*********************100%***********************]  1 of 1 completed\n"
     ]
    },
    {
     "name": "stdout",
     "output_type": "stream",
     "text": [
      "Data for OIL.NS saved to Stock_Data\\OIL.NS.csv.\n",
      "Downloading data for OLECTRA.NS...\n"
     ]
    },
    {
     "name": "stderr",
     "output_type": "stream",
     "text": [
      "[*********************100%***********************]  1 of 1 completed\n"
     ]
    },
    {
     "name": "stdout",
     "output_type": "stream",
     "text": [
      "Data for OLECTRA.NS saved to Stock_Data\\OLECTRA.NS.csv.\n",
      "Downloading data for PAYTM.NS...\n"
     ]
    },
    {
     "name": "stderr",
     "output_type": "stream",
     "text": [
      "[*********************100%***********************]  1 of 1 completed\n",
      "[*********************100%***********************]  1 of 1 completed"
     ]
    },
    {
     "name": "stdout",
     "output_type": "stream",
     "text": [
      "Data for PAYTM.NS saved to Stock_Data\\PAYTM.NS.csv.\n",
      "Downloading data for OFSS.NS...\n"
     ]
    },
    {
     "name": "stderr",
     "output_type": "stream",
     "text": [
      "\n",
      "[*********************100%***********************]  1 of 1 completed"
     ]
    },
    {
     "name": "stdout",
     "output_type": "stream",
     "text": [
      "Data for OFSS.NS saved to Stock_Data\\OFSS.NS.csv.\n",
      "Downloading data for POLICYBZR.NS...\n"
     ]
    },
    {
     "name": "stderr",
     "output_type": "stream",
     "text": [
      "\n"
     ]
    },
    {
     "name": "stdout",
     "output_type": "stream",
     "text": [
      "Data for POLICYBZR.NS saved to Stock_Data\\POLICYBZR.NS.csv.\n",
      "Downloading data for PCBL.NS...\n"
     ]
    },
    {
     "name": "stderr",
     "output_type": "stream",
     "text": [
      "[*********************100%***********************]  1 of 1 completed\n"
     ]
    },
    {
     "name": "stdout",
     "output_type": "stream",
     "text": [
      "Data for PCBL.NS saved to Stock_Data\\PCBL.NS.csv.\n",
      "Downloading data for PIIND.NS...\n"
     ]
    },
    {
     "name": "stderr",
     "output_type": "stream",
     "text": [
      "[*********************100%***********************]  1 of 1 completed\n"
     ]
    },
    {
     "name": "stdout",
     "output_type": "stream",
     "text": [
      "Data for PIIND.NS saved to Stock_Data\\PIIND.NS.csv.\n",
      "Downloading data for PNBHOUSING.NS...\n"
     ]
    },
    {
     "name": "stderr",
     "output_type": "stream",
     "text": [
      "[*********************100%***********************]  1 of 1 completed\n"
     ]
    },
    {
     "name": "stdout",
     "output_type": "stream",
     "text": [
      "Data for PNBHOUSING.NS saved to Stock_Data\\PNBHOUSING.NS.csv.\n",
      "Downloading data for PNCINFRA.NS...\n"
     ]
    },
    {
     "name": "stderr",
     "output_type": "stream",
     "text": [
      "[*********************100%***********************]  1 of 1 completed\n"
     ]
    },
    {
     "name": "stdout",
     "output_type": "stream",
     "text": [
      "Data for PNCINFRA.NS saved to Stock_Data\\PNCINFRA.NS.csv.\n",
      "Downloading data for PAGEIND.NS...\n"
     ]
    },
    {
     "name": "stderr",
     "output_type": "stream",
     "text": [
      "[*********************100%***********************]  1 of 1 completed\n"
     ]
    },
    {
     "name": "stdout",
     "output_type": "stream",
     "text": [
      "Data for PAGEIND.NS saved to Stock_Data\\PAGEIND.NS.csv.\n",
      "Downloading data for PATANJALI.NS...\n"
     ]
    },
    {
     "name": "stderr",
     "output_type": "stream",
     "text": [
      "[*********************100%***********************]  1 of 1 completed\n"
     ]
    },
    {
     "name": "stdout",
     "output_type": "stream",
     "text": [
      "Data for PATANJALI.NS saved to Stock_Data\\PATANJALI.NS.csv.\n",
      "Downloading data for PERSISTENT.NS...\n"
     ]
    },
    {
     "name": "stderr",
     "output_type": "stream",
     "text": [
      "[*********************100%***********************]  1 of 1 completed\n"
     ]
    },
    {
     "name": "stdout",
     "output_type": "stream",
     "text": [
      "Data for PERSISTENT.NS saved to Stock_Data\\PERSISTENT.NS.csv.\n",
      "Downloading data for PETRONET.NS...\n"
     ]
    },
    {
     "name": "stderr",
     "output_type": "stream",
     "text": [
      "[*********************100%***********************]  1 of 1 completed\n"
     ]
    },
    {
     "name": "stdout",
     "output_type": "stream",
     "text": [
      "Data for PETRONET.NS saved to Stock_Data\\PETRONET.NS.csv.\n",
      "Downloading data for PFIZER.NS...\n"
     ]
    },
    {
     "name": "stderr",
     "output_type": "stream",
     "text": [
      "[*********************100%***********************]  1 of 1 completed\n"
     ]
    },
    {
     "name": "stdout",
     "output_type": "stream",
     "text": [
      "Data for PFIZER.NS saved to Stock_Data\\PFIZER.NS.csv.\n",
      "Downloading data for PIDILITIND.NS...\n"
     ]
    },
    {
     "name": "stderr",
     "output_type": "stream",
     "text": [
      "[*********************100%***********************]  1 of 1 completed\n"
     ]
    },
    {
     "name": "stdout",
     "output_type": "stream",
     "text": [
      "Data for PIDILITIND.NS saved to Stock_Data\\PIDILITIND.NS.csv.\n",
      "Downloading data for PEL.NS...\n"
     ]
    },
    {
     "name": "stderr",
     "output_type": "stream",
     "text": [
      "[*********************100%***********************]  1 of 1 completed\n"
     ]
    },
    {
     "name": "stdout",
     "output_type": "stream",
     "text": [
      "Data for PEL.NS saved to Stock_Data\\PEL.NS.csv.\n",
      "Downloading data for POLYMED.NS...\n"
     ]
    },
    {
     "name": "stderr",
     "output_type": "stream",
     "text": [
      "[*********************100%***********************]  1 of 1 completed\n"
     ]
    },
    {
     "name": "stdout",
     "output_type": "stream",
     "text": [
      "Data for POLYMED.NS saved to Stock_Data\\POLYMED.NS.csv.\n",
      "Downloading data for POLYCAB.NS...\n"
     ]
    },
    {
     "name": "stderr",
     "output_type": "stream",
     "text": [
      "[*********************100%***********************]  1 of 1 completed\n"
     ]
    },
    {
     "name": "stdout",
     "output_type": "stream",
     "text": [
      "Data for POLYCAB.NS saved to Stock_Data\\POLYCAB.NS.csv.\n",
      "Downloading data for POONAWALLA.NS...\n"
     ]
    },
    {
     "name": "stderr",
     "output_type": "stream",
     "text": [
      "[*********************100%***********************]  1 of 1 completed\n"
     ]
    },
    {
     "name": "stdout",
     "output_type": "stream",
     "text": [
      "Data for POONAWALLA.NS saved to Stock_Data\\POONAWALLA.NS.csv.\n",
      "Downloading data for PFC.NS...\n"
     ]
    },
    {
     "name": "stderr",
     "output_type": "stream",
     "text": [
      "[*********************100%***********************]  1 of 1 completed\n"
     ]
    },
    {
     "name": "stdout",
     "output_type": "stream",
     "text": [
      "Data for PFC.NS saved to Stock_Data\\PFC.NS.csv.\n",
      "Downloading data for POWERGRID.NS...\n"
     ]
    },
    {
     "name": "stderr",
     "output_type": "stream",
     "text": [
      "[*********************100%***********************]  1 of 1 completed\n"
     ]
    },
    {
     "name": "stdout",
     "output_type": "stream",
     "text": [
      "Data for POWERGRID.NS saved to Stock_Data\\POWERGRID.NS.csv.\n",
      "Downloading data for PRAJIND.NS...\n"
     ]
    },
    {
     "name": "stderr",
     "output_type": "stream",
     "text": [
      "[*********************100%***********************]  1 of 1 completed\n"
     ]
    },
    {
     "name": "stdout",
     "output_type": "stream",
     "text": [
      "Data for PRAJIND.NS saved to Stock_Data\\PRAJIND.NS.csv.\n",
      "Downloading data for PRESTIGE.NS...\n"
     ]
    },
    {
     "name": "stderr",
     "output_type": "stream",
     "text": [
      "[*********************100%***********************]  1 of 1 completed\n"
     ]
    },
    {
     "name": "stdout",
     "output_type": "stream",
     "text": [
      "Data for PRESTIGE.NS saved to Stock_Data\\PRESTIGE.NS.csv.\n",
      "Downloading data for PGHH.NS...\n"
     ]
    },
    {
     "name": "stderr",
     "output_type": "stream",
     "text": [
      "[*********************100%***********************]  1 of 1 completed\n"
     ]
    },
    {
     "name": "stdout",
     "output_type": "stream",
     "text": [
      "Data for PGHH.NS saved to Stock_Data\\PGHH.NS.csv.\n",
      "Downloading data for PNB.NS...\n"
     ]
    },
    {
     "name": "stderr",
     "output_type": "stream",
     "text": [
      "[*********************100%***********************]  1 of 1 completed\n"
     ]
    },
    {
     "name": "stdout",
     "output_type": "stream",
     "text": [
      "Data for PNB.NS saved to Stock_Data\\PNB.NS.csv.\n",
      "Downloading data for QUESS.NS...\n"
     ]
    },
    {
     "name": "stderr",
     "output_type": "stream",
     "text": [
      "[*********************100%***********************]  1 of 1 completed\n"
     ]
    },
    {
     "name": "stdout",
     "output_type": "stream",
     "text": [
      "Data for QUESS.NS saved to Stock_Data\\QUESS.NS.csv.\n",
      "Downloading data for RBLBANK.NS...\n"
     ]
    },
    {
     "name": "stderr",
     "output_type": "stream",
     "text": [
      "[*********************100%***********************]  1 of 1 completed\n"
     ]
    },
    {
     "name": "stdout",
     "output_type": "stream",
     "text": [
      "Data for RBLBANK.NS saved to Stock_Data\\RBLBANK.NS.csv.\n",
      "Downloading data for RECLTD.NS...\n"
     ]
    },
    {
     "name": "stderr",
     "output_type": "stream",
     "text": [
      "[*********************100%***********************]  1 of 1 completed\n"
     ]
    },
    {
     "name": "stdout",
     "output_type": "stream",
     "text": [
      "Data for RECLTD.NS saved to Stock_Data\\RECLTD.NS.csv.\n",
      "Downloading data for RHIM.NS...\n"
     ]
    },
    {
     "name": "stderr",
     "output_type": "stream",
     "text": [
      "[*********************100%***********************]  1 of 1 completed\n"
     ]
    },
    {
     "name": "stdout",
     "output_type": "stream",
     "text": [
      "Data for RHIM.NS saved to Stock_Data\\RHIM.NS.csv.\n",
      "Downloading data for RITES.NS...\n"
     ]
    },
    {
     "name": "stderr",
     "output_type": "stream",
     "text": [
      "[*********************100%***********************]  1 of 1 completed\n"
     ]
    },
    {
     "name": "stdout",
     "output_type": "stream",
     "text": [
      "Data for RITES.NS saved to Stock_Data\\RITES.NS.csv.\n",
      "Downloading data for RADICO.NS...\n"
     ]
    },
    {
     "name": "stderr",
     "output_type": "stream",
     "text": [
      "[*********************100%***********************]  1 of 1 completed\n",
      "[*********************100%***********************]  1 of 1 completed"
     ]
    },
    {
     "name": "stdout",
     "output_type": "stream",
     "text": [
      "Data for RADICO.NS saved to Stock_Data\\RADICO.NS.csv.\n",
      "Downloading data for RVNL.NS...\n"
     ]
    },
    {
     "name": "stderr",
     "output_type": "stream",
     "text": [
      "\n"
     ]
    },
    {
     "name": "stdout",
     "output_type": "stream",
     "text": [
      "Data for RVNL.NS saved to Stock_Data\\RVNL.NS.csv.\n",
      "Downloading data for RAILTEL.NS...\n"
     ]
    },
    {
     "name": "stderr",
     "output_type": "stream",
     "text": [
      "[*********************100%***********************]  1 of 1 completed\n",
      "[*********************100%***********************]  1 of 1 completed"
     ]
    },
    {
     "name": "stdout",
     "output_type": "stream",
     "text": [
      "Data for RAILTEL.NS saved to Stock_Data\\RAILTEL.NS.csv.\n",
      "Downloading data for RAJESHEXPO.NS...\n"
     ]
    },
    {
     "name": "stderr",
     "output_type": "stream",
     "text": [
      "\n"
     ]
    },
    {
     "name": "stdout",
     "output_type": "stream",
     "text": [
      "Data for RAJESHEXPO.NS saved to Stock_Data\\RAJESHEXPO.NS.csv.\n",
      "Downloading data for RKFORGE.NS...\n"
     ]
    },
    {
     "name": "stderr",
     "output_type": "stream",
     "text": [
      "[*********************100%***********************]  1 of 1 completed\n"
     ]
    },
    {
     "name": "stdout",
     "output_type": "stream",
     "text": [
      "Data for RKFORGE.NS saved to Stock_Data\\RKFORGE.NS.csv.\n",
      "Downloading data for RCF.NS...\n"
     ]
    },
    {
     "name": "stderr",
     "output_type": "stream",
     "text": [
      "[*********************100%***********************]  1 of 1 completed\n"
     ]
    },
    {
     "name": "stdout",
     "output_type": "stream",
     "text": [
      "Data for RCF.NS saved to Stock_Data\\RCF.NS.csv.\n",
      "Downloading data for RATNAMANI.NS...\n"
     ]
    },
    {
     "name": "stderr",
     "output_type": "stream",
     "text": [
      "[*********************100%***********************]  1 of 1 completed\n",
      "[*********************100%***********************]  1 of 1 completed\n"
     ]
    },
    {
     "name": "stdout",
     "output_type": "stream",
     "text": [
      "Data for RATNAMANI.NS saved to Stock_Data\\RATNAMANI.NS.csv.\n",
      "Downloading data for RTNINDIA.NS...\n",
      "Data for RTNINDIA.NS saved to Stock_Data\\RTNINDIA.NS.csv.\n",
      "Downloading data for RAYMOND.NS...\n"
     ]
    },
    {
     "name": "stderr",
     "output_type": "stream",
     "text": [
      "[*********************100%***********************]  1 of 1 completed\n"
     ]
    },
    {
     "name": "stdout",
     "output_type": "stream",
     "text": [
      "Data for RAYMOND.NS saved to Stock_Data\\RAYMOND.NS.csv.\n",
      "Downloading data for REDINGTON.NS...\n"
     ]
    },
    {
     "name": "stderr",
     "output_type": "stream",
     "text": [
      "[*********************100%***********************]  1 of 1 completed\n"
     ]
    },
    {
     "name": "stdout",
     "output_type": "stream",
     "text": [
      "Data for REDINGTON.NS saved to Stock_Data\\REDINGTON.NS.csv.\n",
      "Downloading data for RELIANCE.NS...\n"
     ]
    },
    {
     "name": "stderr",
     "output_type": "stream",
     "text": [
      "[*********************100%***********************]  1 of 1 completed\n"
     ]
    },
    {
     "name": "stdout",
     "output_type": "stream",
     "text": [
      "Data for RELIANCE.NS saved to Stock_Data\\RELIANCE.NS.csv.\n",
      "Downloading data for ROUTE.NS...\n"
     ]
    },
    {
     "name": "stderr",
     "output_type": "stream",
     "text": [
      "[*********************100%***********************]  1 of 1 completed\n"
     ]
    },
    {
     "name": "stdout",
     "output_type": "stream",
     "text": [
      "Data for ROUTE.NS saved to Stock_Data\\ROUTE.NS.csv.\n",
      "Downloading data for SBICARD.NS...\n"
     ]
    },
    {
     "name": "stderr",
     "output_type": "stream",
     "text": [
      "[*********************100%***********************]  1 of 1 completed\n"
     ]
    },
    {
     "name": "stdout",
     "output_type": "stream",
     "text": [
      "Data for SBICARD.NS saved to Stock_Data\\SBICARD.NS.csv.\n",
      "Downloading data for SBILIFE.NS...\n"
     ]
    },
    {
     "name": "stderr",
     "output_type": "stream",
     "text": [
      "[*********************100%***********************]  1 of 1 completed\n"
     ]
    },
    {
     "name": "stdout",
     "output_type": "stream",
     "text": [
      "Data for SBILIFE.NS saved to Stock_Data\\SBILIFE.NS.csv.\n",
      "Downloading data for SJVN.NS...\n"
     ]
    },
    {
     "name": "stderr",
     "output_type": "stream",
     "text": [
      "[*********************100%***********************]  1 of 1 completed\n"
     ]
    },
    {
     "name": "stdout",
     "output_type": "stream",
     "text": [
      "Data for SJVN.NS saved to Stock_Data\\SJVN.NS.csv.\n",
      "Downloading data for SKFINDIA.NS...\n"
     ]
    },
    {
     "name": "stderr",
     "output_type": "stream",
     "text": [
      "[*********************100%***********************]  1 of 1 completed\n"
     ]
    },
    {
     "name": "stdout",
     "output_type": "stream",
     "text": [
      "Data for SKFINDIA.NS saved to Stock_Data\\SKFINDIA.NS.csv.\n",
      "Downloading data for SRF.NS...\n"
     ]
    },
    {
     "name": "stderr",
     "output_type": "stream",
     "text": [
      "[*********************100%***********************]  1 of 1 completed\n"
     ]
    },
    {
     "name": "stdout",
     "output_type": "stream",
     "text": [
      "Data for SRF.NS saved to Stock_Data\\SRF.NS.csv.\n",
      "Downloading data for SAMMAANCAP.NS...\n"
     ]
    },
    {
     "name": "stderr",
     "output_type": "stream",
     "text": [
      "[*********************100%***********************]  1 of 1 completed\n"
     ]
    },
    {
     "name": "stdout",
     "output_type": "stream",
     "text": [
      "Data for SAMMAANCAP.NS saved to Stock_Data\\SAMMAANCAP.NS.csv.\n",
      "Downloading data for MOTHERSON.NS...\n"
     ]
    },
    {
     "name": "stderr",
     "output_type": "stream",
     "text": [
      "[*********************100%***********************]  1 of 1 completed\n"
     ]
    },
    {
     "name": "stdout",
     "output_type": "stream",
     "text": [
      "Data for MOTHERSON.NS saved to Stock_Data\\MOTHERSON.NS.csv.\n",
      "Downloading data for SANOFI.NS...\n"
     ]
    },
    {
     "name": "stderr",
     "output_type": "stream",
     "text": [
      "[*********************100%***********************]  1 of 1 completed\n"
     ]
    },
    {
     "name": "stdout",
     "output_type": "stream",
     "text": [
      "Data for SANOFI.NS saved to Stock_Data\\SANOFI.NS.csv.\n",
      "Downloading data for SAPPHIRE.NS...\n"
     ]
    },
    {
     "name": "stderr",
     "output_type": "stream",
     "text": [
      "[*********************100%***********************]  1 of 1 completed\n"
     ]
    },
    {
     "name": "stdout",
     "output_type": "stream",
     "text": [
      "Data for SAPPHIRE.NS saved to Stock_Data\\SAPPHIRE.NS.csv.\n",
      "Downloading data for SAREGAMA.NS...\n"
     ]
    },
    {
     "name": "stderr",
     "output_type": "stream",
     "text": [
      "[*********************100%***********************]  1 of 1 completed\n"
     ]
    },
    {
     "name": "stdout",
     "output_type": "stream",
     "text": [
      "Data for SAREGAMA.NS saved to Stock_Data\\SAREGAMA.NS.csv.\n",
      "Downloading data for SCHAEFFLER.NS...\n"
     ]
    },
    {
     "name": "stderr",
     "output_type": "stream",
     "text": [
      "[*********************100%***********************]  1 of 1 completed\n"
     ]
    },
    {
     "name": "stdout",
     "output_type": "stream",
     "text": [
      "Data for SCHAEFFLER.NS saved to Stock_Data\\SCHAEFFLER.NS.csv.\n",
      "Downloading data for SCHNEIDER.NS...\n"
     ]
    },
    {
     "name": "stderr",
     "output_type": "stream",
     "text": [
      "[*********************100%***********************]  1 of 1 completed\n"
     ]
    },
    {
     "name": "stdout",
     "output_type": "stream",
     "text": [
      "Data for SCHNEIDER.NS saved to Stock_Data\\SCHNEIDER.NS.csv.\n",
      "Downloading data for SCI.NS...\n"
     ]
    },
    {
     "name": "stderr",
     "output_type": "stream",
     "text": [
      "[*********************100%***********************]  1 of 1 completed\n"
     ]
    },
    {
     "name": "stdout",
     "output_type": "stream",
     "text": [
      "Data for SCI.NS saved to Stock_Data\\SCI.NS.csv.\n",
      "Downloading data for SHREECEM.NS...\n"
     ]
    },
    {
     "name": "stderr",
     "output_type": "stream",
     "text": [
      "[*********************100%***********************]  1 of 1 completed\n",
      "[*********************100%***********************]  1 of 1 completed"
     ]
    },
    {
     "name": "stdout",
     "output_type": "stream",
     "text": [
      "Data for SHREECEM.NS saved to Stock_Data\\SHREECEM.NS.csv.\n",
      "Downloading data for RENUKA.NS...\n"
     ]
    },
    {
     "name": "stderr",
     "output_type": "stream",
     "text": [
      "\n"
     ]
    },
    {
     "name": "stdout",
     "output_type": "stream",
     "text": [
      "Data for RENUKA.NS saved to Stock_Data\\RENUKA.NS.csv.\n",
      "Downloading data for SHRIRAMFIN.NS...\n"
     ]
    },
    {
     "name": "stderr",
     "output_type": "stream",
     "text": [
      "[*********************100%***********************]  1 of 1 completed\n"
     ]
    },
    {
     "name": "stdout",
     "output_type": "stream",
     "text": [
      "Data for SHRIRAMFIN.NS saved to Stock_Data\\SHRIRAMFIN.NS.csv.\n",
      "Downloading data for SHYAMMETL.NS...\n"
     ]
    },
    {
     "name": "stderr",
     "output_type": "stream",
     "text": [
      "[*********************100%***********************]  1 of 1 completed\n"
     ]
    },
    {
     "name": "stdout",
     "output_type": "stream",
     "text": [
      "Data for SHYAMMETL.NS saved to Stock_Data\\SHYAMMETL.NS.csv.\n",
      "Downloading data for SIEMENS.NS...\n"
     ]
    },
    {
     "name": "stderr",
     "output_type": "stream",
     "text": [
      "[*********************100%***********************]  1 of 1 completed\n",
      "[*********************100%***********************]  1 of 1 completed"
     ]
    },
    {
     "name": "stdout",
     "output_type": "stream",
     "text": [
      "Data for SIEMENS.NS saved to Stock_Data\\SIEMENS.NS.csv.\n",
      "Downloading data for SOBHA.NS...\n"
     ]
    },
    {
     "name": "stderr",
     "output_type": "stream",
     "text": [
      "\n"
     ]
    },
    {
     "name": "stdout",
     "output_type": "stream",
     "text": [
      "Data for SOBHA.NS saved to Stock_Data\\SOBHA.NS.csv.\n",
      "Downloading data for SOLARINDS.NS...\n"
     ]
    },
    {
     "name": "stderr",
     "output_type": "stream",
     "text": [
      "[*********************100%***********************]  1 of 1 completed\n"
     ]
    },
    {
     "name": "stdout",
     "output_type": "stream",
     "text": [
      "Data for SOLARINDS.NS saved to Stock_Data\\SOLARINDS.NS.csv.\n",
      "Downloading data for SONACOMS.NS...\n"
     ]
    },
    {
     "name": "stderr",
     "output_type": "stream",
     "text": [
      "[*********************100%***********************]  1 of 1 completed\n"
     ]
    },
    {
     "name": "stdout",
     "output_type": "stream",
     "text": [
      "Data for SONACOMS.NS saved to Stock_Data\\SONACOMS.NS.csv.\n",
      "Downloading data for SONATSOFTW.NS...\n"
     ]
    },
    {
     "name": "stderr",
     "output_type": "stream",
     "text": [
      "[*********************100%***********************]  1 of 1 completed\n"
     ]
    },
    {
     "name": "stdout",
     "output_type": "stream",
     "text": [
      "Data for SONATSOFTW.NS saved to Stock_Data\\SONATSOFTW.NS.csv.\n",
      "Downloading data for STARHEALTH.NS...\n"
     ]
    },
    {
     "name": "stderr",
     "output_type": "stream",
     "text": [
      "[*********************100%***********************]  1 of 1 completed\n"
     ]
    },
    {
     "name": "stdout",
     "output_type": "stream",
     "text": [
      "Data for STARHEALTH.NS saved to Stock_Data\\STARHEALTH.NS.csv.\n",
      "Downloading data for SBIN.NS...\n"
     ]
    },
    {
     "name": "stderr",
     "output_type": "stream",
     "text": [
      "[*********************100%***********************]  1 of 1 completed\n"
     ]
    },
    {
     "name": "stdout",
     "output_type": "stream",
     "text": [
      "Data for SBIN.NS saved to Stock_Data\\SBIN.NS.csv.\n",
      "Downloading data for SAIL.NS...\n"
     ]
    },
    {
     "name": "stderr",
     "output_type": "stream",
     "text": [
      "[*********************100%***********************]  1 of 1 completed\n"
     ]
    },
    {
     "name": "stdout",
     "output_type": "stream",
     "text": [
      "Data for SAIL.NS saved to Stock_Data\\SAIL.NS.csv.\n",
      "Downloading data for SWSOLAR.NS...\n"
     ]
    },
    {
     "name": "stderr",
     "output_type": "stream",
     "text": [
      "[*********************100%***********************]  1 of 1 completed\n"
     ]
    },
    {
     "name": "stdout",
     "output_type": "stream",
     "text": [
      "Data for SWSOLAR.NS saved to Stock_Data\\SWSOLAR.NS.csv.\n",
      "Downloading data for SUMICHEM.NS...\n"
     ]
    },
    {
     "name": "stderr",
     "output_type": "stream",
     "text": [
      "[*********************100%***********************]  1 of 1 completed\n"
     ]
    },
    {
     "name": "stdout",
     "output_type": "stream",
     "text": [
      "Data for SUMICHEM.NS saved to Stock_Data\\SUMICHEM.NS.csv.\n",
      "Downloading data for SPARC.NS...\n"
     ]
    },
    {
     "name": "stderr",
     "output_type": "stream",
     "text": [
      "[*********************100%***********************]  1 of 1 completed\n"
     ]
    },
    {
     "name": "stdout",
     "output_type": "stream",
     "text": [
      "Data for SPARC.NS saved to Stock_Data\\SPARC.NS.csv.\n",
      "Downloading data for SUNPHARMA.NS...\n"
     ]
    },
    {
     "name": "stderr",
     "output_type": "stream",
     "text": [
      "[*********************100%***********************]  1 of 1 completed\n"
     ]
    },
    {
     "name": "stdout",
     "output_type": "stream",
     "text": [
      "Data for SUNPHARMA.NS saved to Stock_Data\\SUNPHARMA.NS.csv.\n",
      "Downloading data for SUNTV.NS...\n"
     ]
    },
    {
     "name": "stderr",
     "output_type": "stream",
     "text": [
      "[*********************100%***********************]  1 of 1 completed\n"
     ]
    },
    {
     "name": "stdout",
     "output_type": "stream",
     "text": [
      "Data for SUNTV.NS saved to Stock_Data\\SUNTV.NS.csv.\n",
      "Downloading data for SUNDARMFIN.NS...\n"
     ]
    },
    {
     "name": "stderr",
     "output_type": "stream",
     "text": [
      "[*********************100%***********************]  1 of 1 completed\n"
     ]
    },
    {
     "name": "stdout",
     "output_type": "stream",
     "text": [
      "Data for SUNDARMFIN.NS saved to Stock_Data\\SUNDARMFIN.NS.csv.\n",
      "Downloading data for SUNDRMFAST.NS...\n"
     ]
    },
    {
     "name": "stderr",
     "output_type": "stream",
     "text": [
      "[*********************100%***********************]  1 of 1 completed\n"
     ]
    },
    {
     "name": "stdout",
     "output_type": "stream",
     "text": [
      "Data for SUNDRMFAST.NS saved to Stock_Data\\SUNDRMFAST.NS.csv.\n",
      "Downloading data for SUPREMEIND.NS...\n"
     ]
    },
    {
     "name": "stderr",
     "output_type": "stream",
     "text": [
      "[*********************100%***********************]  1 of 1 completed\n",
      "[*********************100%***********************]  1 of 1 completed"
     ]
    },
    {
     "name": "stdout",
     "output_type": "stream",
     "text": [
      "Data for SUPREMEIND.NS saved to Stock_Data\\SUPREMEIND.NS.csv.\n",
      "Downloading data for SUVENPHAR.NS...\n"
     ]
    },
    {
     "name": "stderr",
     "output_type": "stream",
     "text": [
      "\n",
      "[*********************100%***********************]  1 of 1 completed"
     ]
    },
    {
     "name": "stdout",
     "output_type": "stream",
     "text": [
      "Data for SUVENPHAR.NS saved to Stock_Data\\SUVENPHAR.NS.csv.\n",
      "Downloading data for SUZLON.NS...\n"
     ]
    },
    {
     "name": "stderr",
     "output_type": "stream",
     "text": [
      "\n"
     ]
    },
    {
     "name": "stdout",
     "output_type": "stream",
     "text": [
      "Data for SUZLON.NS saved to Stock_Data\\SUZLON.NS.csv.\n",
      "Downloading data for SYNGENE.NS...\n"
     ]
    },
    {
     "name": "stderr",
     "output_type": "stream",
     "text": [
      "[*********************100%***********************]  1 of 1 completed\n",
      "[*********************100%***********************]  1 of 1 completed"
     ]
    },
    {
     "name": "stdout",
     "output_type": "stream",
     "text": [
      "Data for SYNGENE.NS saved to Stock_Data\\SYNGENE.NS.csv.\n",
      "Downloading data for TVSMOTOR.NS...\n"
     ]
    },
    {
     "name": "stderr",
     "output_type": "stream",
     "text": [
      "\n"
     ]
    },
    {
     "name": "stdout",
     "output_type": "stream",
     "text": [
      "Data for TVSMOTOR.NS saved to Stock_Data\\TVSMOTOR.NS.csv.\n",
      "Downloading data for TANLA.NS...\n"
     ]
    },
    {
     "name": "stderr",
     "output_type": "stream",
     "text": [
      "[*********************100%***********************]  1 of 1 completed\n"
     ]
    },
    {
     "name": "stdout",
     "output_type": "stream",
     "text": [
      "Data for TANLA.NS saved to Stock_Data\\TANLA.NS.csv.\n",
      "Downloading data for TATACHEM.NS...\n"
     ]
    },
    {
     "name": "stderr",
     "output_type": "stream",
     "text": [
      "[*********************100%***********************]  1 of 1 completed\n"
     ]
    },
    {
     "name": "stdout",
     "output_type": "stream",
     "text": [
      "Data for TATACHEM.NS saved to Stock_Data\\TATACHEM.NS.csv.\n",
      "Downloading data for TATACOMM.NS...\n"
     ]
    },
    {
     "name": "stderr",
     "output_type": "stream",
     "text": [
      "[*********************100%***********************]  1 of 1 completed\n"
     ]
    },
    {
     "name": "stdout",
     "output_type": "stream",
     "text": [
      "Data for TATACOMM.NS saved to Stock_Data\\TATACOMM.NS.csv.\n",
      "Downloading data for TCS.NS...\n"
     ]
    },
    {
     "name": "stderr",
     "output_type": "stream",
     "text": [
      "[*********************100%***********************]  1 of 1 completed\n"
     ]
    },
    {
     "name": "stdout",
     "output_type": "stream",
     "text": [
      "Data for TCS.NS saved to Stock_Data\\TCS.NS.csv.\n",
      "Downloading data for TATACONSUM.NS...\n"
     ]
    },
    {
     "name": "stderr",
     "output_type": "stream",
     "text": [
      "[*********************100%***********************]  1 of 1 completed\n"
     ]
    },
    {
     "name": "stdout",
     "output_type": "stream",
     "text": [
      "Data for TATACONSUM.NS saved to Stock_Data\\TATACONSUM.NS.csv.\n",
      "Downloading data for TATAELXSI.NS...\n"
     ]
    },
    {
     "name": "stderr",
     "output_type": "stream",
     "text": [
      "[*********************100%***********************]  1 of 1 completed\n"
     ]
    },
    {
     "name": "stdout",
     "output_type": "stream",
     "text": [
      "Data for TATAELXSI.NS saved to Stock_Data\\TATAELXSI.NS.csv.\n",
      "Downloading data for TATAINVEST.NS...\n"
     ]
    },
    {
     "name": "stderr",
     "output_type": "stream",
     "text": [
      "[*********************100%***********************]  1 of 1 completed\n"
     ]
    },
    {
     "name": "stdout",
     "output_type": "stream",
     "text": [
      "Data for TATAINVEST.NS saved to Stock_Data\\TATAINVEST.NS.csv.\n",
      "Downloading data for TATAMOTORS.NS...\n"
     ]
    },
    {
     "name": "stderr",
     "output_type": "stream",
     "text": [
      "[*********************100%***********************]  1 of 1 completed\n"
     ]
    },
    {
     "name": "stdout",
     "output_type": "stream",
     "text": [
      "Data for TATAMOTORS.NS saved to Stock_Data\\TATAMOTORS.NS.csv.\n",
      "Downloading data for TATAPOWER.NS...\n"
     ]
    },
    {
     "name": "stderr",
     "output_type": "stream",
     "text": [
      "[*********************100%***********************]  1 of 1 completed\n"
     ]
    },
    {
     "name": "stdout",
     "output_type": "stream",
     "text": [
      "Data for TATAPOWER.NS saved to Stock_Data\\TATAPOWER.NS.csv.\n",
      "Downloading data for TATASTEEL.NS...\n"
     ]
    },
    {
     "name": "stderr",
     "output_type": "stream",
     "text": [
      "[*********************100%***********************]  1 of 1 completed\n"
     ]
    },
    {
     "name": "stdout",
     "output_type": "stream",
     "text": [
      "Data for TATASTEEL.NS saved to Stock_Data\\TATASTEEL.NS.csv.\n",
      "Downloading data for TTML.NS...\n"
     ]
    },
    {
     "name": "stderr",
     "output_type": "stream",
     "text": [
      "[*********************100%***********************]  1 of 1 completed\n"
     ]
    },
    {
     "name": "stdout",
     "output_type": "stream",
     "text": [
      "Data for TTML.NS saved to Stock_Data\\TTML.NS.csv.\n",
      "Downloading data for TECHM.NS...\n"
     ]
    },
    {
     "name": "stderr",
     "output_type": "stream",
     "text": [
      "[*********************100%***********************]  1 of 1 completed\n"
     ]
    },
    {
     "name": "stdout",
     "output_type": "stream",
     "text": [
      "Data for TECHM.NS saved to Stock_Data\\TECHM.NS.csv.\n",
      "Downloading data for TECHNOE.NS...\n"
     ]
    },
    {
     "name": "stderr",
     "output_type": "stream",
     "text": [
      "[*********************100%***********************]  1 of 1 completed\n"
     ]
    },
    {
     "name": "stdout",
     "output_type": "stream",
     "text": [
      "Data for TECHNOE.NS saved to Stock_Data\\TECHNOE.NS.csv.\n",
      "Downloading data for TEJASNET.NS...\n"
     ]
    },
    {
     "name": "stderr",
     "output_type": "stream",
     "text": [
      "[*********************100%***********************]  1 of 1 completed\n"
     ]
    },
    {
     "name": "stdout",
     "output_type": "stream",
     "text": [
      "Data for TEJASNET.NS saved to Stock_Data\\TEJASNET.NS.csv.\n",
      "Downloading data for NIACL.NS...\n"
     ]
    },
    {
     "name": "stderr",
     "output_type": "stream",
     "text": [
      "[*********************100%***********************]  1 of 1 completed\n"
     ]
    },
    {
     "name": "stdout",
     "output_type": "stream",
     "text": [
      "Data for NIACL.NS saved to Stock_Data\\NIACL.NS.csv.\n",
      "Downloading data for RAMCOCEM.NS...\n"
     ]
    },
    {
     "name": "stderr",
     "output_type": "stream",
     "text": [
      "[*********************100%***********************]  1 of 1 completed\n"
     ]
    },
    {
     "name": "stdout",
     "output_type": "stream",
     "text": [
      "Data for RAMCOCEM.NS saved to Stock_Data\\RAMCOCEM.NS.csv.\n",
      "Downloading data for THERMAX.NS...\n"
     ]
    },
    {
     "name": "stderr",
     "output_type": "stream",
     "text": [
      "[*********************100%***********************]  1 of 1 completed\n"
     ]
    },
    {
     "name": "stdout",
     "output_type": "stream",
     "text": [
      "Data for THERMAX.NS saved to Stock_Data\\THERMAX.NS.csv.\n",
      "Downloading data for TIMKEN.NS...\n"
     ]
    },
    {
     "name": "stderr",
     "output_type": "stream",
     "text": [
      "[*********************100%***********************]  1 of 1 completed\n"
     ]
    },
    {
     "name": "stdout",
     "output_type": "stream",
     "text": [
      "Data for TIMKEN.NS saved to Stock_Data\\TIMKEN.NS.csv.\n",
      "Downloading data for TITAGARH.NS...\n"
     ]
    },
    {
     "name": "stderr",
     "output_type": "stream",
     "text": [
      "[*********************100%***********************]  1 of 1 completed\n"
     ]
    },
    {
     "name": "stdout",
     "output_type": "stream",
     "text": [
      "Data for TITAGARH.NS saved to Stock_Data\\TITAGARH.NS.csv.\n",
      "Downloading data for TITAN.NS...\n"
     ]
    },
    {
     "name": "stderr",
     "output_type": "stream",
     "text": [
      "[*********************100%***********************]  1 of 1 completed\n"
     ]
    },
    {
     "name": "stdout",
     "output_type": "stream",
     "text": [
      "Data for TITAN.NS saved to Stock_Data\\TITAN.NS.csv.\n",
      "Downloading data for TORNTPHARM.NS...\n"
     ]
    },
    {
     "name": "stderr",
     "output_type": "stream",
     "text": [
      "[*********************100%***********************]  1 of 1 completed\n"
     ]
    },
    {
     "name": "stdout",
     "output_type": "stream",
     "text": [
      "Data for TORNTPHARM.NS saved to Stock_Data\\TORNTPHARM.NS.csv.\n",
      "Downloading data for TORNTPOWER.NS...\n"
     ]
    },
    {
     "name": "stderr",
     "output_type": "stream",
     "text": [
      "[*********************100%***********************]  1 of 1 completed\n"
     ]
    },
    {
     "name": "stdout",
     "output_type": "stream",
     "text": [
      "Data for TORNTPOWER.NS saved to Stock_Data\\TORNTPOWER.NS.csv.\n",
      "Downloading data for TRENT.NS...\n"
     ]
    },
    {
     "name": "stderr",
     "output_type": "stream",
     "text": [
      "[*********************100%***********************]  1 of 1 completed\n"
     ]
    },
    {
     "name": "stdout",
     "output_type": "stream",
     "text": [
      "Data for TRENT.NS saved to Stock_Data\\TRENT.NS.csv.\n",
      "Downloading data for TRIDENT.NS...\n"
     ]
    },
    {
     "name": "stderr",
     "output_type": "stream",
     "text": [
      "[*********************100%***********************]  1 of 1 completed\n"
     ]
    },
    {
     "name": "stdout",
     "output_type": "stream",
     "text": [
      "Data for TRIDENT.NS saved to Stock_Data\\TRIDENT.NS.csv.\n",
      "Downloading data for TRIVENI.NS...\n"
     ]
    },
    {
     "name": "stderr",
     "output_type": "stream",
     "text": [
      "[*********************100%***********************]  1 of 1 completed\n"
     ]
    },
    {
     "name": "stdout",
     "output_type": "stream",
     "text": [
      "Data for TRIVENI.NS saved to Stock_Data\\TRIVENI.NS.csv.\n",
      "Downloading data for TRITURBINE.NS...\n"
     ]
    },
    {
     "name": "stderr",
     "output_type": "stream",
     "text": [
      "[*********************100%***********************]  1 of 1 completed\n"
     ]
    },
    {
     "name": "stdout",
     "output_type": "stream",
     "text": [
      "Data for TRITURBINE.NS saved to Stock_Data\\TRITURBINE.NS.csv.\n",
      "Downloading data for TIINDIA.NS...\n"
     ]
    },
    {
     "name": "stderr",
     "output_type": "stream",
     "text": [
      "[*********************100%***********************]  1 of 1 completed\n"
     ]
    },
    {
     "name": "stdout",
     "output_type": "stream",
     "text": [
      "Data for TIINDIA.NS saved to Stock_Data\\TIINDIA.NS.csv.\n",
      "Downloading data for UCOBANK.NS...\n"
     ]
    },
    {
     "name": "stderr",
     "output_type": "stream",
     "text": [
      "[*********************100%***********************]  1 of 1 completed\n"
     ]
    },
    {
     "name": "stdout",
     "output_type": "stream",
     "text": [
      "Data for UCOBANK.NS saved to Stock_Data\\UCOBANK.NS.csv.\n",
      "Downloading data for UNOMINDA.NS...\n"
     ]
    },
    {
     "name": "stderr",
     "output_type": "stream",
     "text": [
      "[*********************100%***********************]  1 of 1 completed\n"
     ]
    },
    {
     "name": "stdout",
     "output_type": "stream",
     "text": [
      "Data for UNOMINDA.NS saved to Stock_Data\\UNOMINDA.NS.csv.\n",
      "Downloading data for UPL.NS...\n"
     ]
    },
    {
     "name": "stderr",
     "output_type": "stream",
     "text": [
      "[*********************100%***********************]  1 of 1 completed\n"
     ]
    },
    {
     "name": "stdout",
     "output_type": "stream",
     "text": [
      "Data for UPL.NS saved to Stock_Data\\UPL.NS.csv.\n",
      "Downloading data for UTIAMC.NS...\n"
     ]
    },
    {
     "name": "stderr",
     "output_type": "stream",
     "text": [
      "[*********************100%***********************]  1 of 1 completed\n"
     ]
    },
    {
     "name": "stdout",
     "output_type": "stream",
     "text": [
      "Data for UTIAMC.NS saved to Stock_Data\\UTIAMC.NS.csv.\n",
      "Downloading data for UJJIVANSFB.NS...\n"
     ]
    },
    {
     "name": "stderr",
     "output_type": "stream",
     "text": [
      "[*********************100%***********************]  1 of 1 completed\n"
     ]
    },
    {
     "name": "stdout",
     "output_type": "stream",
     "text": [
      "Data for UJJIVANSFB.NS saved to Stock_Data\\UJJIVANSFB.NS.csv.\n",
      "Downloading data for ULTRACEMCO.NS...\n"
     ]
    },
    {
     "name": "stderr",
     "output_type": "stream",
     "text": [
      "[*********************100%***********************]  1 of 1 completed\n"
     ]
    },
    {
     "name": "stdout",
     "output_type": "stream",
     "text": [
      "Data for ULTRACEMCO.NS saved to Stock_Data\\ULTRACEMCO.NS.csv.\n",
      "Downloading data for UNIONBANK.NS...\n"
     ]
    },
    {
     "name": "stderr",
     "output_type": "stream",
     "text": [
      "[*********************100%***********************]  1 of 1 completed\n"
     ]
    },
    {
     "name": "stdout",
     "output_type": "stream",
     "text": [
      "Data for UNIONBANK.NS saved to Stock_Data\\UNIONBANK.NS.csv.\n",
      "Downloading data for UBL.NS...\n"
     ]
    },
    {
     "name": "stderr",
     "output_type": "stream",
     "text": [
      "[*********************100%***********************]  1 of 1 completed\n"
     ]
    },
    {
     "name": "stdout",
     "output_type": "stream",
     "text": [
      "Data for UBL.NS saved to Stock_Data\\UBL.NS.csv.\n",
      "Downloading data for USHAMART.NS...\n"
     ]
    },
    {
     "name": "stderr",
     "output_type": "stream",
     "text": [
      "[*********************100%***********************]  1 of 1 completed\n"
     ]
    },
    {
     "name": "stdout",
     "output_type": "stream",
     "text": [
      "Data for USHAMART.NS saved to Stock_Data\\USHAMART.NS.csv.\n",
      "Downloading data for VGUARD.NS...\n"
     ]
    },
    {
     "name": "stderr",
     "output_type": "stream",
     "text": [
      "[*********************100%***********************]  1 of 1 completed\n"
     ]
    },
    {
     "name": "stdout",
     "output_type": "stream",
     "text": [
      "Data for VGUARD.NS saved to Stock_Data\\VGUARD.NS.csv.\n",
      "Downloading data for VIPIND.NS...\n"
     ]
    },
    {
     "name": "stderr",
     "output_type": "stream",
     "text": [
      "[*********************100%***********************]  1 of 1 completed\n",
      "[*********************100%***********************]  1 of 1 completed"
     ]
    },
    {
     "name": "stdout",
     "output_type": "stream",
     "text": [
      "Data for VIPIND.NS saved to Stock_Data\\VIPIND.NS.csv.\n",
      "Downloading data for DBREALTY.NS...\n"
     ]
    },
    {
     "name": "stderr",
     "output_type": "stream",
     "text": [
      "\n"
     ]
    },
    {
     "name": "stdout",
     "output_type": "stream",
     "text": [
      "Data for DBREALTY.NS saved to Stock_Data\\DBREALTY.NS.csv.\n",
      "Downloading data for VTL.NS...\n"
     ]
    },
    {
     "name": "stderr",
     "output_type": "stream",
     "text": [
      "[*********************100%***********************]  1 of 1 completed\n"
     ]
    },
    {
     "name": "stdout",
     "output_type": "stream",
     "text": [
      "Data for VTL.NS saved to Stock_Data\\VTL.NS.csv.\n",
      "Downloading data for VARROC.NS...\n"
     ]
    },
    {
     "name": "stderr",
     "output_type": "stream",
     "text": [
      "[*********************100%***********************]  1 of 1 completed\n"
     ]
    },
    {
     "name": "stdout",
     "output_type": "stream",
     "text": [
      "Data for VARROC.NS saved to Stock_Data\\VARROC.NS.csv.\n",
      "Downloading data for VBL.NS...\n"
     ]
    },
    {
     "name": "stderr",
     "output_type": "stream",
     "text": [
      "[*********************100%***********************]  1 of 1 completed\n"
     ]
    },
    {
     "name": "stdout",
     "output_type": "stream",
     "text": [
      "Data for VBL.NS saved to Stock_Data\\VBL.NS.csv.\n",
      "Downloading data for VEDL.NS...\n"
     ]
    },
    {
     "name": "stderr",
     "output_type": "stream",
     "text": [
      "[*********************100%***********************]  1 of 1 completed\n"
     ]
    },
    {
     "name": "stdout",
     "output_type": "stream",
     "text": [
      "Data for VEDL.NS saved to Stock_Data\\VEDL.NS.csv.\n",
      "Downloading data for VIJAYA.NS...\n"
     ]
    },
    {
     "name": "stderr",
     "output_type": "stream",
     "text": [
      "[*********************100%***********************]  1 of 1 completed\n"
     ]
    },
    {
     "name": "stdout",
     "output_type": "stream",
     "text": [
      "Data for VIJAYA.NS saved to Stock_Data\\VIJAYA.NS.csv.\n",
      "Downloading data for VINATIORGA.NS...\n"
     ]
    },
    {
     "name": "stderr",
     "output_type": "stream",
     "text": [
      "[*********************100%***********************]  1 of 1 completed\n"
     ]
    },
    {
     "name": "stdout",
     "output_type": "stream",
     "text": [
      "Data for VINATIORGA.NS saved to Stock_Data\\VINATIORGA.NS.csv.\n",
      "Downloading data for IDEA.NS...\n"
     ]
    },
    {
     "name": "stderr",
     "output_type": "stream",
     "text": [
      "[*********************100%***********************]  1 of 1 completed\n"
     ]
    },
    {
     "name": "stdout",
     "output_type": "stream",
     "text": [
      "Data for IDEA.NS saved to Stock_Data\\IDEA.NS.csv.\n",
      "Downloading data for VOLTAS.NS...\n"
     ]
    },
    {
     "name": "stderr",
     "output_type": "stream",
     "text": [
      "[*********************100%***********************]  1 of 1 completed\n"
     ]
    },
    {
     "name": "stdout",
     "output_type": "stream",
     "text": [
      "Data for VOLTAS.NS saved to Stock_Data\\VOLTAS.NS.csv.\n",
      "Downloading data for WELCORP.NS...\n"
     ]
    },
    {
     "name": "stderr",
     "output_type": "stream",
     "text": [
      "[*********************100%***********************]  1 of 1 completed\n"
     ]
    },
    {
     "name": "stdout",
     "output_type": "stream",
     "text": [
      "Data for WELCORP.NS saved to Stock_Data\\WELCORP.NS.csv.\n",
      "Downloading data for WELSPUNLIV.NS...\n"
     ]
    },
    {
     "name": "stderr",
     "output_type": "stream",
     "text": [
      "[*********************100%***********************]  1 of 1 completed\n"
     ]
    },
    {
     "name": "stdout",
     "output_type": "stream",
     "text": [
      "Data for WELSPUNLIV.NS saved to Stock_Data\\WELSPUNLIV.NS.csv.\n",
      "Downloading data for WESTLIFE.NS...\n"
     ]
    },
    {
     "name": "stderr",
     "output_type": "stream",
     "text": [
      "[*********************100%***********************]  1 of 1 completed\n"
     ]
    },
    {
     "name": "stdout",
     "output_type": "stream",
     "text": [
      "Data for WESTLIFE.NS saved to Stock_Data\\WESTLIFE.NS.csv.\n",
      "Downloading data for WHIRLPOOL.NS...\n"
     ]
    },
    {
     "name": "stderr",
     "output_type": "stream",
     "text": [
      "[*********************100%***********************]  1 of 1 completed\n"
     ]
    },
    {
     "name": "stdout",
     "output_type": "stream",
     "text": [
      "Data for WHIRLPOOL.NS saved to Stock_Data\\WHIRLPOOL.NS.csv.\n",
      "Downloading data for WIPRO.NS...\n"
     ]
    },
    {
     "name": "stderr",
     "output_type": "stream",
     "text": [
      "[*********************100%***********************]  1 of 1 completed\n",
      "[*********************100%***********************]  1 of 1 completed"
     ]
    },
    {
     "name": "stdout",
     "output_type": "stream",
     "text": [
      "Data for WIPRO.NS saved to Stock_Data\\WIPRO.NS.csv.\n",
      "Downloading data for YESBANK.NS...\n"
     ]
    },
    {
     "name": "stderr",
     "output_type": "stream",
     "text": [
      "\n"
     ]
    },
    {
     "name": "stdout",
     "output_type": "stream",
     "text": [
      "Data for YESBANK.NS saved to Stock_Data\\YESBANK.NS.csv.\n",
      "Downloading data for ZFCVINDIA.NS...\n"
     ]
    },
    {
     "name": "stderr",
     "output_type": "stream",
     "text": [
      "[*********************100%***********************]  1 of 1 completed\n"
     ]
    },
    {
     "name": "stdout",
     "output_type": "stream",
     "text": [
      "Data for ZFCVINDIA.NS saved to Stock_Data\\ZFCVINDIA.NS.csv.\n",
      "Downloading data for ZEEL.NS...\n"
     ]
    },
    {
     "name": "stderr",
     "output_type": "stream",
     "text": [
      "[*********************100%***********************]  1 of 1 completed\n"
     ]
    },
    {
     "name": "stdout",
     "output_type": "stream",
     "text": [
      "Data for ZEEL.NS saved to Stock_Data\\ZEEL.NS.csv.\n",
      "Downloading data for ZENSARTECH.NS...\n"
     ]
    },
    {
     "name": "stderr",
     "output_type": "stream",
     "text": [
      "[*********************100%***********************]  1 of 1 completed\n"
     ]
    },
    {
     "name": "stdout",
     "output_type": "stream",
     "text": [
      "Data for ZENSARTECH.NS saved to Stock_Data\\ZENSARTECH.NS.csv.\n",
      "Downloading data for ZOMATO.NS...\n"
     ]
    },
    {
     "name": "stderr",
     "output_type": "stream",
     "text": [
      "[*********************100%***********************]  1 of 1 completed\n"
     ]
    },
    {
     "name": "stdout",
     "output_type": "stream",
     "text": [
      "Data for ZOMATO.NS saved to Stock_Data\\ZOMATO.NS.csv.\n",
      "Downloading data for ZYDUSLIFE.NS...\n"
     ]
    },
    {
     "name": "stderr",
     "output_type": "stream",
     "text": [
      "[*********************100%***********************]  1 of 1 completed\n"
     ]
    },
    {
     "name": "stdout",
     "output_type": "stream",
     "text": [
      "Data for ZYDUSLIFE.NS saved to Stock_Data\\ZYDUSLIFE.NS.csv.\n",
      "Downloading data for ECLERX.NS...\n"
     ]
    },
    {
     "name": "stderr",
     "output_type": "stream",
     "text": [
      "[*********************100%***********************]  1 of 1 completed"
     ]
    },
    {
     "name": "stdout",
     "output_type": "stream",
     "text": [
      "Data for ECLERX.NS saved to Stock_Data\\ECLERX.NS.csv.\n",
      "Data download complete. Files saved in the folder: Stock_Data\n"
     ]
    },
    {
     "name": "stderr",
     "output_type": "stream",
     "text": [
      "\n"
     ]
    }
   ],
   "source": [
    "import yfinance as yf\n",
    "import pandas as pd\n",
    "import os\n",
    "import time\n",
    "\n",
    "# Create a folder to save the CSV files\n",
    "output_folder = \"Stock_Data\"\n",
    "if not os.path.exists(output_folder):\n",
    "    os.makedirs(output_folder)\n",
    "\n",
    "# Read the CSV file containing Nifty 500 symbols\n",
    "df = pd.read_csv(r'filtered_companies.csv')\n",
    "\n",
    "# Add '.NS' to each ticker (if not already present)\n",
    "tickers = df['Symbol'] + \".NS\"\n",
    "\n",
    "# Define the start and end dates\n",
    "start_date = \"2022-01-10\"\n",
    "end_date = \"2025-01-10\"\n",
    "# Loop through each ticker and download historical data\n",
    "for ticker in tickers:\n",
    "    try:\n",
    "        print(f\"Downloading data for {ticker}...\")\n",
    "        # Fetch the historical data\n",
    "        data = yf.download(ticker, start=start_date, end=end_date)\n",
    "        \n",
    "        # Check if data is not empty\n",
    "        if not data.empty:\n",
    "            # Save the data to a CSV file in the output folder\n",
    "            file_name = os.path.join(output_folder, f\"{ticker}.csv\")\n",
    "            data.to_csv(file_name)\n",
    "            print(f\"Data for {ticker} saved to {file_name}.\")\n",
    "        else:\n",
    "            print(f\"No data found for {ticker}.\")\n",
    "        \n",
    "        # Add a delay to avoid hitting rate limits\n",
    "        \n",
    "    except Exception as e:\n",
    "        print(f\"Error downloading data for {ticker}: {e}\")\n",
    "\n",
    "print(f\"Data download complete. Files saved in the folder: {output_folder}\")"
   ]
  },
  {
   "cell_type": "code",
   "execution_count": 5,
   "metadata": {},
   "outputs": [
    {
     "data": {
      "application/vnd.microsoft.datawrangler.viewer.v0+json": {
       "columns": [
        {
         "name": "index",
         "rawType": "int64",
         "type": "integer"
        },
        {
         "name": "Price",
         "rawType": "object",
         "type": "string"
        },
        {
         "name": "Close",
         "rawType": "object",
         "type": "unknown"
        },
        {
         "name": "High",
         "rawType": "object",
         "type": "unknown"
        },
        {
         "name": "Low",
         "rawType": "object",
         "type": "unknown"
        },
        {
         "name": "Open",
         "rawType": "object",
         "type": "unknown"
        },
        {
         "name": "Volume",
         "rawType": "object",
         "type": "unknown"
        }
       ],
       "conversionMethod": "pd.DataFrame",
       "ref": "88ea6847-13b5-44bc-bd3d-c91903cf69f9",
       "rows": [
        [
         "0",
         "Ticker",
         "360ONE.NS",
         "360ONE.NS",
         "360ONE.NS",
         "360ONE.NS",
         "360ONE.NS"
        ],
        [
         "1",
         "Date",
         null,
         null,
         null,
         null,
         null
        ],
        [
         "2",
         "2022-01-10",
         "354.8367919921875",
         "359.09537605405046",
         "350.8436262909572",
         "352.63246714869075",
         "182644"
        ],
        [
         "3",
         "2022-01-11",
         "363.37701416015625",
         "368.15493845463624",
         "354.5828203621924",
         "355.4599405768902",
         "276956"
        ],
        [
         "4",
         "2022-01-12",
         "363.35394287109375",
         "373.4522375564521",
         "357.9412681901598",
         "368.84742645034686",
         "215572"
        ]
       ],
       "shape": {
        "columns": 6,
        "rows": 5
       }
      },
      "text/html": [
       "<div>\n",
       "<style scoped>\n",
       "    .dataframe tbody tr th:only-of-type {\n",
       "        vertical-align: middle;\n",
       "    }\n",
       "\n",
       "    .dataframe tbody tr th {\n",
       "        vertical-align: top;\n",
       "    }\n",
       "\n",
       "    .dataframe thead th {\n",
       "        text-align: right;\n",
       "    }\n",
       "</style>\n",
       "<table border=\"1\" class=\"dataframe\">\n",
       "  <thead>\n",
       "    <tr style=\"text-align: right;\">\n",
       "      <th></th>\n",
       "      <th>Price</th>\n",
       "      <th>Close</th>\n",
       "      <th>High</th>\n",
       "      <th>Low</th>\n",
       "      <th>Open</th>\n",
       "      <th>Volume</th>\n",
       "    </tr>\n",
       "  </thead>\n",
       "  <tbody>\n",
       "    <tr>\n",
       "      <th>0</th>\n",
       "      <td>Ticker</td>\n",
       "      <td>360ONE.NS</td>\n",
       "      <td>360ONE.NS</td>\n",
       "      <td>360ONE.NS</td>\n",
       "      <td>360ONE.NS</td>\n",
       "      <td>360ONE.NS</td>\n",
       "    </tr>\n",
       "    <tr>\n",
       "      <th>1</th>\n",
       "      <td>Date</td>\n",
       "      <td>NaN</td>\n",
       "      <td>NaN</td>\n",
       "      <td>NaN</td>\n",
       "      <td>NaN</td>\n",
       "      <td>NaN</td>\n",
       "    </tr>\n",
       "    <tr>\n",
       "      <th>2</th>\n",
       "      <td>2022-01-10</td>\n",
       "      <td>354.8367919921875</td>\n",
       "      <td>359.09537605405046</td>\n",
       "      <td>350.8436262909572</td>\n",
       "      <td>352.63246714869075</td>\n",
       "      <td>182644</td>\n",
       "    </tr>\n",
       "    <tr>\n",
       "      <th>3</th>\n",
       "      <td>2022-01-11</td>\n",
       "      <td>363.37701416015625</td>\n",
       "      <td>368.15493845463624</td>\n",
       "      <td>354.5828203621924</td>\n",
       "      <td>355.4599405768902</td>\n",
       "      <td>276956</td>\n",
       "    </tr>\n",
       "    <tr>\n",
       "      <th>4</th>\n",
       "      <td>2022-01-12</td>\n",
       "      <td>363.35394287109375</td>\n",
       "      <td>373.4522375564521</td>\n",
       "      <td>357.9412681901598</td>\n",
       "      <td>368.84742645034686</td>\n",
       "      <td>215572</td>\n",
       "    </tr>\n",
       "  </tbody>\n",
       "</table>\n",
       "</div>"
      ],
      "text/plain": [
       "        Price               Close                High                Low  \\\n",
       "0      Ticker           360ONE.NS           360ONE.NS          360ONE.NS   \n",
       "1        Date                 NaN                 NaN                NaN   \n",
       "2  2022-01-10   354.8367919921875  359.09537605405046  350.8436262909572   \n",
       "3  2022-01-11  363.37701416015625  368.15493845463624  354.5828203621924   \n",
       "4  2022-01-12  363.35394287109375   373.4522375564521  357.9412681901598   \n",
       "\n",
       "                 Open     Volume  \n",
       "0           360ONE.NS  360ONE.NS  \n",
       "1                 NaN        NaN  \n",
       "2  352.63246714869075     182644  \n",
       "3   355.4599405768902     276956  \n",
       "4  368.84742645034686     215572  "
      ]
     },
     "execution_count": 5,
     "metadata": {},
     "output_type": "execute_result"
    }
   ],
   "source": [
    "pd.read_csv(r'Stock_Data\\360ONE.NS.csv').head()"
   ]
  },
  {
   "cell_type": "code",
   "execution_count": 6,
   "metadata": {},
   "outputs": [
    {
     "data": {
      "text/plain": [
       "['360ONE.NS.csv',\n",
       " 'AARTIIND.NS.csv',\n",
       " 'AAVAS.NS.csv',\n",
       " 'ABB.NS.csv',\n",
       " 'ABBOTINDIA.NS.csv',\n",
       " 'ABCAPITAL.NS.csv',\n",
       " 'ABFRL.NS.csv',\n",
       " 'ABSLAMC.NS.csv',\n",
       " 'ACC.NS.csv',\n",
       " 'ACE.NS.csv',\n",
       " 'ADANIENT.NS.csv',\n",
       " 'ADANIGREEN.NS.csv',\n",
       " 'ADANIPORTS.NS.csv',\n",
       " 'ADANIPOWER.NS.csv',\n",
       " 'AFFLE.NS.csv',\n",
       " 'AIAENG.NS.csv',\n",
       " 'AJANTPHARM.NS.csv',\n",
       " 'ALKEM.NS.csv',\n",
       " 'ALKYLAMINE.NS.csv',\n",
       " 'ALOKINDS.NS.csv',\n",
       " 'AMBER.NS.csv',\n",
       " 'AMBUJACEM.NS.csv',\n",
       " 'ANANDRATHI.NS.csv',\n",
       " 'ANANTRAJ.NS.csv',\n",
       " 'ANGELONE.NS.csv',\n",
       " 'APARINDS.NS.csv',\n",
       " 'APLAPOLLO.NS.csv',\n",
       " 'APLLTD.NS.csv',\n",
       " 'APOLLOHOSP.NS.csv',\n",
       " 'APOLLOTYRE.NS.csv',\n",
       " 'APTUS.NS.csv',\n",
       " 'ASAHIINDIA.NS.csv',\n",
       " 'ASHOKLEY.NS.csv',\n",
       " 'ASIANPAINT.NS.csv',\n",
       " 'ASTERDM.NS.csv',\n",
       " 'ASTRAL.NS.csv',\n",
       " 'ASTRAZEN.NS.csv',\n",
       " 'ATGL.NS.csv',\n",
       " 'ATUL.NS.csv',\n",
       " 'AUBANK.NS.csv',\n",
       " 'AUROPHARMA.NS.csv',\n",
       " 'AVANTIFEED.NS.csv',\n",
       " 'AXISBANK.NS.csv',\n",
       " 'BAJAJ-AUTO.NS.csv',\n",
       " 'BAJAJFINSV.NS.csv',\n",
       " 'BAJAJHLDNG.NS.csv',\n",
       " 'BAJFINANCE.NS.csv',\n",
       " 'BALAMINES.NS.csv',\n",
       " 'BALKRISIND.NS.csv',\n",
       " 'BALRAMCHIN.NS.csv',\n",
       " 'BANDHANBNK.NS.csv',\n",
       " 'BANKBARODA.NS.csv',\n",
       " 'BANKINDIA.NS.csv',\n",
       " 'BASF.NS.csv',\n",
       " 'BATAINDIA.NS.csv',\n",
       " 'BAYERCROP.NS.csv',\n",
       " 'BBTC.NS.csv',\n",
       " 'BDL.NS.csv',\n",
       " 'BEL.NS.csv',\n",
       " 'BEML.NS.csv',\n",
       " 'BERGEPAINT.NS.csv',\n",
       " 'BHARATFORG.NS.csv',\n",
       " 'BHARTIARTL.NS.csv',\n",
       " 'BHEL.NS.csv',\n",
       " 'BIOCON.NS.csv',\n",
       " 'BIRLACORPN.NS.csv',\n",
       " 'BLS.NS.csv',\n",
       " 'BLUEDART.NS.csv',\n",
       " 'BLUESTARCO.NS.csv',\n",
       " 'BOSCHLTD.NS.csv',\n",
       " 'BPCL.NS.csv',\n",
       " 'BRITANNIA.NS.csv',\n",
       " 'BSE.NS.csv',\n",
       " 'BSOFT.NS.csv',\n",
       " 'CAMS.NS.csv',\n",
       " 'CANBK.NS.csv',\n",
       " 'CANFINHOME.NS.csv',\n",
       " 'CAPLIPOINT.NS.csv',\n",
       " 'CARBORUNIV.NS.csv',\n",
       " 'CASTROLIND.NS.csv',\n",
       " 'CCL.NS.csv',\n",
       " 'CDSL.NS.csv',\n",
       " 'CEATLTD.NS.csv',\n",
       " 'CENTRALBK.NS.csv',\n",
       " 'CENTURYPLY.NS.csv',\n",
       " 'CERA.NS.csv',\n",
       " 'CESC.NS.csv',\n",
       " 'CGCL.NS.csv',\n",
       " 'CGPOWER.NS.csv',\n",
       " 'CHALET.NS.csv',\n",
       " 'CHAMBLFERT.NS.csv',\n",
       " 'CHEMPLASTS.NS.csv',\n",
       " 'CHENNPETRO.NS.csv',\n",
       " 'CHOLAFIN.NS.csv',\n",
       " 'CHOLAHLDNG.NS.csv',\n",
       " 'CIEINDIA.NS.csv',\n",
       " 'CIPLA.NS.csv',\n",
       " 'CLEAN.NS.csv',\n",
       " 'COALINDIA.NS.csv',\n",
       " 'COCHINSHIP.NS.csv',\n",
       " 'COFORGE.NS.csv',\n",
       " 'COLPAL.NS.csv',\n",
       " 'CONCOR.NS.csv',\n",
       " 'COROMANDEL.NS.csv',\n",
       " 'CRAFTSMAN.NS.csv',\n",
       " 'CREDITACC.NS.csv',\n",
       " 'CRISIL.NS.csv',\n",
       " 'CROMPTON.NS.csv',\n",
       " 'CUB.NS.csv',\n",
       " 'CUMMINSIND.NS.csv',\n",
       " 'CYIENT.NS.csv',\n",
       " 'DABUR.NS.csv',\n",
       " 'DALBHARAT.NS.csv',\n",
       " 'DATAPATTNS.NS.csv',\n",
       " 'DBREALTY.NS.csv',\n",
       " 'DEEPAKFERT.NS.csv',\n",
       " 'DEEPAKNTR.NS.csv',\n",
       " 'DEVYANI.NS.csv',\n",
       " 'DIVISLAB.NS.csv',\n",
       " 'DIXON.NS.csv',\n",
       " 'DLF.NS.csv',\n",
       " 'DMART.NS.csv',\n",
       " 'DRREDDY.NS.csv',\n",
       " 'EASEMYTRIP.NS.csv',\n",
       " 'ECLERX.NS.csv',\n",
       " 'EICHERMOT.NS.csv',\n",
       " 'EIDPARRY.NS.csv',\n",
       " 'EIHOTEL.NS.csv',\n",
       " 'ELECON.NS.csv',\n",
       " 'ELGIEQUIP.NS.csv',\n",
       " 'EMAMILTD.NS.csv',\n",
       " 'ENDURANCE.NS.csv',\n",
       " 'ENGINERSIN.NS.csv',\n",
       " 'EQUITASBNK.NS.csv',\n",
       " 'ERIS.NS.csv',\n",
       " 'ESCORTS.NS.csv',\n",
       " 'EXIDEIND.NS.csv',\n",
       " 'FACT.NS.csv',\n",
       " 'FEDERALBNK.NS.csv',\n",
       " 'FINCABLES.NS.csv',\n",
       " 'FINEORG.NS.csv',\n",
       " 'FINPIPE.NS.csv',\n",
       " 'FLUOROCHEM.NS.csv',\n",
       " 'FORTIS.NS.csv',\n",
       " 'FSL.NS.csv',\n",
       " 'GAEL.NS.csv',\n",
       " 'GAIL.NS.csv',\n",
       " 'GESHIP.NS.csv',\n",
       " 'GICRE.NS.csv',\n",
       " 'GILLETTE.NS.csv',\n",
       " 'GLAND.NS.csv',\n",
       " 'GLAXO.NS.csv',\n",
       " 'GLENMARK.NS.csv',\n",
       " 'GMDCLTD.NS.csv',\n",
       " 'GMRAIRPORT.NS.csv',\n",
       " 'GNFC.NS.csv',\n",
       " 'GODFRYPHLP.NS.csv',\n",
       " 'GODREJAGRO.NS.csv',\n",
       " 'GODREJCP.NS.csv',\n",
       " 'GODREJPROP.NS.csv',\n",
       " 'GPIL.NS.csv',\n",
       " 'GPPL.NS.csv',\n",
       " 'GRANULES.NS.csv',\n",
       " 'GRAPHITE.NS.csv',\n",
       " 'GRASIM.NS.csv',\n",
       " 'GRINDWELL.NS.csv',\n",
       " 'GRINFRA.NS.csv',\n",
       " 'GRSE.NS.csv',\n",
       " 'GSFC.NS.csv',\n",
       " 'GSPL.NS.csv',\n",
       " 'GUJGASLTD.NS.csv',\n",
       " 'GVT&D.NS.csv',\n",
       " 'HAL.NS.csv',\n",
       " 'HAPPSTMNDS.NS.csv',\n",
       " 'HAVELLS.NS.csv',\n",
       " 'HCLTECH.NS.csv',\n",
       " 'HDFCAMC.NS.csv',\n",
       " 'HDFCBANK.NS.csv',\n",
       " 'HDFCLIFE.NS.csv',\n",
       " 'HEG.NS.csv',\n",
       " 'HEROMOTOCO.NS.csv',\n",
       " 'HFCL.NS.csv',\n",
       " 'HINDALCO.NS.csv',\n",
       " 'HINDCOPPER.NS.csv',\n",
       " 'HINDPETRO.NS.csv',\n",
       " 'HINDUNILVR.NS.csv',\n",
       " 'HINDZINC.NS.csv',\n",
       " 'HOMEFIRST.NS.csv',\n",
       " 'HONAUT.NS.csv',\n",
       " 'HSCL.NS.csv',\n",
       " 'HUDCO.NS.csv',\n",
       " 'ICICIBANK.NS.csv',\n",
       " 'ICICIGI.NS.csv',\n",
       " 'ICICIPRULI.NS.csv',\n",
       " 'IDBI.NS.csv',\n",
       " 'IDEA.NS.csv',\n",
       " 'IDFCFIRSTB.NS.csv',\n",
       " 'IEX.NS.csv',\n",
       " 'IFCI.NS.csv',\n",
       " 'IGL.NS.csv',\n",
       " 'IIFL.NS.csv',\n",
       " 'INDHOTEL.NS.csv',\n",
       " 'INDIACEM.NS.csv',\n",
       " 'INDIAMART.NS.csv',\n",
       " 'INDIANB.NS.csv',\n",
       " 'INDIGO.NS.csv',\n",
       " 'INDUSINDBK.NS.csv',\n",
       " 'INDUSTOWER.NS.csv',\n",
       " 'INFY.NS.csv',\n",
       " 'INOXWIND.NS.csv',\n",
       " 'INTELLECT.NS.csv',\n",
       " 'IOB.NS.csv',\n",
       " 'IOC.NS.csv',\n",
       " 'IPCALAB.NS.csv',\n",
       " 'IRB.NS.csv',\n",
       " 'IRCON.NS.csv',\n",
       " 'IRCTC.NS.csv',\n",
       " 'IRFC.NS.csv',\n",
       " 'ISEC.NS.csv',\n",
       " 'ITC.NS.csv',\n",
       " 'ITI.NS.csv',\n",
       " 'J&KBANK.NS.csv',\n",
       " 'JBCHEPHARM.NS.csv',\n",
       " 'JBMA.NS.csv',\n",
       " 'JINDALSAW.NS.csv',\n",
       " 'JINDALSTEL.NS.csv',\n",
       " 'JKCEMENT.NS.csv',\n",
       " 'JKLAKSHMI.NS.csv',\n",
       " 'JKTYRE.NS.csv',\n",
       " 'JMFINANCIL.NS.csv',\n",
       " 'JPPOWER.NS.csv',\n",
       " 'JSL.NS.csv',\n",
       " 'JSWENERGY.NS.csv',\n",
       " 'JSWSTEEL.NS.csv',\n",
       " 'JUBLFOOD.NS.csv',\n",
       " 'JUBLINGREA.NS.csv',\n",
       " 'JUBLPHARMA.NS.csv',\n",
       " 'JUSTDIAL.NS.csv',\n",
       " 'JWL.NS.csv',\n",
       " 'JYOTHYLAB.NS.csv',\n",
       " 'KAJARIACER.NS.csv',\n",
       " 'KALYANKJIL.NS.csv',\n",
       " 'KANSAINER.NS.csv',\n",
       " 'KARURVYSYA.NS.csv',\n",
       " 'KEC.NS.csv',\n",
       " 'KEI.NS.csv',\n",
       " 'KIMS.NS.csv',\n",
       " 'KIRLOSBROS.NS.csv',\n",
       " 'KIRLOSENG.NS.csv',\n",
       " 'KNRCON.NS.csv',\n",
       " 'KOTAKBANK.NS.csv',\n",
       " 'KPITTECH.NS.csv',\n",
       " 'KPRMILL.NS.csv',\n",
       " 'KSB.NS.csv',\n",
       " 'LALPATHLAB.NS.csv',\n",
       " 'LATENTVIEW.NS.csv',\n",
       " 'LAURUSLABS.NS.csv',\n",
       " 'LEMONTREE.NS.csv',\n",
       " 'LICHSGFIN.NS.csv',\n",
       " 'LINDEINDIA.NS.csv',\n",
       " 'LODHA.NS.csv',\n",
       " 'LT.NS.csv',\n",
       " 'LTF.NS.csv',\n",
       " 'LTIM.NS.csv',\n",
       " 'LTTS.NS.csv',\n",
       " 'LUPIN.NS.csv',\n",
       " 'M&M.NS.csv',\n",
       " 'M&MFIN.NS.csv',\n",
       " 'MAHABANK.NS.csv',\n",
       " 'MAHLIFE.NS.csv',\n",
       " 'MAHSEAMLES.NS.csv',\n",
       " 'MANAPPURAM.NS.csv',\n",
       " 'MAPMYINDIA.NS.csv',\n",
       " 'MARICO.NS.csv',\n",
       " 'MARUTI.NS.csv',\n",
       " 'MASTEK.NS.csv',\n",
       " 'MAXHEALTH.NS.csv',\n",
       " 'MAZDOCK.NS.csv',\n",
       " 'MCX.NS.csv',\n",
       " 'METROBRAND.NS.csv',\n",
       " 'METROPOLIS.NS.csv',\n",
       " 'MFSL.NS.csv',\n",
       " 'MGL.NS.csv',\n",
       " 'MINDACORP.NS.csv',\n",
       " 'MMTC.NS.csv',\n",
       " 'MOTHERSON.NS.csv',\n",
       " 'MOTILALOFS.NS.csv',\n",
       " 'MPHASIS.NS.csv',\n",
       " 'MRF.NS.csv',\n",
       " 'MRPL.NS.csv',\n",
       " 'MUTHOOTFIN.NS.csv',\n",
       " 'NAM-INDIA.NS.csv',\n",
       " 'NATCOPHARM.NS.csv',\n",
       " 'NATIONALUM.NS.csv',\n",
       " 'NAUKRI.NS.csv',\n",
       " 'NAVINFLUOR.NS.csv',\n",
       " 'NBCC.NS.csv',\n",
       " 'NCC.NS.csv',\n",
       " 'NESTLEIND.NS.csv',\n",
       " 'NETWORK18.NS.csv',\n",
       " 'NEWGEN.NS.csv',\n",
       " 'NH.NS.csv',\n",
       " 'NHPC.NS.csv',\n",
       " 'NIACL.NS.csv',\n",
       " 'NLCINDIA.NS.csv',\n",
       " 'NMDC.NS.csv',\n",
       " 'NTPC.NS.csv',\n",
       " 'NUVOCO.NS.csv',\n",
       " 'NYKAA.NS.csv',\n",
       " 'OBEROIRLTY.NS.csv',\n",
       " 'OFSS.NS.csv',\n",
       " 'OIL.NS.csv',\n",
       " 'OLECTRA.NS.csv',\n",
       " 'ONGC.NS.csv',\n",
       " 'PAGEIND.NS.csv',\n",
       " 'PATANJALI.NS.csv',\n",
       " 'PAYTM.NS.csv',\n",
       " 'PCBL.NS.csv',\n",
       " 'PEL.NS.csv',\n",
       " 'PERSISTENT.NS.csv',\n",
       " 'PETRONET.NS.csv',\n",
       " 'PFC.NS.csv',\n",
       " 'PFIZER.NS.csv',\n",
       " 'PGHH.NS.csv',\n",
       " 'PIDILITIND.NS.csv',\n",
       " 'PIIND.NS.csv',\n",
       " 'PNB.NS.csv',\n",
       " 'PNBHOUSING.NS.csv',\n",
       " 'PNCINFRA.NS.csv',\n",
       " 'POLICYBZR.NS.csv',\n",
       " 'POLYCAB.NS.csv',\n",
       " 'POLYMED.NS.csv',\n",
       " 'POONAWALLA.NS.csv',\n",
       " 'POWERGRID.NS.csv',\n",
       " 'POWERINDIA.NS.csv',\n",
       " 'PRAJIND.NS.csv',\n",
       " 'PRESTIGE.NS.csv',\n",
       " 'QUESS.NS.csv',\n",
       " 'RADICO.NS.csv',\n",
       " 'RAILTEL.NS.csv',\n",
       " 'RAJESHEXPO.NS.csv',\n",
       " 'RAMCOCEM.NS.csv',\n",
       " 'RATNAMANI.NS.csv',\n",
       " 'RAYMOND.NS.csv',\n",
       " 'RBLBANK.NS.csv',\n",
       " 'RCF.NS.csv',\n",
       " 'RECLTD.NS.csv',\n",
       " 'REDINGTON.NS.csv',\n",
       " 'RELIANCE.NS.csv',\n",
       " 'RENUKA.NS.csv',\n",
       " 'RHIM.NS.csv',\n",
       " 'RITES.NS.csv',\n",
       " 'RKFORGE.NS.csv',\n",
       " 'ROUTE.NS.csv',\n",
       " 'RTNINDIA.NS.csv',\n",
       " 'RVNL.NS.csv',\n",
       " 'SAIL.NS.csv',\n",
       " 'SAMMAANCAP.NS.csv',\n",
       " 'SANOFI.NS.csv',\n",
       " 'SAPPHIRE.NS.csv',\n",
       " 'SAREGAMA.NS.csv',\n",
       " 'SBICARD.NS.csv',\n",
       " 'SBILIFE.NS.csv',\n",
       " 'SBIN.NS.csv',\n",
       " 'SCHAEFFLER.NS.csv',\n",
       " 'SCHNEIDER.NS.csv',\n",
       " 'SCI.NS.csv',\n",
       " 'SHREECEM.NS.csv',\n",
       " 'SHRIRAMFIN.NS.csv',\n",
       " 'SHYAMMETL.NS.csv',\n",
       " 'SIEMENS.NS.csv',\n",
       " 'SJVN.NS.csv',\n",
       " 'SKFINDIA.NS.csv',\n",
       " 'SOBHA.NS.csv',\n",
       " 'SOLARINDS.NS.csv',\n",
       " 'SONACOMS.NS.csv',\n",
       " 'SONATSOFTW.NS.csv',\n",
       " 'SPARC.NS.csv',\n",
       " 'SRF.NS.csv',\n",
       " 'STARHEALTH.NS.csv',\n",
       " 'SUMICHEM.NS.csv',\n",
       " 'SUNDARMFIN.NS.csv',\n",
       " 'SUNDRMFAST.NS.csv',\n",
       " 'SUNPHARMA.NS.csv',\n",
       " 'SUNTV.NS.csv',\n",
       " 'SUPREMEIND.NS.csv',\n",
       " 'SUVENPHAR.NS.csv',\n",
       " 'SUZLON.NS.csv',\n",
       " 'SWSOLAR.NS.csv',\n",
       " 'SYNGENE.NS.csv',\n",
       " 'TANLA.NS.csv',\n",
       " 'TATACHEM.NS.csv',\n",
       " 'TATACOMM.NS.csv',\n",
       " 'TATACONSUM.NS.csv',\n",
       " 'TATAELXSI.NS.csv',\n",
       " 'TATAINVEST.NS.csv',\n",
       " 'TATAMOTORS.NS.csv',\n",
       " 'TATAPOWER.NS.csv',\n",
       " 'TATASTEEL.NS.csv',\n",
       " 'TCS.NS.csv',\n",
       " 'TECHM.NS.csv',\n",
       " 'TECHNOE.NS.csv',\n",
       " 'TEJASNET.NS.csv',\n",
       " 'THERMAX.NS.csv',\n",
       " 'TIINDIA.NS.csv',\n",
       " 'TIMKEN.NS.csv',\n",
       " 'TITAGARH.NS.csv',\n",
       " 'TITAN.NS.csv',\n",
       " 'TORNTPHARM.NS.csv',\n",
       " 'TORNTPOWER.NS.csv',\n",
       " 'TRENT.NS.csv',\n",
       " 'TRIDENT.NS.csv',\n",
       " 'TRITURBINE.NS.csv',\n",
       " 'TRIVENI.NS.csv',\n",
       " 'TTML.NS.csv',\n",
       " 'TVSMOTOR.NS.csv',\n",
       " 'UBL.NS.csv',\n",
       " 'UCOBANK.NS.csv',\n",
       " 'UJJIVANSFB.NS.csv',\n",
       " 'ULTRACEMCO.NS.csv',\n",
       " 'UNIONBANK.NS.csv',\n",
       " 'UNOMINDA.NS.csv',\n",
       " 'UPL.NS.csv',\n",
       " 'USHAMART.NS.csv',\n",
       " 'UTIAMC.NS.csv',\n",
       " 'VARROC.NS.csv',\n",
       " 'VBL.NS.csv',\n",
       " 'VEDL.NS.csv',\n",
       " 'VGUARD.NS.csv',\n",
       " 'VIJAYA.NS.csv',\n",
       " 'VINATIORGA.NS.csv',\n",
       " 'VIPIND.NS.csv',\n",
       " 'VOLTAS.NS.csv',\n",
       " 'VTL.NS.csv',\n",
       " 'WELCORP.NS.csv',\n",
       " 'WELSPUNLIV.NS.csv',\n",
       " 'WESTLIFE.NS.csv',\n",
       " 'WHIRLPOOL.NS.csv',\n",
       " 'WIPRO.NS.csv',\n",
       " 'YESBANK.NS.csv',\n",
       " 'ZEEL.NS.csv',\n",
       " 'ZENSARTECH.NS.csv',\n",
       " 'ZFCVINDIA.NS.csv',\n",
       " 'ZOMATO.NS.csv',\n",
       " 'ZYDUSLIFE.NS.csv']"
      ]
     },
     "execution_count": 6,
     "metadata": {},
     "output_type": "execute_result"
    }
   ],
   "source": [
    "import os\n",
    "import pandas as pd\n",
    "# Define the input and output folder paths\n",
    "input_folder = \"Stock_Data\"\n",
    "output_folder = \"Cleaned_Data\"\n",
    "\n",
    "# Create the output folder if it doesn't exist\n",
    "os.makedirs(output_folder, exist_ok=True)\n",
    "\n",
    "# Process each CSV file in the input folder\n",
    "for file_name in os.listdir(input_folder):\n",
    "    if file_name.endswith(\".csv\"):\n",
    "        # Load the CSV file\n",
    "        file_path = os.path.join(input_folder, file_name)\n",
    "        data = pd.read_csv(file_path)\n",
    "        \n",
    "        # Clean the data\n",
    "        cleaned_data = data.iloc[2:].copy()\n",
    "        cleaned_data.columns = [\"Date\", \"Close\", \"High\", \"Low\", \"Open\", \"Volume\"]\n",
    "        cleaned_data[\"Date\"] = pd.to_datetime(cleaned_data[\"Date\"], errors=\"coerce\")\n",
    "        for col in [\"Close\", \"High\", \"Low\", \"Open\", \"Volume\"]:\n",
    "            cleaned_data[col] = pd.to_numeric(cleaned_data[col], errors=\"coerce\")\n",
    "        cleaned_data.dropna(inplace=True)\n",
    "        \n",
    "        # Save the cleaned data to the output folder\n",
    "        output_file_path = os.path.join(output_folder, file_name)\n",
    "        cleaned_data.to_csv(output_file_path, index=False)\n",
    "\n",
    "# List the cleaned files in the output folder to confirm completion\n",
    "os.listdir(output_folder)\n"
   ]
  },
  {
   "cell_type": "code",
   "execution_count": 7,
   "metadata": {},
   "outputs": [
    {
     "name": "stdout",
     "output_type": "stream",
     "text": [
      "Filtered data for 360ONE.NS.csv saved to Reference_Data\\360ONE.NS.csv.\n",
      "Filtered data for AARTIIND.NS.csv saved to Reference_Data\\AARTIIND.NS.csv.\n",
      "Filtered data for AAVAS.NS.csv saved to Reference_Data\\AAVAS.NS.csv.\n",
      "Filtered data for ABB.NS.csv saved to Reference_Data\\ABB.NS.csv.\n",
      "Filtered data for ABBOTINDIA.NS.csv saved to Reference_Data\\ABBOTINDIA.NS.csv.\n",
      "Filtered data for ABCAPITAL.NS.csv saved to Reference_Data\\ABCAPITAL.NS.csv.\n",
      "Filtered data for ABFRL.NS.csv saved to Reference_Data\\ABFRL.NS.csv.\n",
      "Filtered data for ABSLAMC.NS.csv saved to Reference_Data\\ABSLAMC.NS.csv.\n",
      "Filtered data for ACC.NS.csv saved to Reference_Data\\ACC.NS.csv.\n",
      "Filtered data for ACE.NS.csv saved to Reference_Data\\ACE.NS.csv.\n",
      "Filtered data for ADANIENT.NS.csv saved to Reference_Data\\ADANIENT.NS.csv.\n",
      "Filtered data for ADANIGREEN.NS.csv saved to Reference_Data\\ADANIGREEN.NS.csv.\n",
      "Filtered data for ADANIPORTS.NS.csv saved to Reference_Data\\ADANIPORTS.NS.csv.\n",
      "Filtered data for ADANIPOWER.NS.csv saved to Reference_Data\\ADANIPOWER.NS.csv.\n",
      "Filtered data for AFFLE.NS.csv saved to Reference_Data\\AFFLE.NS.csv.\n",
      "Filtered data for AIAENG.NS.csv saved to Reference_Data\\AIAENG.NS.csv.\n",
      "Filtered data for AJANTPHARM.NS.csv saved to Reference_Data\\AJANTPHARM.NS.csv.\n",
      "Filtered data for ALKEM.NS.csv saved to Reference_Data\\ALKEM.NS.csv.\n",
      "Filtered data for ALKYLAMINE.NS.csv saved to Reference_Data\\ALKYLAMINE.NS.csv.\n",
      "Filtered data for ALOKINDS.NS.csv saved to Reference_Data\\ALOKINDS.NS.csv.\n",
      "Filtered data for AMBER.NS.csv saved to Reference_Data\\AMBER.NS.csv.\n",
      "Filtered data for AMBUJACEM.NS.csv saved to Reference_Data\\AMBUJACEM.NS.csv.\n",
      "Filtered data for ANANDRATHI.NS.csv saved to Reference_Data\\ANANDRATHI.NS.csv.\n",
      "Filtered data for ANANTRAJ.NS.csv saved to Reference_Data\\ANANTRAJ.NS.csv.\n",
      "Filtered data for ANGELONE.NS.csv saved to Reference_Data\\ANGELONE.NS.csv.\n",
      "Filtered data for APARINDS.NS.csv saved to Reference_Data\\APARINDS.NS.csv.\n",
      "Filtered data for APLAPOLLO.NS.csv saved to Reference_Data\\APLAPOLLO.NS.csv.\n",
      "Filtered data for APLLTD.NS.csv saved to Reference_Data\\APLLTD.NS.csv.\n",
      "Filtered data for APOLLOHOSP.NS.csv saved to Reference_Data\\APOLLOHOSP.NS.csv.\n",
      "Filtered data for APOLLOTYRE.NS.csv saved to Reference_Data\\APOLLOTYRE.NS.csv.\n",
      "Filtered data for APTUS.NS.csv saved to Reference_Data\\APTUS.NS.csv.\n",
      "Filtered data for ASAHIINDIA.NS.csv saved to Reference_Data\\ASAHIINDIA.NS.csv.\n",
      "Filtered data for ASHOKLEY.NS.csv saved to Reference_Data\\ASHOKLEY.NS.csv.\n",
      "Filtered data for ASIANPAINT.NS.csv saved to Reference_Data\\ASIANPAINT.NS.csv.\n",
      "Filtered data for ASTERDM.NS.csv saved to Reference_Data\\ASTERDM.NS.csv.\n",
      "Filtered data for ASTRAL.NS.csv saved to Reference_Data\\ASTRAL.NS.csv.\n",
      "Filtered data for ASTRAZEN.NS.csv saved to Reference_Data\\ASTRAZEN.NS.csv.\n",
      "Filtered data for ATGL.NS.csv saved to Reference_Data\\ATGL.NS.csv.\n",
      "Filtered data for ATUL.NS.csv saved to Reference_Data\\ATUL.NS.csv.\n",
      "Filtered data for AUBANK.NS.csv saved to Reference_Data\\AUBANK.NS.csv.\n",
      "Filtered data for AUROPHARMA.NS.csv saved to Reference_Data\\AUROPHARMA.NS.csv.\n",
      "Filtered data for AVANTIFEED.NS.csv saved to Reference_Data\\AVANTIFEED.NS.csv.\n",
      "Filtered data for AXISBANK.NS.csv saved to Reference_Data\\AXISBANK.NS.csv.\n",
      "Filtered data for BAJAJ-AUTO.NS.csv saved to Reference_Data\\BAJAJ-AUTO.NS.csv.\n",
      "Filtered data for BAJAJFINSV.NS.csv saved to Reference_Data\\BAJAJFINSV.NS.csv.\n",
      "Filtered data for BAJAJHLDNG.NS.csv saved to Reference_Data\\BAJAJHLDNG.NS.csv.\n",
      "Filtered data for BAJFINANCE.NS.csv saved to Reference_Data\\BAJFINANCE.NS.csv.\n",
      "Filtered data for BALAMINES.NS.csv saved to Reference_Data\\BALAMINES.NS.csv.\n",
      "Filtered data for BALKRISIND.NS.csv saved to Reference_Data\\BALKRISIND.NS.csv.\n",
      "Filtered data for BALRAMCHIN.NS.csv saved to Reference_Data\\BALRAMCHIN.NS.csv.\n",
      "Filtered data for BANDHANBNK.NS.csv saved to Reference_Data\\BANDHANBNK.NS.csv.\n",
      "Filtered data for BANKBARODA.NS.csv saved to Reference_Data\\BANKBARODA.NS.csv.\n",
      "Filtered data for BANKINDIA.NS.csv saved to Reference_Data\\BANKINDIA.NS.csv.\n",
      "Filtered data for BASF.NS.csv saved to Reference_Data\\BASF.NS.csv.\n",
      "Filtered data for BATAINDIA.NS.csv saved to Reference_Data\\BATAINDIA.NS.csv.\n",
      "Filtered data for BAYERCROP.NS.csv saved to Reference_Data\\BAYERCROP.NS.csv.\n",
      "Filtered data for BBTC.NS.csv saved to Reference_Data\\BBTC.NS.csv.\n",
      "Filtered data for BDL.NS.csv saved to Reference_Data\\BDL.NS.csv.\n",
      "Filtered data for BEL.NS.csv saved to Reference_Data\\BEL.NS.csv.\n",
      "Filtered data for BEML.NS.csv saved to Reference_Data\\BEML.NS.csv.\n",
      "Filtered data for BERGEPAINT.NS.csv saved to Reference_Data\\BERGEPAINT.NS.csv.\n",
      "Filtered data for BHARATFORG.NS.csv saved to Reference_Data\\BHARATFORG.NS.csv.\n",
      "Filtered data for BHARTIARTL.NS.csv saved to Reference_Data\\BHARTIARTL.NS.csv.\n",
      "Filtered data for BHEL.NS.csv saved to Reference_Data\\BHEL.NS.csv.\n",
      "Filtered data for BIOCON.NS.csv saved to Reference_Data\\BIOCON.NS.csv.\n",
      "Filtered data for BIRLACORPN.NS.csv saved to Reference_Data\\BIRLACORPN.NS.csv.\n",
      "Filtered data for BLS.NS.csv saved to Reference_Data\\BLS.NS.csv.\n",
      "Filtered data for BLUEDART.NS.csv saved to Reference_Data\\BLUEDART.NS.csv.\n",
      "Filtered data for BLUESTARCO.NS.csv saved to Reference_Data\\BLUESTARCO.NS.csv.\n",
      "Filtered data for BOSCHLTD.NS.csv saved to Reference_Data\\BOSCHLTD.NS.csv.\n",
      "Filtered data for BPCL.NS.csv saved to Reference_Data\\BPCL.NS.csv.\n",
      "Filtered data for BRITANNIA.NS.csv saved to Reference_Data\\BRITANNIA.NS.csv.\n",
      "Filtered data for BSE.NS.csv saved to Reference_Data\\BSE.NS.csv.\n",
      "Filtered data for BSOFT.NS.csv saved to Reference_Data\\BSOFT.NS.csv.\n",
      "Filtered data for CAMS.NS.csv saved to Reference_Data\\CAMS.NS.csv.\n",
      "Filtered data for CANBK.NS.csv saved to Reference_Data\\CANBK.NS.csv.\n",
      "Filtered data for CANFINHOME.NS.csv saved to Reference_Data\\CANFINHOME.NS.csv.\n",
      "Filtered data for CAPLIPOINT.NS.csv saved to Reference_Data\\CAPLIPOINT.NS.csv.\n",
      "Filtered data for CARBORUNIV.NS.csv saved to Reference_Data\\CARBORUNIV.NS.csv.\n",
      "Filtered data for CASTROLIND.NS.csv saved to Reference_Data\\CASTROLIND.NS.csv.\n",
      "Filtered data for CCL.NS.csv saved to Reference_Data\\CCL.NS.csv.\n",
      "Filtered data for CDSL.NS.csv saved to Reference_Data\\CDSL.NS.csv.\n",
      "Filtered data for CEATLTD.NS.csv saved to Reference_Data\\CEATLTD.NS.csv.\n",
      "Filtered data for CENTRALBK.NS.csv saved to Reference_Data\\CENTRALBK.NS.csv.\n",
      "Filtered data for CENTURYPLY.NS.csv saved to Reference_Data\\CENTURYPLY.NS.csv.\n",
      "Filtered data for CERA.NS.csv saved to Reference_Data\\CERA.NS.csv.\n",
      "Filtered data for CESC.NS.csv saved to Reference_Data\\CESC.NS.csv.\n",
      "Filtered data for CGCL.NS.csv saved to Reference_Data\\CGCL.NS.csv.\n",
      "Filtered data for CGPOWER.NS.csv saved to Reference_Data\\CGPOWER.NS.csv.\n",
      "Filtered data for CHALET.NS.csv saved to Reference_Data\\CHALET.NS.csv.\n",
      "Filtered data for CHAMBLFERT.NS.csv saved to Reference_Data\\CHAMBLFERT.NS.csv.\n",
      "Filtered data for CHEMPLASTS.NS.csv saved to Reference_Data\\CHEMPLASTS.NS.csv.\n",
      "Filtered data for CHENNPETRO.NS.csv saved to Reference_Data\\CHENNPETRO.NS.csv.\n",
      "Filtered data for CHOLAFIN.NS.csv saved to Reference_Data\\CHOLAFIN.NS.csv.\n",
      "Filtered data for CHOLAHLDNG.NS.csv saved to Reference_Data\\CHOLAHLDNG.NS.csv.\n",
      "Filtered data for CIEINDIA.NS.csv saved to Reference_Data\\CIEINDIA.NS.csv.\n",
      "Filtered data for CIPLA.NS.csv saved to Reference_Data\\CIPLA.NS.csv.\n",
      "Filtered data for CLEAN.NS.csv saved to Reference_Data\\CLEAN.NS.csv.\n",
      "Filtered data for COALINDIA.NS.csv saved to Reference_Data\\COALINDIA.NS.csv.\n",
      "Filtered data for COCHINSHIP.NS.csv saved to Reference_Data\\COCHINSHIP.NS.csv.\n",
      "Filtered data for COFORGE.NS.csv saved to Reference_Data\\COFORGE.NS.csv.\n",
      "Filtered data for COLPAL.NS.csv saved to Reference_Data\\COLPAL.NS.csv.\n",
      "Filtered data for CONCOR.NS.csv saved to Reference_Data\\CONCOR.NS.csv.\n",
      "Filtered data for COROMANDEL.NS.csv saved to Reference_Data\\COROMANDEL.NS.csv.\n",
      "Filtered data for CRAFTSMAN.NS.csv saved to Reference_Data\\CRAFTSMAN.NS.csv.\n",
      "Filtered data for CREDITACC.NS.csv saved to Reference_Data\\CREDITACC.NS.csv.\n",
      "Filtered data for CRISIL.NS.csv saved to Reference_Data\\CRISIL.NS.csv.\n",
      "Filtered data for CROMPTON.NS.csv saved to Reference_Data\\CROMPTON.NS.csv.\n",
      "Filtered data for CUB.NS.csv saved to Reference_Data\\CUB.NS.csv.\n",
      "Filtered data for CUMMINSIND.NS.csv saved to Reference_Data\\CUMMINSIND.NS.csv.\n",
      "Filtered data for CYIENT.NS.csv saved to Reference_Data\\CYIENT.NS.csv.\n",
      "Filtered data for DABUR.NS.csv saved to Reference_Data\\DABUR.NS.csv.\n",
      "Filtered data for DALBHARAT.NS.csv saved to Reference_Data\\DALBHARAT.NS.csv.\n",
      "Filtered data for DATAPATTNS.NS.csv saved to Reference_Data\\DATAPATTNS.NS.csv.\n",
      "Filtered data for DBREALTY.NS.csv saved to Reference_Data\\DBREALTY.NS.csv.\n",
      "Filtered data for DEEPAKFERT.NS.csv saved to Reference_Data\\DEEPAKFERT.NS.csv.\n",
      "Filtered data for DEEPAKNTR.NS.csv saved to Reference_Data\\DEEPAKNTR.NS.csv.\n",
      "Filtered data for DEVYANI.NS.csv saved to Reference_Data\\DEVYANI.NS.csv.\n",
      "Filtered data for DIVISLAB.NS.csv saved to Reference_Data\\DIVISLAB.NS.csv.\n",
      "Filtered data for DIXON.NS.csv saved to Reference_Data\\DIXON.NS.csv.\n",
      "Filtered data for DLF.NS.csv saved to Reference_Data\\DLF.NS.csv.\n",
      "Filtered data for DMART.NS.csv saved to Reference_Data\\DMART.NS.csv.\n",
      "Filtered data for DRREDDY.NS.csv saved to Reference_Data\\DRREDDY.NS.csv.\n",
      "Filtered data for EASEMYTRIP.NS.csv saved to Reference_Data\\EASEMYTRIP.NS.csv.\n",
      "Filtered data for ECLERX.NS.csv saved to Reference_Data\\ECLERX.NS.csv.\n",
      "Filtered data for EICHERMOT.NS.csv saved to Reference_Data\\EICHERMOT.NS.csv.\n",
      "Filtered data for EIDPARRY.NS.csv saved to Reference_Data\\EIDPARRY.NS.csv.\n",
      "Filtered data for EIHOTEL.NS.csv saved to Reference_Data\\EIHOTEL.NS.csv.\n",
      "Filtered data for ELECON.NS.csv saved to Reference_Data\\ELECON.NS.csv.\n",
      "Filtered data for ELGIEQUIP.NS.csv saved to Reference_Data\\ELGIEQUIP.NS.csv.\n",
      "Filtered data for EMAMILTD.NS.csv saved to Reference_Data\\EMAMILTD.NS.csv.\n",
      "Filtered data for ENDURANCE.NS.csv saved to Reference_Data\\ENDURANCE.NS.csv.\n",
      "Filtered data for ENGINERSIN.NS.csv saved to Reference_Data\\ENGINERSIN.NS.csv.\n",
      "Filtered data for EQUITASBNK.NS.csv saved to Reference_Data\\EQUITASBNK.NS.csv.\n",
      "Filtered data for ERIS.NS.csv saved to Reference_Data\\ERIS.NS.csv.\n",
      "Filtered data for ESCORTS.NS.csv saved to Reference_Data\\ESCORTS.NS.csv.\n",
      "Filtered data for EXIDEIND.NS.csv saved to Reference_Data\\EXIDEIND.NS.csv.\n",
      "Filtered data for FACT.NS.csv saved to Reference_Data\\FACT.NS.csv.\n",
      "Filtered data for FEDERALBNK.NS.csv saved to Reference_Data\\FEDERALBNK.NS.csv.\n",
      "Filtered data for FINCABLES.NS.csv saved to Reference_Data\\FINCABLES.NS.csv.\n",
      "Filtered data for FINEORG.NS.csv saved to Reference_Data\\FINEORG.NS.csv.\n",
      "Filtered data for FINPIPE.NS.csv saved to Reference_Data\\FINPIPE.NS.csv.\n",
      "Filtered data for FLUOROCHEM.NS.csv saved to Reference_Data\\FLUOROCHEM.NS.csv.\n",
      "Filtered data for FORTIS.NS.csv saved to Reference_Data\\FORTIS.NS.csv.\n",
      "Filtered data for FSL.NS.csv saved to Reference_Data\\FSL.NS.csv.\n",
      "Filtered data for GAEL.NS.csv saved to Reference_Data\\GAEL.NS.csv.\n",
      "Filtered data for GAIL.NS.csv saved to Reference_Data\\GAIL.NS.csv.\n",
      "Filtered data for GESHIP.NS.csv saved to Reference_Data\\GESHIP.NS.csv.\n",
      "Filtered data for GICRE.NS.csv saved to Reference_Data\\GICRE.NS.csv.\n",
      "Filtered data for GILLETTE.NS.csv saved to Reference_Data\\GILLETTE.NS.csv.\n",
      "Filtered data for GLAND.NS.csv saved to Reference_Data\\GLAND.NS.csv.\n",
      "Filtered data for GLAXO.NS.csv saved to Reference_Data\\GLAXO.NS.csv.\n",
      "Filtered data for GLENMARK.NS.csv saved to Reference_Data\\GLENMARK.NS.csv.\n",
      "Filtered data for GMDCLTD.NS.csv saved to Reference_Data\\GMDCLTD.NS.csv.\n",
      "Filtered data for GMRAIRPORT.NS.csv saved to Reference_Data\\GMRAIRPORT.NS.csv.\n",
      "Filtered data for GNFC.NS.csv saved to Reference_Data\\GNFC.NS.csv.\n",
      "Filtered data for GODFRYPHLP.NS.csv saved to Reference_Data\\GODFRYPHLP.NS.csv.\n",
      "Filtered data for GODREJAGRO.NS.csv saved to Reference_Data\\GODREJAGRO.NS.csv.\n",
      "Filtered data for GODREJCP.NS.csv saved to Reference_Data\\GODREJCP.NS.csv.\n",
      "Filtered data for GODREJPROP.NS.csv saved to Reference_Data\\GODREJPROP.NS.csv.\n",
      "Filtered data for GPIL.NS.csv saved to Reference_Data\\GPIL.NS.csv.\n",
      "Filtered data for GPPL.NS.csv saved to Reference_Data\\GPPL.NS.csv.\n",
      "Filtered data for GRANULES.NS.csv saved to Reference_Data\\GRANULES.NS.csv.\n",
      "Filtered data for GRAPHITE.NS.csv saved to Reference_Data\\GRAPHITE.NS.csv.\n",
      "Filtered data for GRASIM.NS.csv saved to Reference_Data\\GRASIM.NS.csv.\n",
      "Filtered data for GRINDWELL.NS.csv saved to Reference_Data\\GRINDWELL.NS.csv.\n",
      "Filtered data for GRINFRA.NS.csv saved to Reference_Data\\GRINFRA.NS.csv.\n",
      "Filtered data for GRSE.NS.csv saved to Reference_Data\\GRSE.NS.csv.\n",
      "Filtered data for GSFC.NS.csv saved to Reference_Data\\GSFC.NS.csv.\n",
      "Filtered data for GSPL.NS.csv saved to Reference_Data\\GSPL.NS.csv.\n",
      "Filtered data for GUJGASLTD.NS.csv saved to Reference_Data\\GUJGASLTD.NS.csv.\n",
      "Filtered data for GVT&D.NS.csv saved to Reference_Data\\GVT&D.NS.csv.\n",
      "Filtered data for HAL.NS.csv saved to Reference_Data\\HAL.NS.csv.\n",
      "Filtered data for HAPPSTMNDS.NS.csv saved to Reference_Data\\HAPPSTMNDS.NS.csv.\n",
      "Filtered data for HAVELLS.NS.csv saved to Reference_Data\\HAVELLS.NS.csv.\n",
      "Filtered data for HCLTECH.NS.csv saved to Reference_Data\\HCLTECH.NS.csv.\n",
      "Filtered data for HDFCAMC.NS.csv saved to Reference_Data\\HDFCAMC.NS.csv.\n",
      "Filtered data for HDFCBANK.NS.csv saved to Reference_Data\\HDFCBANK.NS.csv.\n",
      "Filtered data for HDFCLIFE.NS.csv saved to Reference_Data\\HDFCLIFE.NS.csv.\n",
      "Filtered data for HEG.NS.csv saved to Reference_Data\\HEG.NS.csv.\n",
      "Filtered data for HEROMOTOCO.NS.csv saved to Reference_Data\\HEROMOTOCO.NS.csv.\n",
      "Filtered data for HFCL.NS.csv saved to Reference_Data\\HFCL.NS.csv.\n",
      "Filtered data for HINDALCO.NS.csv saved to Reference_Data\\HINDALCO.NS.csv.\n",
      "Filtered data for HINDCOPPER.NS.csv saved to Reference_Data\\HINDCOPPER.NS.csv.\n",
      "Filtered data for HINDPETRO.NS.csv saved to Reference_Data\\HINDPETRO.NS.csv.\n",
      "Filtered data for HINDUNILVR.NS.csv saved to Reference_Data\\HINDUNILVR.NS.csv.\n",
      "Filtered data for HINDZINC.NS.csv saved to Reference_Data\\HINDZINC.NS.csv.\n",
      "Filtered data for HOMEFIRST.NS.csv saved to Reference_Data\\HOMEFIRST.NS.csv.\n",
      "Filtered data for HONAUT.NS.csv saved to Reference_Data\\HONAUT.NS.csv.\n",
      "Filtered data for HSCL.NS.csv saved to Reference_Data\\HSCL.NS.csv.\n",
      "Filtered data for HUDCO.NS.csv saved to Reference_Data\\HUDCO.NS.csv.\n",
      "Filtered data for ICICIBANK.NS.csv saved to Reference_Data\\ICICIBANK.NS.csv.\n",
      "Filtered data for ICICIGI.NS.csv saved to Reference_Data\\ICICIGI.NS.csv.\n",
      "Filtered data for ICICIPRULI.NS.csv saved to Reference_Data\\ICICIPRULI.NS.csv.\n",
      "Filtered data for IDBI.NS.csv saved to Reference_Data\\IDBI.NS.csv.\n",
      "Filtered data for IDEA.NS.csv saved to Reference_Data\\IDEA.NS.csv.\n",
      "Filtered data for IDFCFIRSTB.NS.csv saved to Reference_Data\\IDFCFIRSTB.NS.csv.\n",
      "Filtered data for IEX.NS.csv saved to Reference_Data\\IEX.NS.csv.\n",
      "Filtered data for IFCI.NS.csv saved to Reference_Data\\IFCI.NS.csv.\n",
      "Filtered data for IGL.NS.csv saved to Reference_Data\\IGL.NS.csv.\n",
      "Filtered data for IIFL.NS.csv saved to Reference_Data\\IIFL.NS.csv.\n",
      "Filtered data for INDHOTEL.NS.csv saved to Reference_Data\\INDHOTEL.NS.csv.\n",
      "Filtered data for INDIACEM.NS.csv saved to Reference_Data\\INDIACEM.NS.csv.\n",
      "Filtered data for INDIAMART.NS.csv saved to Reference_Data\\INDIAMART.NS.csv.\n",
      "Filtered data for INDIANB.NS.csv saved to Reference_Data\\INDIANB.NS.csv.\n",
      "Filtered data for INDIGO.NS.csv saved to Reference_Data\\INDIGO.NS.csv.\n",
      "Filtered data for INDUSINDBK.NS.csv saved to Reference_Data\\INDUSINDBK.NS.csv.\n",
      "Filtered data for INDUSTOWER.NS.csv saved to Reference_Data\\INDUSTOWER.NS.csv.\n",
      "Filtered data for INFY.NS.csv saved to Reference_Data\\INFY.NS.csv.\n",
      "Filtered data for INOXWIND.NS.csv saved to Reference_Data\\INOXWIND.NS.csv.\n",
      "Filtered data for INTELLECT.NS.csv saved to Reference_Data\\INTELLECT.NS.csv.\n",
      "Filtered data for IOB.NS.csv saved to Reference_Data\\IOB.NS.csv.\n",
      "Filtered data for IOC.NS.csv saved to Reference_Data\\IOC.NS.csv.\n",
      "Filtered data for IPCALAB.NS.csv saved to Reference_Data\\IPCALAB.NS.csv.\n",
      "Filtered data for IRB.NS.csv saved to Reference_Data\\IRB.NS.csv.\n",
      "Filtered data for IRCON.NS.csv saved to Reference_Data\\IRCON.NS.csv.\n",
      "Filtered data for IRCTC.NS.csv saved to Reference_Data\\IRCTC.NS.csv.\n",
      "Filtered data for IRFC.NS.csv saved to Reference_Data\\IRFC.NS.csv.\n",
      "Filtered data for ISEC.NS.csv saved to Reference_Data\\ISEC.NS.csv.\n",
      "Filtered data for ITC.NS.csv saved to Reference_Data\\ITC.NS.csv.\n",
      "Filtered data for ITI.NS.csv saved to Reference_Data\\ITI.NS.csv.\n",
      "Filtered data for J&KBANK.NS.csv saved to Reference_Data\\J&KBANK.NS.csv.\n",
      "Filtered data for JBCHEPHARM.NS.csv saved to Reference_Data\\JBCHEPHARM.NS.csv.\n",
      "Filtered data for JBMA.NS.csv saved to Reference_Data\\JBMA.NS.csv.\n",
      "Filtered data for JINDALSAW.NS.csv saved to Reference_Data\\JINDALSAW.NS.csv.\n",
      "Filtered data for JINDALSTEL.NS.csv saved to Reference_Data\\JINDALSTEL.NS.csv.\n",
      "Filtered data for JKCEMENT.NS.csv saved to Reference_Data\\JKCEMENT.NS.csv.\n",
      "Filtered data for JKLAKSHMI.NS.csv saved to Reference_Data\\JKLAKSHMI.NS.csv.\n",
      "Filtered data for JKTYRE.NS.csv saved to Reference_Data\\JKTYRE.NS.csv.\n",
      "Filtered data for JMFINANCIL.NS.csv saved to Reference_Data\\JMFINANCIL.NS.csv.\n",
      "Filtered data for JPPOWER.NS.csv saved to Reference_Data\\JPPOWER.NS.csv.\n",
      "Filtered data for JSL.NS.csv saved to Reference_Data\\JSL.NS.csv.\n",
      "Filtered data for JSWENERGY.NS.csv saved to Reference_Data\\JSWENERGY.NS.csv.\n",
      "Filtered data for JSWSTEEL.NS.csv saved to Reference_Data\\JSWSTEEL.NS.csv.\n",
      "Filtered data for JUBLFOOD.NS.csv saved to Reference_Data\\JUBLFOOD.NS.csv.\n",
      "Filtered data for JUBLINGREA.NS.csv saved to Reference_Data\\JUBLINGREA.NS.csv.\n",
      "Filtered data for JUBLPHARMA.NS.csv saved to Reference_Data\\JUBLPHARMA.NS.csv.\n",
      "Filtered data for JUSTDIAL.NS.csv saved to Reference_Data\\JUSTDIAL.NS.csv.\n",
      "Filtered data for JWL.NS.csv saved to Reference_Data\\JWL.NS.csv.\n",
      "Filtered data for JYOTHYLAB.NS.csv saved to Reference_Data\\JYOTHYLAB.NS.csv.\n",
      "Filtered data for KAJARIACER.NS.csv saved to Reference_Data\\KAJARIACER.NS.csv.\n",
      "Filtered data for KALYANKJIL.NS.csv saved to Reference_Data\\KALYANKJIL.NS.csv.\n",
      "Filtered data for KANSAINER.NS.csv saved to Reference_Data\\KANSAINER.NS.csv.\n",
      "Filtered data for KARURVYSYA.NS.csv saved to Reference_Data\\KARURVYSYA.NS.csv.\n",
      "Filtered data for KEC.NS.csv saved to Reference_Data\\KEC.NS.csv.\n",
      "Filtered data for KEI.NS.csv saved to Reference_Data\\KEI.NS.csv.\n",
      "Filtered data for KIMS.NS.csv saved to Reference_Data\\KIMS.NS.csv.\n",
      "Filtered data for KIRLOSBROS.NS.csv saved to Reference_Data\\KIRLOSBROS.NS.csv.\n",
      "Filtered data for KIRLOSENG.NS.csv saved to Reference_Data\\KIRLOSENG.NS.csv.\n",
      "Filtered data for KNRCON.NS.csv saved to Reference_Data\\KNRCON.NS.csv.\n",
      "Filtered data for KOTAKBANK.NS.csv saved to Reference_Data\\KOTAKBANK.NS.csv.\n",
      "Filtered data for KPITTECH.NS.csv saved to Reference_Data\\KPITTECH.NS.csv.\n",
      "Filtered data for KPRMILL.NS.csv saved to Reference_Data\\KPRMILL.NS.csv.\n",
      "Filtered data for KSB.NS.csv saved to Reference_Data\\KSB.NS.csv.\n",
      "Filtered data for LALPATHLAB.NS.csv saved to Reference_Data\\LALPATHLAB.NS.csv.\n",
      "Filtered data for LATENTVIEW.NS.csv saved to Reference_Data\\LATENTVIEW.NS.csv.\n",
      "Filtered data for LAURUSLABS.NS.csv saved to Reference_Data\\LAURUSLABS.NS.csv.\n",
      "Filtered data for LEMONTREE.NS.csv saved to Reference_Data\\LEMONTREE.NS.csv.\n",
      "Filtered data for LICHSGFIN.NS.csv saved to Reference_Data\\LICHSGFIN.NS.csv.\n",
      "Filtered data for LINDEINDIA.NS.csv saved to Reference_Data\\LINDEINDIA.NS.csv.\n",
      "Filtered data for LODHA.NS.csv saved to Reference_Data\\LODHA.NS.csv.\n",
      "Filtered data for LT.NS.csv saved to Reference_Data\\LT.NS.csv.\n",
      "Filtered data for LTF.NS.csv saved to Reference_Data\\LTF.NS.csv.\n",
      "Filtered data for LTIM.NS.csv saved to Reference_Data\\LTIM.NS.csv.\n",
      "Filtered data for LTTS.NS.csv saved to Reference_Data\\LTTS.NS.csv.\n",
      "Filtered data for LUPIN.NS.csv saved to Reference_Data\\LUPIN.NS.csv.\n",
      "Filtered data for M&M.NS.csv saved to Reference_Data\\M&M.NS.csv.\n",
      "Filtered data for M&MFIN.NS.csv saved to Reference_Data\\M&MFIN.NS.csv.\n",
      "Filtered data for MAHABANK.NS.csv saved to Reference_Data\\MAHABANK.NS.csv.\n",
      "Filtered data for MAHLIFE.NS.csv saved to Reference_Data\\MAHLIFE.NS.csv.\n",
      "Filtered data for MAHSEAMLES.NS.csv saved to Reference_Data\\MAHSEAMLES.NS.csv.\n",
      "Filtered data for MANAPPURAM.NS.csv saved to Reference_Data\\MANAPPURAM.NS.csv.\n",
      "Filtered data for MAPMYINDIA.NS.csv saved to Reference_Data\\MAPMYINDIA.NS.csv.\n",
      "Filtered data for MARICO.NS.csv saved to Reference_Data\\MARICO.NS.csv.\n",
      "Filtered data for MARUTI.NS.csv saved to Reference_Data\\MARUTI.NS.csv.\n",
      "Filtered data for MASTEK.NS.csv saved to Reference_Data\\MASTEK.NS.csv.\n",
      "Filtered data for MAXHEALTH.NS.csv saved to Reference_Data\\MAXHEALTH.NS.csv.\n",
      "Filtered data for MAZDOCK.NS.csv saved to Reference_Data\\MAZDOCK.NS.csv.\n",
      "Filtered data for MCX.NS.csv saved to Reference_Data\\MCX.NS.csv.\n",
      "Filtered data for METROBRAND.NS.csv saved to Reference_Data\\METROBRAND.NS.csv.\n",
      "Filtered data for METROPOLIS.NS.csv saved to Reference_Data\\METROPOLIS.NS.csv.\n",
      "Filtered data for MFSL.NS.csv saved to Reference_Data\\MFSL.NS.csv.\n",
      "Filtered data for MGL.NS.csv saved to Reference_Data\\MGL.NS.csv.\n",
      "Filtered data for MINDACORP.NS.csv saved to Reference_Data\\MINDACORP.NS.csv.\n",
      "Filtered data for MMTC.NS.csv saved to Reference_Data\\MMTC.NS.csv.\n",
      "Filtered data for MOTHERSON.NS.csv saved to Reference_Data\\MOTHERSON.NS.csv.\n",
      "Filtered data for MOTILALOFS.NS.csv saved to Reference_Data\\MOTILALOFS.NS.csv.\n",
      "Filtered data for MPHASIS.NS.csv saved to Reference_Data\\MPHASIS.NS.csv.\n",
      "Filtered data for MRF.NS.csv saved to Reference_Data\\MRF.NS.csv.\n",
      "Filtered data for MRPL.NS.csv saved to Reference_Data\\MRPL.NS.csv.\n",
      "Filtered data for MUTHOOTFIN.NS.csv saved to Reference_Data\\MUTHOOTFIN.NS.csv.\n",
      "Filtered data for NAM-INDIA.NS.csv saved to Reference_Data\\NAM-INDIA.NS.csv.\n",
      "Filtered data for NATCOPHARM.NS.csv saved to Reference_Data\\NATCOPHARM.NS.csv.\n",
      "Filtered data for NATIONALUM.NS.csv saved to Reference_Data\\NATIONALUM.NS.csv.\n",
      "Filtered data for NAUKRI.NS.csv saved to Reference_Data\\NAUKRI.NS.csv.\n",
      "Filtered data for NAVINFLUOR.NS.csv saved to Reference_Data\\NAVINFLUOR.NS.csv.\n",
      "Filtered data for NBCC.NS.csv saved to Reference_Data\\NBCC.NS.csv.\n",
      "Filtered data for NCC.NS.csv saved to Reference_Data\\NCC.NS.csv.\n",
      "Filtered data for NESTLEIND.NS.csv saved to Reference_Data\\NESTLEIND.NS.csv.\n",
      "Filtered data for NETWORK18.NS.csv saved to Reference_Data\\NETWORK18.NS.csv.\n",
      "Filtered data for NEWGEN.NS.csv saved to Reference_Data\\NEWGEN.NS.csv.\n",
      "Filtered data for NH.NS.csv saved to Reference_Data\\NH.NS.csv.\n",
      "Filtered data for NHPC.NS.csv saved to Reference_Data\\NHPC.NS.csv.\n",
      "Filtered data for NIACL.NS.csv saved to Reference_Data\\NIACL.NS.csv.\n",
      "Filtered data for NLCINDIA.NS.csv saved to Reference_Data\\NLCINDIA.NS.csv.\n",
      "Filtered data for NMDC.NS.csv saved to Reference_Data\\NMDC.NS.csv.\n",
      "Filtered data for NTPC.NS.csv saved to Reference_Data\\NTPC.NS.csv.\n",
      "Filtered data for NUVOCO.NS.csv saved to Reference_Data\\NUVOCO.NS.csv.\n",
      "Filtered data for NYKAA.NS.csv saved to Reference_Data\\NYKAA.NS.csv.\n",
      "Filtered data for OBEROIRLTY.NS.csv saved to Reference_Data\\OBEROIRLTY.NS.csv.\n",
      "Filtered data for OFSS.NS.csv saved to Reference_Data\\OFSS.NS.csv.\n",
      "Filtered data for OIL.NS.csv saved to Reference_Data\\OIL.NS.csv.\n",
      "Filtered data for OLECTRA.NS.csv saved to Reference_Data\\OLECTRA.NS.csv.\n",
      "Filtered data for ONGC.NS.csv saved to Reference_Data\\ONGC.NS.csv.\n",
      "Filtered data for PAGEIND.NS.csv saved to Reference_Data\\PAGEIND.NS.csv.\n",
      "Filtered data for PATANJALI.NS.csv saved to Reference_Data\\PATANJALI.NS.csv.\n",
      "Filtered data for PAYTM.NS.csv saved to Reference_Data\\PAYTM.NS.csv.\n",
      "Filtered data for PCBL.NS.csv saved to Reference_Data\\PCBL.NS.csv.\n",
      "Filtered data for PEL.NS.csv saved to Reference_Data\\PEL.NS.csv.\n",
      "Filtered data for PERSISTENT.NS.csv saved to Reference_Data\\PERSISTENT.NS.csv.\n",
      "Filtered data for PETRONET.NS.csv saved to Reference_Data\\PETRONET.NS.csv.\n",
      "Filtered data for PFC.NS.csv saved to Reference_Data\\PFC.NS.csv.\n",
      "Filtered data for PFIZER.NS.csv saved to Reference_Data\\PFIZER.NS.csv.\n",
      "Filtered data for PGHH.NS.csv saved to Reference_Data\\PGHH.NS.csv.\n",
      "Filtered data for PIDILITIND.NS.csv saved to Reference_Data\\PIDILITIND.NS.csv.\n",
      "Filtered data for PIIND.NS.csv saved to Reference_Data\\PIIND.NS.csv.\n",
      "Filtered data for PNB.NS.csv saved to Reference_Data\\PNB.NS.csv.\n",
      "Filtered data for PNBHOUSING.NS.csv saved to Reference_Data\\PNBHOUSING.NS.csv.\n",
      "Filtered data for PNCINFRA.NS.csv saved to Reference_Data\\PNCINFRA.NS.csv.\n",
      "Filtered data for POLICYBZR.NS.csv saved to Reference_Data\\POLICYBZR.NS.csv.\n",
      "Filtered data for POLYCAB.NS.csv saved to Reference_Data\\POLYCAB.NS.csv.\n",
      "Filtered data for POLYMED.NS.csv saved to Reference_Data\\POLYMED.NS.csv.\n",
      "Filtered data for POONAWALLA.NS.csv saved to Reference_Data\\POONAWALLA.NS.csv.\n",
      "Filtered data for POWERGRID.NS.csv saved to Reference_Data\\POWERGRID.NS.csv.\n",
      "Filtered data for POWERINDIA.NS.csv saved to Reference_Data\\POWERINDIA.NS.csv.\n",
      "Filtered data for PRAJIND.NS.csv saved to Reference_Data\\PRAJIND.NS.csv.\n",
      "Filtered data for PRESTIGE.NS.csv saved to Reference_Data\\PRESTIGE.NS.csv.\n",
      "Filtered data for QUESS.NS.csv saved to Reference_Data\\QUESS.NS.csv.\n",
      "Filtered data for RADICO.NS.csv saved to Reference_Data\\RADICO.NS.csv.\n",
      "Filtered data for RAILTEL.NS.csv saved to Reference_Data\\RAILTEL.NS.csv.\n",
      "Filtered data for RAJESHEXPO.NS.csv saved to Reference_Data\\RAJESHEXPO.NS.csv.\n",
      "Filtered data for RAMCOCEM.NS.csv saved to Reference_Data\\RAMCOCEM.NS.csv.\n",
      "Filtered data for RATNAMANI.NS.csv saved to Reference_Data\\RATNAMANI.NS.csv.\n",
      "Filtered data for RAYMOND.NS.csv saved to Reference_Data\\RAYMOND.NS.csv.\n",
      "Filtered data for RBLBANK.NS.csv saved to Reference_Data\\RBLBANK.NS.csv.\n",
      "Filtered data for RCF.NS.csv saved to Reference_Data\\RCF.NS.csv.\n",
      "Filtered data for RECLTD.NS.csv saved to Reference_Data\\RECLTD.NS.csv.\n",
      "Filtered data for REDINGTON.NS.csv saved to Reference_Data\\REDINGTON.NS.csv.\n",
      "Filtered data for RELIANCE.NS.csv saved to Reference_Data\\RELIANCE.NS.csv.\n",
      "Filtered data for RENUKA.NS.csv saved to Reference_Data\\RENUKA.NS.csv.\n",
      "Filtered data for RHIM.NS.csv saved to Reference_Data\\RHIM.NS.csv.\n",
      "Filtered data for RITES.NS.csv saved to Reference_Data\\RITES.NS.csv.\n",
      "Filtered data for RKFORGE.NS.csv saved to Reference_Data\\RKFORGE.NS.csv.\n",
      "Filtered data for ROUTE.NS.csv saved to Reference_Data\\ROUTE.NS.csv.\n",
      "Filtered data for RTNINDIA.NS.csv saved to Reference_Data\\RTNINDIA.NS.csv.\n",
      "Filtered data for RVNL.NS.csv saved to Reference_Data\\RVNL.NS.csv.\n",
      "Filtered data for SAIL.NS.csv saved to Reference_Data\\SAIL.NS.csv.\n",
      "Filtered data for SAMMAANCAP.NS.csv saved to Reference_Data\\SAMMAANCAP.NS.csv.\n",
      "Filtered data for SANOFI.NS.csv saved to Reference_Data\\SANOFI.NS.csv.\n",
      "Filtered data for SAPPHIRE.NS.csv saved to Reference_Data\\SAPPHIRE.NS.csv.\n",
      "Filtered data for SAREGAMA.NS.csv saved to Reference_Data\\SAREGAMA.NS.csv.\n",
      "Filtered data for SBICARD.NS.csv saved to Reference_Data\\SBICARD.NS.csv.\n",
      "Filtered data for SBILIFE.NS.csv saved to Reference_Data\\SBILIFE.NS.csv.\n",
      "Filtered data for SBIN.NS.csv saved to Reference_Data\\SBIN.NS.csv.\n",
      "Filtered data for SCHAEFFLER.NS.csv saved to Reference_Data\\SCHAEFFLER.NS.csv.\n",
      "Filtered data for SCHNEIDER.NS.csv saved to Reference_Data\\SCHNEIDER.NS.csv.\n",
      "Filtered data for SCI.NS.csv saved to Reference_Data\\SCI.NS.csv.\n",
      "Filtered data for SHREECEM.NS.csv saved to Reference_Data\\SHREECEM.NS.csv.\n",
      "Filtered data for SHRIRAMFIN.NS.csv saved to Reference_Data\\SHRIRAMFIN.NS.csv.\n",
      "Filtered data for SHYAMMETL.NS.csv saved to Reference_Data\\SHYAMMETL.NS.csv.\n",
      "Filtered data for SIEMENS.NS.csv saved to Reference_Data\\SIEMENS.NS.csv.\n",
      "Filtered data for SJVN.NS.csv saved to Reference_Data\\SJVN.NS.csv.\n",
      "Filtered data for SKFINDIA.NS.csv saved to Reference_Data\\SKFINDIA.NS.csv.\n",
      "Filtered data for SOBHA.NS.csv saved to Reference_Data\\SOBHA.NS.csv.\n",
      "Filtered data for SOLARINDS.NS.csv saved to Reference_Data\\SOLARINDS.NS.csv.\n",
      "Filtered data for SONACOMS.NS.csv saved to Reference_Data\\SONACOMS.NS.csv.\n",
      "Filtered data for SONATSOFTW.NS.csv saved to Reference_Data\\SONATSOFTW.NS.csv.\n",
      "Filtered data for SPARC.NS.csv saved to Reference_Data\\SPARC.NS.csv.\n",
      "Filtered data for SRF.NS.csv saved to Reference_Data\\SRF.NS.csv.\n",
      "Filtered data for STARHEALTH.NS.csv saved to Reference_Data\\STARHEALTH.NS.csv.\n",
      "Filtered data for SUMICHEM.NS.csv saved to Reference_Data\\SUMICHEM.NS.csv.\n",
      "Filtered data for SUNDARMFIN.NS.csv saved to Reference_Data\\SUNDARMFIN.NS.csv.\n",
      "Filtered data for SUNDRMFAST.NS.csv saved to Reference_Data\\SUNDRMFAST.NS.csv.\n",
      "Filtered data for SUNPHARMA.NS.csv saved to Reference_Data\\SUNPHARMA.NS.csv.\n",
      "Filtered data for SUNTV.NS.csv saved to Reference_Data\\SUNTV.NS.csv.\n",
      "Filtered data for SUPREMEIND.NS.csv saved to Reference_Data\\SUPREMEIND.NS.csv.\n",
      "Filtered data for SUVENPHAR.NS.csv saved to Reference_Data\\SUVENPHAR.NS.csv.\n",
      "Filtered data for SUZLON.NS.csv saved to Reference_Data\\SUZLON.NS.csv.\n",
      "Filtered data for SWSOLAR.NS.csv saved to Reference_Data\\SWSOLAR.NS.csv.\n",
      "Filtered data for SYNGENE.NS.csv saved to Reference_Data\\SYNGENE.NS.csv.\n",
      "Filtered data for TANLA.NS.csv saved to Reference_Data\\TANLA.NS.csv.\n",
      "Filtered data for TATACHEM.NS.csv saved to Reference_Data\\TATACHEM.NS.csv.\n",
      "Filtered data for TATACOMM.NS.csv saved to Reference_Data\\TATACOMM.NS.csv.\n",
      "Filtered data for TATACONSUM.NS.csv saved to Reference_Data\\TATACONSUM.NS.csv.\n",
      "Filtered data for TATAELXSI.NS.csv saved to Reference_Data\\TATAELXSI.NS.csv.\n",
      "Filtered data for TATAINVEST.NS.csv saved to Reference_Data\\TATAINVEST.NS.csv.\n",
      "Filtered data for TATAMOTORS.NS.csv saved to Reference_Data\\TATAMOTORS.NS.csv.\n",
      "Filtered data for TATAPOWER.NS.csv saved to Reference_Data\\TATAPOWER.NS.csv.\n",
      "Filtered data for TATASTEEL.NS.csv saved to Reference_Data\\TATASTEEL.NS.csv.\n",
      "Filtered data for TCS.NS.csv saved to Reference_Data\\TCS.NS.csv.\n",
      "Filtered data for TECHM.NS.csv saved to Reference_Data\\TECHM.NS.csv.\n",
      "Filtered data for TECHNOE.NS.csv saved to Reference_Data\\TECHNOE.NS.csv.\n",
      "Filtered data for TEJASNET.NS.csv saved to Reference_Data\\TEJASNET.NS.csv.\n",
      "Filtered data for THERMAX.NS.csv saved to Reference_Data\\THERMAX.NS.csv.\n",
      "Filtered data for TIINDIA.NS.csv saved to Reference_Data\\TIINDIA.NS.csv.\n",
      "Filtered data for TIMKEN.NS.csv saved to Reference_Data\\TIMKEN.NS.csv.\n",
      "Filtered data for TITAGARH.NS.csv saved to Reference_Data\\TITAGARH.NS.csv.\n",
      "Filtered data for TITAN.NS.csv saved to Reference_Data\\TITAN.NS.csv.\n",
      "Filtered data for TORNTPHARM.NS.csv saved to Reference_Data\\TORNTPHARM.NS.csv.\n",
      "Filtered data for TORNTPOWER.NS.csv saved to Reference_Data\\TORNTPOWER.NS.csv.\n",
      "Filtered data for TRENT.NS.csv saved to Reference_Data\\TRENT.NS.csv.\n",
      "Filtered data for TRIDENT.NS.csv saved to Reference_Data\\TRIDENT.NS.csv.\n",
      "Filtered data for TRITURBINE.NS.csv saved to Reference_Data\\TRITURBINE.NS.csv.\n",
      "Filtered data for TRIVENI.NS.csv saved to Reference_Data\\TRIVENI.NS.csv.\n",
      "Filtered data for TTML.NS.csv saved to Reference_Data\\TTML.NS.csv.\n",
      "Filtered data for TVSMOTOR.NS.csv saved to Reference_Data\\TVSMOTOR.NS.csv.\n",
      "Filtered data for UBL.NS.csv saved to Reference_Data\\UBL.NS.csv.\n",
      "Filtered data for UCOBANK.NS.csv saved to Reference_Data\\UCOBANK.NS.csv.\n",
      "Filtered data for UJJIVANSFB.NS.csv saved to Reference_Data\\UJJIVANSFB.NS.csv.\n",
      "Filtered data for ULTRACEMCO.NS.csv saved to Reference_Data\\ULTRACEMCO.NS.csv.\n",
      "Filtered data for UNIONBANK.NS.csv saved to Reference_Data\\UNIONBANK.NS.csv.\n",
      "Filtered data for UNOMINDA.NS.csv saved to Reference_Data\\UNOMINDA.NS.csv.\n",
      "Filtered data for UPL.NS.csv saved to Reference_Data\\UPL.NS.csv.\n",
      "Filtered data for USHAMART.NS.csv saved to Reference_Data\\USHAMART.NS.csv.\n",
      "Filtered data for UTIAMC.NS.csv saved to Reference_Data\\UTIAMC.NS.csv.\n",
      "Filtered data for VARROC.NS.csv saved to Reference_Data\\VARROC.NS.csv.\n",
      "Filtered data for VBL.NS.csv saved to Reference_Data\\VBL.NS.csv.\n",
      "Filtered data for VEDL.NS.csv saved to Reference_Data\\VEDL.NS.csv.\n",
      "Filtered data for VGUARD.NS.csv saved to Reference_Data\\VGUARD.NS.csv.\n",
      "Filtered data for VIJAYA.NS.csv saved to Reference_Data\\VIJAYA.NS.csv.\n",
      "Filtered data for VINATIORGA.NS.csv saved to Reference_Data\\VINATIORGA.NS.csv.\n",
      "Filtered data for VIPIND.NS.csv saved to Reference_Data\\VIPIND.NS.csv.\n",
      "Filtered data for VOLTAS.NS.csv saved to Reference_Data\\VOLTAS.NS.csv.\n",
      "Filtered data for VTL.NS.csv saved to Reference_Data\\VTL.NS.csv.\n",
      "Filtered data for WELCORP.NS.csv saved to Reference_Data\\WELCORP.NS.csv.\n",
      "Filtered data for WELSPUNLIV.NS.csv saved to Reference_Data\\WELSPUNLIV.NS.csv.\n",
      "Filtered data for WESTLIFE.NS.csv saved to Reference_Data\\WESTLIFE.NS.csv.\n",
      "Filtered data for WHIRLPOOL.NS.csv saved to Reference_Data\\WHIRLPOOL.NS.csv.\n",
      "Filtered data for WIPRO.NS.csv saved to Reference_Data\\WIPRO.NS.csv.\n",
      "Filtered data for YESBANK.NS.csv saved to Reference_Data\\YESBANK.NS.csv.\n",
      "Filtered data for ZEEL.NS.csv saved to Reference_Data\\ZEEL.NS.csv.\n",
      "Filtered data for ZENSARTECH.NS.csv saved to Reference_Data\\ZENSARTECH.NS.csv.\n",
      "Filtered data for ZFCVINDIA.NS.csv saved to Reference_Data\\ZFCVINDIA.NS.csv.\n",
      "Filtered data for ZOMATO.NS.csv saved to Reference_Data\\ZOMATO.NS.csv.\n",
      "Filtered data for ZYDUSLIFE.NS.csv saved to Reference_Data\\ZYDUSLIFE.NS.csv.\n",
      "All stocks filtered and saved in the folder: Reference_Data\n"
     ]
    }
   ],
   "source": [
    "import pandas as pd\n",
    "import os\n",
    "\n",
    "# Define the folder containing the stock data\n",
    "input_folder = \"Cleaned_Data\"\n",
    "output_folder = \"Reference_Data\"\n",
    "\n",
    "# Create a folder to save the filtered CSV files\n",
    "if not os.path.exists(output_folder):\n",
    "    os.makedirs(output_folder)\n",
    "\n",
    "# Define the reference stock ticker (e.g., ONGC.NS)\n",
    "reference_ticker = \"ONGC.NS\"\n",
    "reference_file = os.path.join(input_folder, f\"{reference_ticker}.csv\")\n",
    "\n",
    "# Load the reference stock data to extract the date range\n",
    "if not os.path.exists(reference_file):\n",
    "    print(f\"Reference file for {reference_ticker} not found.\")\n",
    "    exit()\n",
    "\n",
    "reference_data = pd.read_csv(reference_file, index_col=\"Date\", parse_dates=True)\n",
    "reference_dates = reference_data.index\n",
    "\n",
    "# Process each stock's data\n",
    "for file_name in os.listdir(input_folder):\n",
    "    if file_name.endswith(\".csv\"):\n",
    "        try:\n",
    "            # Load the stock data\n",
    "            stock_file = os.path.join(input_folder, file_name)\n",
    "            stock_data = pd.read_csv(stock_file, index_col=\"Date\", parse_dates=True)\n",
    "\n",
    "            # Filter the stock data to match the reference date range\n",
    "            filtered_data = stock_data.loc[reference_dates.intersection(stock_data.index)]\n",
    "\n",
    "            # Save the filtered data to the output folder\n",
    "            output_file = os.path.join(output_folder, file_name)\n",
    "            filtered_data.to_csv(output_file)\n",
    "            print(f\"Filtered data for {file_name} saved to {output_file}.\")\n",
    "        except Exception as e:\n",
    "            print(f\"Error processing {file_name}: {e}\")\n",
    "\n",
    "print(f\"All stocks filtered and saved in the folder: {output_folder}\")\n"
   ]
  },
  {
   "cell_type": "code",
   "execution_count": 8,
   "metadata": {},
   "outputs": [
    {
     "name": "stdout",
     "output_type": "stream",
     "text": [
      "dict_keys(['360ONE', 'AARTIIND', 'AAVAS', 'ABB', 'ABBOTINDIA', 'ABCAPITAL', 'ABFRL', 'ABSLAMC', 'ACC', 'ACE', 'ADANIENT', 'ADANIGREEN', 'ADANIPORTS', 'ADANIPOWER', 'AFFLE', 'AIAENG', 'AJANTPHARM', 'ALKEM', 'ALKYLAMINE', 'ALOKINDS', 'AMBER', 'AMBUJACEM', 'ANANDRATHI', 'ANANTRAJ', 'ANGELONE', 'APARINDS', 'APLAPOLLO', 'APLLTD', 'APOLLOHOSP', 'APOLLOTYRE', 'APTUS', 'ASAHIINDIA', 'ASHOKLEY', 'ASIANPAINT', 'ASTERDM', 'ASTRAL', 'ASTRAZEN', 'ATGL', 'ATUL', 'AUBANK', 'AUROPHARMA', 'AVANTIFEED', 'AXISBANK', 'BAJAJ-AUTO', 'BAJAJFINSV', 'BAJAJHLDNG', 'BAJFINANCE', 'BALAMINES', 'BALKRISIND', 'BALRAMCHIN', 'BANDHANBNK', 'BANKBARODA', 'BANKINDIA', 'BASF', 'BATAINDIA', 'BAYERCROP', 'BBTC', 'BDL', 'BEL', 'BEML', 'BERGEPAINT', 'BHARATFORG', 'BHARTIARTL', 'BHEL', 'BIOCON', 'BIRLACORPN', 'BLS', 'BLUEDART', 'BLUESTARCO', 'BOSCHLTD', 'BPCL', 'BRITANNIA', 'BSE', 'BSOFT', 'CAMS', 'CANBK', 'CANFINHOME', 'CAPLIPOINT', 'CARBORUNIV', 'CASTROLIND', 'CCL', 'CDSL', 'CEATLTD', 'CENTRALBK', 'CENTURYPLY', 'CERA', 'CESC', 'CGCL', 'CGPOWER', 'CHALET', 'CHAMBLFERT', 'CHEMPLASTS', 'CHENNPETRO', 'CHOLAFIN', 'CHOLAHLDNG', 'CIEINDIA', 'CIPLA', 'CLEAN', 'COALINDIA', 'COCHINSHIP', 'COFORGE', 'COLPAL', 'CONCOR', 'COROMANDEL', 'CRAFTSMAN', 'CREDITACC', 'CRISIL', 'CROMPTON', 'CUB', 'CUMMINSIND', 'CYIENT', 'DABUR', 'DALBHARAT', 'DATAPATTNS', 'DBREALTY', 'DEEPAKFERT', 'DEEPAKNTR', 'DEVYANI', 'DIVISLAB', 'DIXON', 'DLF', 'DMART', 'DRREDDY', 'EASEMYTRIP', 'ECLERX', 'EICHERMOT', 'EIDPARRY', 'EIHOTEL', 'ELECON', 'ELGIEQUIP', 'EMAMILTD', 'ENDURANCE', 'ENGINERSIN', 'EQUITASBNK', 'ERIS', 'ESCORTS', 'EXIDEIND', 'FACT', 'FEDERALBNK', 'FINCABLES', 'FINEORG', 'FINPIPE', 'FLUOROCHEM', 'FORTIS', 'FSL', 'GAEL', 'GAIL', 'GESHIP', 'GICRE', 'GILLETTE', 'GLAND', 'GLAXO', 'GLENMARK', 'GMDCLTD', 'GMRAIRPORT', 'GNFC', 'GODFRYPHLP', 'GODREJAGRO', 'GODREJCP', 'GODREJPROP', 'GPIL', 'GPPL', 'GRANULES', 'GRAPHITE', 'GRASIM', 'GRINDWELL', 'GRINFRA', 'GRSE', 'GSFC', 'GSPL', 'GUJGASLTD', 'GVT&D', 'HAL', 'HAPPSTMNDS', 'HAVELLS', 'HCLTECH', 'HDFCAMC', 'HDFCBANK', 'HDFCLIFE', 'HEG', 'HEROMOTOCO', 'HFCL', 'HINDALCO', 'HINDCOPPER', 'HINDPETRO', 'HINDUNILVR', 'HINDZINC', 'HOMEFIRST', 'HONAUT', 'HSCL', 'HUDCO', 'ICICIBANK', 'ICICIGI', 'ICICIPRULI', 'IDBI', 'IDEA', 'IDFCFIRSTB', 'IEX', 'IFCI', 'IGL', 'IIFL', 'INDHOTEL', 'INDIACEM', 'INDIAMART', 'INDIANB', 'INDIGO', 'INDUSINDBK', 'INDUSTOWER', 'INFY', 'INOXWIND', 'INTELLECT', 'IOB', 'IOC', 'IPCALAB', 'IRB', 'IRCON', 'IRCTC', 'IRFC', 'ISEC', 'ITC', 'ITI', 'J&KBANK', 'JBCHEPHARM', 'JBMA', 'JINDALSAW', 'JINDALSTEL', 'JKCEMENT', 'JKLAKSHMI', 'JKTYRE', 'JMFINANCIL', 'JPPOWER', 'JSL', 'JSWENERGY', 'JSWSTEEL', 'JUBLFOOD', 'JUBLINGREA', 'JUBLPHARMA', 'JUSTDIAL', 'JWL', 'JYOTHYLAB', 'KAJARIACER', 'KALYANKJIL', 'KANSAINER', 'KARURVYSYA', 'KEC', 'KEI', 'KIMS', 'KIRLOSBROS', 'KIRLOSENG', 'KNRCON', 'KOTAKBANK', 'KPITTECH', 'KPRMILL', 'KSB', 'LALPATHLAB', 'LATENTVIEW', 'LAURUSLABS', 'LEMONTREE', 'LICHSGFIN', 'LINDEINDIA', 'LODHA', 'LT', 'LTF', 'LTIM', 'LTTS', 'LUPIN', 'M&M', 'M&MFIN', 'MAHABANK', 'MAHLIFE', 'MAHSEAMLES', 'MANAPPURAM', 'MAPMYINDIA', 'MARICO', 'MARUTI', 'MASTEK', 'MAXHEALTH', 'MAZDOCK', 'MCX', 'METROBRAND', 'METROPOLIS', 'MFSL', 'MGL', 'MINDACORP', 'MMTC', 'MOTHERSON', 'MOTILALOFS', 'MPHASIS', 'MRF', 'MRPL', 'MUTHOOTFIN', 'NAM-INDIA', 'NATCOPHARM', 'NATIONALUM', 'NAUKRI', 'NAVINFLUOR', 'NBCC', 'NCC', 'NESTLEIND', 'NETWORK18', 'NEWGEN', 'NH', 'NHPC', 'NIACL', 'NLCINDIA', 'NMDC', 'NTPC', 'NUVOCO', 'NYKAA', 'OBEROIRLTY', 'OFSS', 'OIL', 'OLECTRA', 'ONGC', 'PAGEIND', 'PATANJALI', 'PAYTM', 'PCBL', 'PEL', 'PERSISTENT', 'PETRONET', 'PFC', 'PFIZER', 'PGHH', 'PIDILITIND', 'PIIND', 'PNB', 'PNBHOUSING', 'PNCINFRA', 'POLICYBZR', 'POLYCAB', 'POLYMED', 'POONAWALLA', 'POWERGRID', 'POWERINDIA', 'PRAJIND', 'PRESTIGE', 'QUESS', 'RADICO', 'RAILTEL', 'RAJESHEXPO', 'RAMCOCEM', 'RATNAMANI', 'RAYMOND', 'RBLBANK', 'RCF', 'RECLTD', 'REDINGTON', 'RELIANCE', 'RENUKA', 'RHIM', 'RITES', 'RKFORGE', 'ROUTE', 'RTNINDIA', 'RVNL', 'SAIL', 'SAMMAANCAP', 'SANOFI', 'SAPPHIRE', 'SAREGAMA', 'SBICARD', 'SBILIFE', 'SBIN', 'SCHAEFFLER', 'SCHNEIDER', 'SCI', 'SHREECEM', 'SHRIRAMFIN', 'SHYAMMETL', 'SIEMENS', 'SJVN', 'SKFINDIA', 'SOBHA', 'SOLARINDS', 'SONACOMS', 'SONATSOFTW', 'SPARC', 'SRF', 'STARHEALTH', 'SUMICHEM', 'SUNDARMFIN', 'SUNDRMFAST', 'SUNPHARMA', 'SUNTV', 'SUPREMEIND', 'SUVENPHAR', 'SUZLON', 'SWSOLAR', 'SYNGENE', 'TANLA', 'TATACHEM', 'TATACOMM', 'TATACONSUM', 'TATAELXSI', 'TATAINVEST', 'TATAMOTORS', 'TATAPOWER', 'TATASTEEL', 'TCS', 'TECHM', 'TECHNOE', 'TEJASNET', 'THERMAX', 'TIINDIA', 'TIMKEN', 'TITAGARH', 'TITAN', 'TORNTPHARM', 'TORNTPOWER', 'TRENT', 'TRIDENT', 'TRITURBINE', 'TRIVENI', 'TTML', 'TVSMOTOR', 'UBL', 'UCOBANK', 'UJJIVANSFB', 'ULTRACEMCO', 'UNIONBANK', 'UNOMINDA', 'UPL', 'USHAMART', 'UTIAMC', 'VARROC', 'VBL', 'VEDL', 'VGUARD', 'VIJAYA', 'VINATIORGA', 'VIPIND', 'VOLTAS', 'VTL', 'WELCORP', 'WELSPUNLIV', 'WESTLIFE', 'WHIRLPOOL', 'WIPRO', 'YESBANK', 'ZEEL', 'ZENSARTECH', 'ZFCVINDIA', 'ZOMATO', 'ZYDUSLIFE'])\n"
     ]
    }
   ],
   "source": [
    "import os\n",
    "import pandas as pd\n",
    "from sklearn.preprocessing import StandardScaler\n",
    "\n",
    "# Path to the folder containing the cleaned CSV files\n",
    "input_folder_path = 'Reference_Data'\n",
    "\n",
    "# Path to the folder where the processed files will be saved (optional)\n",
    "output_folder_path = 'Final_Data'\n",
    "os.makedirs(output_folder_path, exist_ok=True)\n",
    "\n",
    "# Initialize a StandardScaler instance\n",
    "scaler = StandardScaler()\n",
    "\n",
    "# Initialize a dictionary to store the processed stock data\n",
    "NIFTY500_stock = {}\n",
    "\n",
    "# Example sector mapping (replace this with actual sector data)\n",
    "company_sector_mapping = df.set_index('Symbol')['Industry'].to_dict()\n",
    "\n",
    "\n",
    "# Function to compute features for each CSV file\n",
    "def compute_features_for_file(file_path, sector):\n",
    "    # Load the CSV file into a DataFrame\n",
    "    cleaned_data = pd.read_csv(file_path)\n",
    "    \n",
    "    # Initialize a DataFrame to store the computed features\n",
    "    features = cleaned_data.copy()\n",
    "\n",
    "    # 1. Normalized Close Price\n",
    "    features[\"Normalized_Close\"] = scaler.fit_transform(features[[\"Close\"]])\n",
    "\n",
    "    # 2. Return Ratio (daily percentage change in Close)\n",
    "    features[\"Return_Ratio\"] = features[\"Close\"].pct_change()\n",
    "\n",
    "    # 3. Moving Averages (5, 10, 15, 20, 25, and 30-day)\n",
    "    moving_avg_days = [5, 10, 15, 20, 25, 30]\n",
    "    for days in moving_avg_days:\n",
    "        features[f\"MA_{days}\"] = features[\"Close\"].rolling(window=days).mean()\n",
    "\n",
    "    # 4. Percentage Change (for Open, High, Low relative to Close)\n",
    "    for col in [\"Open\", \"High\", \"Low\"]:\n",
    "        features[f\"Pct_Change_{col}\"] = (features[col] / features[\"Close\"]) - 1\n",
    "\n",
    "    # 5. Sector Encoding\n",
    "    features[\"Sector\"] = sector\n",
    "\n",
    "    \n",
    "\n",
    "    return features\n",
    "\n",
    "# Iterate through all CSV files in the input folder and compute features\n",
    "for filename in os.listdir(input_folder_path):\n",
    "    if filename.endswith(\".csv\"):\n",
    "        input_file_path = os.path.join(input_folder_path, filename)\n",
    "        company_name = filename.replace(\".NS.csv\", \"\")  # Assuming filename is the company name\n",
    "        \n",
    "        # Get the sector for the company\n",
    "        sector = company_sector_mapping.get(company_name, \"Unknown\")  # Default to \"Unknown\" if not found\n",
    "        \n",
    "        features = compute_features_for_file(input_file_path, sector)\n",
    "        \n",
    "        # Store the processed features in the dictionary using company name as the key\n",
    "        NIFTY500_stock[company_name] = features\n",
    "        \n",
    "        # Optionally, save the processed file to the output folder\n",
    "        output_file_path = os.path.join(output_folder_path, f\"{filename}\")\n",
    "        features.to_csv(output_file_path, index=False)\n",
    "        \n",
    "\n",
    "# Print the keys (company names) of the dictionary to confirm the structure\n",
    "print(NIFTY500_stock.keys())\n"
   ]
  },
  {
   "cell_type": "code",
   "execution_count": 10,
   "metadata": {},
   "outputs": [],
   "source": [
    "import os\n",
    "import pandas as pd\n",
    "input_folder_path = 'Final_Data'\n",
    "NIFTY500_stock={}\n",
    "for filename in os.listdir(input_folder_path):\n",
    "    if filename.endswith(\".csv\"):\n",
    "        input_file_path = os.path.join(input_folder_path, filename)\n",
    "        company_name = filename.replace(\".NS.csv\", \"\")  # Assuming filename is the company name\n",
    "        \n",
    "        cleaned_data = pd.read_csv(input_file_path)\n",
    "        \n",
    "        # Initialize a DataFrame to store the computed features\n",
    "        features = cleaned_data.copy()\n",
    "        features = features.fillna(0)\n",
    "        NIFTY500_stock[company_name] = features\n",
    "        "
   ]
  },
  {
   "cell_type": "code",
   "execution_count": 11,
   "metadata": {},
   "outputs": [
    {
     "data": {
      "application/vnd.microsoft.datawrangler.viewer.v0+json": {
       "columns": [
        {
         "name": "index",
         "rawType": "int64",
         "type": "integer"
        },
        {
         "name": "Date",
         "rawType": "object",
         "type": "string"
        },
        {
         "name": "Close",
         "rawType": "float64",
         "type": "float"
        },
        {
         "name": "High",
         "rawType": "float64",
         "type": "float"
        },
        {
         "name": "Low",
         "rawType": "float64",
         "type": "float"
        },
        {
         "name": "Open",
         "rawType": "float64",
         "type": "float"
        },
        {
         "name": "Volume",
         "rawType": "int64",
         "type": "integer"
        },
        {
         "name": "Normalized_Close",
         "rawType": "float64",
         "type": "float"
        },
        {
         "name": "Return_Ratio",
         "rawType": "float64",
         "type": "float"
        },
        {
         "name": "MA_5",
         "rawType": "float64",
         "type": "float"
        },
        {
         "name": "MA_10",
         "rawType": "float64",
         "type": "float"
        },
        {
         "name": "MA_15",
         "rawType": "float64",
         "type": "float"
        },
        {
         "name": "MA_20",
         "rawType": "float64",
         "type": "float"
        },
        {
         "name": "MA_25",
         "rawType": "float64",
         "type": "float"
        },
        {
         "name": "MA_30",
         "rawType": "float64",
         "type": "float"
        },
        {
         "name": "Pct_Change_Open",
         "rawType": "float64",
         "type": "float"
        },
        {
         "name": "Pct_Change_High",
         "rawType": "float64",
         "type": "float"
        },
        {
         "name": "Pct_Change_Low",
         "rawType": "float64",
         "type": "float"
        },
        {
         "name": "Sector",
         "rawType": "object",
         "type": "string"
        }
       ],
       "conversionMethod": "pd.DataFrame",
       "ref": "b3845c56-65b6-4563-a935-37347079771d",
       "rows": [
        [
         "0",
         "2022-01-10",
         "231.68247985839844",
         "235.9618413591302",
         "230.93608012637108",
         "231.43367994772265",
         "553787",
         "-1.0301582467788035",
         "0.0",
         "0.0",
         "0.0",
         "0.0",
         "0.0",
         "0.0",
         "0.0",
         "-0.0010738831474346",
         "0.0184708032447997",
         "-0.0032216494423037",
         "Capital Goods"
        ],
        [
         "1",
         "2022-01-11",
         "225.81076049804688",
         "234.12068239808184",
         "224.4174872721252",
         "231.6824466599493",
         "297154",
         "-1.0424805052843056",
         "-0.0253438212675394",
         "0.0",
         "0.0",
         "0.0",
         "0.0",
         "0.0",
         "0.0",
         "0.0260026853855497",
         "0.0368003804677272",
         "-0.0061700922615409",
         "Capital Goods"
        ],
        [
         "2",
         "2022-01-12",
         "232.82693481445312",
         "234.8670969564797",
         "226.6567005586367",
         "227.45286324644465",
         "466403",
         "-1.027756519286234",
         "0.0310710362116111",
         "0.0",
         "0.0",
         "0.0",
         "0.0",
         "0.0",
         "0.0",
         "-0.023081829309359",
         "0.0087625692605215",
         "-0.026501376486933",
         "Capital Goods"
        ],
        [
         "3",
         "2022-01-13",
         "229.69207763671875",
         "233.87191304553065",
         "228.5973519695232",
         "233.8221500269233",
         "194035",
         "-1.0343352602224425",
         "-0.0134643235338413",
         "0.0",
         "0.0",
         "0.0",
         "0.0",
         "0.0",
         "0.0",
         "0.0179809091924219",
         "0.0181975601937074",
         "-0.0047660575778628",
         "Capital Goods"
        ],
        [
         "4",
         "2022-01-14",
         "230.93605041503903",
         "233.3742861888596",
         "227.900688858204",
         "229.69205102170827",
         "259978",
         "-1.0317246868609538",
         "0.0054158279689897",
         "230.18966064453124",
         "0.0",
         "0.0",
         "0.0",
         "0.0",
         "0.0",
         "-0.0053867700218093",
         "0.0105580560914528",
         "-0.0131437320045089",
         "Capital Goods"
        ],
        [
         "5",
         "2022-01-17",
         "239.49478149414065",
         "245.71477909356813",
         "230.9858369265566",
         "232.67767323649267",
         "1305375",
         "-1.013763525851132",
         "0.0370610437985747",
         "231.7521209716797",
         "0.0",
         "0.0",
         "0.0",
         "0.0",
         "0.0",
         "-0.0284645377870781",
         "0.0259713283129705",
         "-0.0355287264068934",
         "Capital Goods"
        ],
        [
         "6",
         "2022-01-18",
         "233.12550354003903",
         "244.7195726685612",
         "231.0853413470843",
         "240.6890264847112",
         "642247",
         "-1.0271299496577246",
         "-0.0265946419139718",
         "233.2150695800781",
         "0.0",
         "0.0",
         "0.0",
         "0.0",
         "0.0",
         "0.032443996172959",
         "0.0497331649796561",
         "-0.0087513470726052",
         "Capital Goods"
        ],
        [
         "7",
         "2022-01-19",
         "228.34852600097656",
         "232.77716081185068",
         "225.21365359853093",
         "232.77716081185068",
         "338453",
         "-1.0371548075398596",
         "-0.0204910122081174",
         "232.3193878173828",
         "0.0",
         "0.0",
         "0.0",
         "0.0",
         "0.0",
         "0.0193941904878123",
         "0.0193941904878123",
         "-0.0137284547325355",
         "Capital Goods"
        ],
        [
         "8",
         "2022-01-20",
         "227.2538299560547",
         "232.57813859278315",
         "224.218468202767",
         "229.74182890374288",
         "286814",
         "-1.0394521120979694",
         "-0.0047939702703279",
         "231.83173828125",
         "0.0",
         "0.0",
         "0.0",
         "0.0",
         "0.0",
         "0.0109481056850364",
         "0.0234289060728176",
         "-0.0133567023001313",
         "Capital Goods"
        ],
        [
         "9",
         "2022-01-21",
         "222.27784729003903",
         "230.78679212569045",
         "220.23768497604505",
         "224.91512028106504",
         "290903",
         "-1.0498945976744378",
         "-0.0218961443553135",
         "230.10009765625",
         "230.14487915039064",
         "0.0",
         "0.0",
         "0.0",
         "0.0",
         "0.0118647585586195",
         "0.038280669618635",
         "-0.0091784329336781",
         "Capital Goods"
        ],
        [
         "10",
         "2022-01-24",
         "208.34503173828125",
         "221.28262588030583",
         "204.06567063881127",
         "219.4415006397248",
         "627898",
         "-1.079133691779909",
         "-0.0626819798806921",
         "223.87014770507807",
         "227.8111343383789",
         "0.0",
         "0.0",
         "0.0",
         "0.0",
         "0.053260060049729",
         "0.0620969649915938",
         "-0.0205397799206732",
         "Capital Goods"
        ],
        [
         "11",
         "2022-01-25",
         "220.4366912841797",
         "221.82996452282103",
         "203.6178256531917",
         "209.9870964377513",
         "352855",
         "-1.0537584063582026",
         "0.0580367069231952",
         "221.33238525390624",
         "227.2737274169922",
         "0.0",
         "0.0",
         "0.0",
         "0.0",
         "-0.0474040632054176",
         "0.006320514205347",
         "-0.0762979408419157",
         "Capital Goods"
        ],
        [
         "12",
         "2022-01-27",
         "215.510482788086",
         "218.79464460228127",
         "211.97752106653545",
         "216.9535192136372",
         "259324",
         "-1.064096436978459",
         "-0.0223474979024385",
         "218.76477661132813",
         "225.54208221435547",
         "0.0",
         "0.0",
         "0.0",
         "0.0",
         "0.0066958989970347",
         "0.0152389887104684",
         "-0.0163934564845485",
         "Capital Goods"
        ],
        [
         "13",
         "2022-01-28",
         "221.0338287353516",
         "223.2730277492532",
         "219.1429404567328",
         "219.789829283184",
         "212716",
         "-1.0525052671011834",
         "0.0256291289212913",
         "217.5207763671875",
         "224.67625732421877",
         "0.0",
         "0.0",
         "0.0",
         "0.0",
         "-0.0056280952978337",
         "0.0101305715361001",
         "-0.008554746074108",
         "Capital Goods"
        ],
        [
         "14",
         "2022-01-31",
         "221.18312072753903",
         "226.60695574651663",
         "220.18792108422056",
         "223.2232830334503",
         "188756",
         "-1.0521919662760524",
         "0.0006754259881467",
         "217.3018310546875",
         "223.7009643554688",
         "225.8638631184896",
         "0.0",
         "0.0",
         "0.0",
         "0.0092238607503165",
         "0.0245219210269613",
         "-0.0044994375703035",
         "Capital Goods"
        ],
        [
         "15",
         "2022-02-01",
         "225.31317138671875",
         "229.69205850523403",
         "220.98406246820585",
         "225.41269741564363",
         "350619",
         "-1.043524734628901",
         "0.0186725399551046",
         "220.695458984375",
         "222.28280334472657",
         "225.43924255371093",
         "0.0",
         "0.0",
         "0.0",
         "0.0004417230839739",
         "0.019434669937691",
         "-0.0192137409982241",
         "Capital Goods"
        ],
        [
         "16",
         "2022-02-02",
         "242.380859375",
         "244.81909529509923",
         "228.00022856245693",
         "228.69686522740807",
         "1440717",
         "-1.007706867565469",
         "0.0757509553624227",
         "225.08429260253905",
         "223.20833892822264",
         "226.54391581217448",
         "0.0",
         "0.0",
         "0.0",
         "-0.0564565790503313",
         "0.0100595233732003",
         "-0.0593307196353077",
         "Capital Goods"
        ],
        [
         "17",
         "2022-02-03",
         "240.2909393310547",
         "247.60566243325192",
         "239.09670285339044",
         "243.42582716865667",
         "632214",
         "-1.0120927268780269",
         "-0.0086224632148526",
         "230.0403839111328",
         "224.40258026123047",
         "227.0415161132813",
         "0.0",
         "0.0",
         "0.0",
         "0.0130462174159757",
         "0.0304411107741335",
         "-0.0049699605028341",
         "Capital Goods"
        ],
        [
         "18",
         "2022-02-04",
         "235.9120635986328",
         "242.8286976461169",
         "234.867101001982",
         "242.23157182359063",
         "330292",
         "-1.0212821372409808",
         "-0.0182232244986524",
         "233.01603088378903",
         "225.26840362548828",
         "227.45618184407556",
         "0.0",
         "0.0",
         "0.0",
         "0.0267875585867005",
         "0.0293186958817486",
         "-0.0044294580815869",
         "Capital Goods"
        ],
        [
         "19",
         "2022-02-07",
         "220.03863525390625",
         "233.3743036754288",
         "219.14294651227107",
         "233.3743036754288",
         "758711",
         "-1.0545937578121265",
         "-0.0672853609204686",
         "232.7871337890625",
         "225.044482421875",
         "226.7296875",
         "227.5946807861328",
         "0.0",
         "0.0",
         "0.0606060313277907",
         "0.0606060313277907",
         "-0.0040705976048326",
         "Capital Goods"
        ],
        [
         "20",
         "2022-02-08",
         "218.24725341796875",
         "224.3179612575036",
         "215.1621288933168",
         "222.9246880315223",
         "367580",
         "-1.0583531115396796",
         "-0.0081412149910419",
         "231.3739501953125",
         "226.03470458984376",
         "225.3131856282552",
         "226.9229194641113",
         "0.0",
         "0.0",
         "0.0214318143312242",
         "0.027815735338986",
         "-0.0141359145479992",
         "Capital Goods"
        ],
        [
         "21",
         "2022-02-09",
         "218.34678649902344",
         "222.9247107402265",
         "217.50087594905688",
         "220.635748619625",
         "244255",
         "-1.058144233649008",
         "0.0004560565115752",
         "226.5671356201172",
         "225.82571411132807",
         "224.3279378255208",
         "226.54972076416016",
         "0.0",
         "0.0",
         "0.0104831500261708",
         "0.0209663000523414",
         "-0.0038741607491912",
         "Capital Goods"
        ],
        [
         "22",
         "2022-02-10",
         "214.4655303955078",
         "219.8396025771413",
         "212.4253680205304",
         "219.1429658403432",
         "399769",
         "-1.0662893506238618",
         "-0.0177756502202196",
         "221.4020538330078",
         "225.72121887207032",
         "223.40240478515625",
         "225.63165054321288",
         "0.0",
         "0.0",
         "0.0218097306182931",
         "0.0250579763177927",
         "-0.0095127751821704",
         "Capital Goods"
        ],
        [
         "23",
         "2022-02-11",
         "210.4349365234375",
         "218.84436947255145",
         "209.68853687969",
         "213.9678978742836",
         "333356",
         "-1.0747478644891035",
         "-0.0187936675168138",
         "216.30662841796877",
         "224.6613296508789",
         "222.28114522298176",
         "224.66879348754884",
         "0.0",
         "0.0",
         "0.0167888536438558",
         "0.0399621521409176",
         "-0.0035469378615483",
         "Capital Goods"
        ],
        [
         "24",
         "2022-02-14",
         "213.37078857421875",
         "215.80903974731868",
         "202.0752822039213",
         "206.006317594338",
         "819073",
         "-1.068586751247229",
         "0.0139513528470318",
         "214.97305908203128",
         "223.88009643554688",
         "221.68734130859372",
         "223.7905303955078",
         "225.0703564453125",
         "0.0",
         "-0.0345148978878104",
         "0.0114272960670611",
         "-0.0529383916410303",
         "Capital Goods"
        ],
        [
         "25",
         "2022-02-15",
         "218.6951141357422",
         "221.4319130612179",
         "209.0416809629905",
         "215.4607154056345",
         "525699",
         "-1.0574132410860388",
         "0.0249533949661129",
         "215.06263122558596",
         "223.2182907104492",
         "222.37734680175785",
         "222.75054702758788",
         "224.55086181640624",
         "0.0",
         "-0.0147895335608647",
         "0.0125142207053468",
         "-0.0441410555096346",
         "Capital Goods"
        ],
        [
         "26",
         "2022-02-16",
         "223.6710968017578",
         "225.3131699699129",
         "215.51046360405192",
         "220.93429806447267",
         "491155",
         "-1.0469707555095706",
         "0.0227530582275701",
         "216.1274932861328",
         "221.347314453125",
         "222.592973836263",
         "222.27782669067383",
         "224.46527526855468",
         "0.0",
         "-0.0122358175750834",
         "0.0073414633881394",
         "-0.036484969736339",
         "Capital Goods"
        ],
        [
         "27",
         "2022-02-17",
         "223.9696655273437",
         "225.313175831091",
         "218.94390467830195",
         "221.92950337846065",
         "422500",
         "-1.0463441858810612",
         "0.0013348560893877",
         "218.0283203125",
         "219.7151870727539",
         "223.15691935221355",
         "222.0588836669922",
         "224.11098449707032",
         "0.0",
         "-0.009109100306416",
         "0.00599862620049",
         "-0.0224394711543119",
         "Capital Goods"
        ],
        [
         "28",
         "2022-02-18",
         "224.0691833496093",
         "226.15910857901125",
         "219.5410373284732",
         "223.91990948416955",
         "344838",
         "-1.046135340012142",
         "0.0004443361650394",
         "220.75516967773436",
         "218.5308990478516",
         "223.3592763264974",
         "221.89965133666996",
         "223.88606872558597",
         "0.0",
         "-0.0006661954277167",
         "0.0093271426180061",
         "-0.0202086960529103",
         "Capital Goods"
        ],
        [
         "29",
         "2022-02-21",
         "224.0194396972656",
         "225.7610390257433",
         "216.10759059946253",
         "218.94391558005697",
         "380963",
         "-1.046239730924849",
         "-0.0002220013104884",
         "222.8848999023437",
         "218.9289794921875",
         "223.5483642578125",
         "221.98673095703128",
         "223.609404296875",
         "224.70611368815105",
         "-0.0226566235683276",
         "0.0077743223125246",
         "-0.0353176898776952",
         "Capital Goods"
        ],
        [
         "30",
         "2022-02-22",
         "222.9247131347656",
         "225.1141492445168",
         "210.0866442114888",
         "210.0866442114888",
         "789611",
         "-1.0485370995264638",
         "-0.0048867480607013",
         "223.7308197021484",
         "219.3967254638672",
         "223.3891337076823",
         "222.71571502685543",
         "222.9466015625",
         "224.4141881306966",
         "-0.057589258466448",
         "0.0098214149475102",
         "-0.057589258466448",
         "Capital Goods"
        ],
        [
         "31",
         "2022-02-23",
         "219.3419647216797",
         "226.75621317877457",
         "217.6003655887721",
         "222.9246890121623",
         "192290",
         "-1.0560557749598172",
         "-0.0160715622898212",
         "222.8649932861328",
         "219.4962432861328",
         "221.85320739746092",
         "222.66097869873047",
         "222.3952600097656",
         "224.1985616048177",
         "0.0163339664392478",
         "0.0338022341803254",
         "-0.0079401091128069",
         "Capital Goods"
        ],
        [
         "32",
         "2022-02-24",
         "210.3354339599609",
         "215.0626318897328",
         "197.3978396258484",
         "207.00150934580049",
         "566139",
         "-1.0749566783362705",
         "-0.0410615942696923",
         "220.13814697265624",
         "219.0832336425781",
         "219.85617370605468",
         "222.40222625732423",
         "221.674736328125",
         "223.448844909668",
         "-0.015850513398494",
         "0.0224745676026787",
         "-0.061509342912594",
         "Capital Goods"
        ],
        [
         "33",
         "2022-02-25",
         "214.0674285888672",
         "219.889336826268",
         "210.98230391960044",
         "212.9727030131816",
         "265792",
         "-1.067124798143043",
         "0.0177430619208778",
         "218.1377960205078",
         "219.44648284912108",
         "218.39986470540364",
         "222.05390625",
         "221.1472802734375",
         "222.9280232747396",
         "-0.005113928741528",
         "0.0271966093850841",
         "-0.014411929407495",
         "Capital Goods"
        ],
        [
         "34",
         "2022-02-28",
         "216.5056610107422",
         "217.6998974108596",
         "206.006302921362",
         "211.03206359012628",
         "196900",
         "-1.0620079782892682",
         "0.0113900206021431",
         "216.63504028320312",
         "219.75997009277344",
         "218.1643330891927",
         "221.82003326416012",
         "220.91639282226564",
         "222.4470102945964",
         "-0.0252815441178895",
         "0.0055159592342397",
         "-0.0484946122903421",
         "Capital Goods"
        ],
        [
         "35",
         "2022-03-02",
         "212.72390747070312",
         "218.0979790589048",
         "210.9823082282529",
         "210.9823082282529",
         "173979",
         "-1.0699442814169553",
         "-0.017467227057178",
         "214.59487915039065",
         "219.16284942626956",
         "217.79611002604167",
         "221.19057006835936",
         "221.0915478515625",
         "221.55464782714844",
         "-0.0081871345029241",
         "0.0252631293402778",
         "-0.0081871345029241",
         "Capital Goods"
        ],
        [
         "36",
         "2022-03-03",
         "215.0128631591797",
         "217.0530252485915",
         "211.2311018787768",
         "213.2712639681886",
         "524903",
         "-1.0651407303665592",
         "0.0107602183303812",
         "213.72905883789065",
         "218.29702606201167",
         "217.57384847005207",
         "219.8221702575684",
         "220.8745947265625",
         "220.95089314778645",
         "-0.0080999767427948",
         "0.0094885583096553",
         "-0.01758853505245",
         "Capital Goods"
        ],
        [
         "37",
         "2022-03-04",
         "213.868392944336",
         "215.16215549156104",
         "208.8426469957764",
         "214.7640817165108",
         "401975",
         "-1.067542489880881",
         "-0.005322798822489",
         "214.43565063476564",
         "217.28689880371093",
         "217.53403930664064",
         "218.5010429382324",
         "220.8089111328125",
         "220.46822204589844",
         "0.0041880371374367",
         "0.0060493396402045",
         "-0.0234992458650384",
         "Capital Goods"
        ],
        [
         "38",
         "2022-03-07",
         "207.6981658935547",
         "210.7335278920359",
         "205.01112985010343",
         "208.99192848796952",
         "308745",
         "-1.080491189927883",
         "-0.028850579395279",
         "213.16179809570312",
         "215.64979705810543",
         "217.3515879313151",
         "217.09034805297853",
         "220.27548461914063",
         "219.81636657714844",
         "0.0062290516088518",
         "0.0146142937055921",
         "-0.0129372160408405",
         "Capital Goods"
        ],
        [
         "39",
         "2022-03-08",
         "208.0464630126953",
         "213.22149748753696",
         "205.8072640892556",
         "209.98709904256847",
         "236204",
         "-1.0797602614084187",
         "0.0016769388292003",
         "211.4699584960937",
         "214.05249938964843",
         "216.99663289388025",
         "216.490739440918",
         "219.7500183105469",
         "219.34198710123695",
         "0.0093278972483887",
         "0.0248744169927361",
         "-0.010762975207625",
         "Capital Goods"
        ],
        [
         "40",
         "2022-03-09",
         "214.7640686035156",
         "216.1075789014345",
         "209.88758163642044",
         "212.1765436670537",
         "232674",
         "-1.065662845038857",
         "0.0322889680196598",
         "211.87799072265625",
         "213.23643493652344",
         "216.73456319173175",
         "216.3165802001953",
         "219.32805419921877",
         "219.5559549967448",
         "-0.0120482208839078",
         "0.0062557498870967",
         "-0.0227062515569018",
         "Capital Goods"
        ],
        [
         "41",
         "2022-03-10",
         "216.3563690185547",
         "221.9294923904684",
         "214.963095768346",
         "217.94869432068413",
         "214870",
         "-1.0623212791143992",
         "0.00741418443687",
         "212.14669189453124",
         "212.93787536621093",
         "216.2469146728516",
         "216.21705932617184",
         "218.28707458496092",
         "219.4199442545573",
         "0.007359733893449",
         "0.0257589984394486",
         "-0.0064397145160501",
         "Capital Goods"
        ],
        [
         "42",
         "2022-03-11",
         "217.00328063964844",
         "220.38695328062863",
         "215.11239224630208",
         "216.406154792162",
         "147356",
         "-1.060963684901168",
         "0.0029900280912842",
         "212.7736694335937",
         "213.6046600341797",
         "215.78248901367184",
         "216.3439468383789",
         "217.35556823730468",
         "219.4697041829427",
         "-0.0027516904155842",
         "0.0155927257459256",
         "-0.0087136396637539",
         "Capital Goods"
        ],
        [
         "43",
         "2022-03-14",
         "213.27127075195312",
         "218.8941422446473",
         "212.97270784403568",
         "217.94870569085893",
         "190356",
         "-1.068795597116148",
         "-0.0171979422462862",
         "213.88829040527344",
         "213.5250442504883",
         "215.06262817382813",
         "216.4857635498047",
         "216.4499365234375",
         "219.2109522501628",
         "0.0219318566556765",
         "0.0263648801494407",
         "-0.0013999208935397",
         "Capital Goods"
        ],
        [
         "44",
         "2022-03-15",
         "212.72390747070312",
         "219.29223068787428",
         "210.9823082282529",
         "214.66454358946817",
         "259062",
         "-1.0699442814169553",
         "-0.0025665120263038",
         "214.823779296875",
         "213.1468688964844",
         "214.3095926920573",
         "216.4534194946289",
         "216.15734741210937",
         "218.9289784749349",
         "0.0091227927403143",
         "0.0308772215369153",
         "-0.0081871345029241",
         "Capital Goods"
        ],
        [
         "45",
         "2022-03-16",
         "214.26646423339844",
         "216.95349995722864",
         "212.72390190760373",
         "216.95349995722864",
         "149270",
         "-1.0667071064052047",
         "0.0072514499241593",
         "214.7242584228516",
         "213.3011245727539",
         "213.7323760986328",
         "216.2319869995117",
         "215.99811584472656",
         "218.56075490315757",
         "0.0125406266138934",
         "0.0125406266138934",
         "-0.0071992709233041",
         "Capital Goods"
        ],
        [
         "46",
         "2022-03-17",
         "220.2874298095703",
         "225.86053826281804",
         "217.05303122298844",
         "218.4463045399153",
         "447551",
         "-1.054071643139829",
         "0.0281003637116692",
         "215.51047058105468",
         "213.82858123779295",
         "213.7954071044922",
         "216.06280364990235",
         "216.07574157714845",
         "217.82430725097657",
         "-0.0083578317257893",
         "0.025299257692849",
         "-0.0146826289152217",
         "Capital Goods"
        ],
        [
         "47",
         "2022-03-21",
         "213.0722503662109",
         "221.92952114486096",
         "211.97752468096587",
         "221.92952114486096",
         "326953",
         "-1.0692132568322337",
         "-0.0327534778066848",
         "214.7242645263672",
         "213.74896697998048",
         "213.9778615315755",
         "215.5179328918457",
         "216.02001037597657",
         "216.9170176188151",
         "0.0415693304192681",
         "0.0415693304192681",
         "-0.0051378144425823",
         "Capital Goods"
        ],
        [
         "48",
         "2022-03-22",
         "213.66932678222656",
         "215.2616520353473",
         "211.97749069174765",
         "215.2616520353473",
         "140509",
         "-1.067960245662224",
         "0.0028022251371986",
         "214.8038757324219",
         "214.3460830688477",
         "213.9513214111328",
         "214.99794006347656",
         "216.14938598632813",
         "216.17559305826825",
         "0.007452287500038",
         "0.007452287500038",
         "-0.0079180110498651",
         "Capital Goods"
        ],
        [
         "49",
         "2022-03-23",
         "219.2922515869141",
         "223.32279806941523",
         "217.50088915827928",
         "220.93432495493",
         "456727",
         "-1.0561601018290196",
         "0.0263160131094457",
         "216.11754455566407",
         "215.47066192626957",
         "214.13709411621093",
         "214.76158065795897",
         "216.38624450683596",
         "216.1507136027018",
         "0.0074880592275057",
         "0.0183797943307799",
         "-0.0081688359514372",
         "Capital Goods"
        ]
       ],
       "shape": {
        "columns": 18,
        "rows": 741
       }
      },
      "text/html": [
       "<div>\n",
       "<style scoped>\n",
       "    .dataframe tbody tr th:only-of-type {\n",
       "        vertical-align: middle;\n",
       "    }\n",
       "\n",
       "    .dataframe tbody tr th {\n",
       "        vertical-align: top;\n",
       "    }\n",
       "\n",
       "    .dataframe thead th {\n",
       "        text-align: right;\n",
       "    }\n",
       "</style>\n",
       "<table border=\"1\" class=\"dataframe\">\n",
       "  <thead>\n",
       "    <tr style=\"text-align: right;\">\n",
       "      <th></th>\n",
       "      <th>Date</th>\n",
       "      <th>Close</th>\n",
       "      <th>High</th>\n",
       "      <th>Low</th>\n",
       "      <th>Open</th>\n",
       "      <th>Volume</th>\n",
       "      <th>Normalized_Close</th>\n",
       "      <th>Return_Ratio</th>\n",
       "      <th>MA_5</th>\n",
       "      <th>MA_10</th>\n",
       "      <th>MA_15</th>\n",
       "      <th>MA_20</th>\n",
       "      <th>MA_25</th>\n",
       "      <th>MA_30</th>\n",
       "      <th>Pct_Change_Open</th>\n",
       "      <th>Pct_Change_High</th>\n",
       "      <th>Pct_Change_Low</th>\n",
       "      <th>Sector</th>\n",
       "    </tr>\n",
       "  </thead>\n",
       "  <tbody>\n",
       "    <tr>\n",
       "      <th>0</th>\n",
       "      <td>2022-01-10</td>\n",
       "      <td>231.682480</td>\n",
       "      <td>235.961841</td>\n",
       "      <td>230.936080</td>\n",
       "      <td>231.433680</td>\n",
       "      <td>553787</td>\n",
       "      <td>-1.030158</td>\n",
       "      <td>0.000000</td>\n",
       "      <td>0.000000</td>\n",
       "      <td>0.000000</td>\n",
       "      <td>0.000000</td>\n",
       "      <td>0.000000</td>\n",
       "      <td>0.000000</td>\n",
       "      <td>0.000000</td>\n",
       "      <td>-0.001074</td>\n",
       "      <td>0.018471</td>\n",
       "      <td>-0.003222</td>\n",
       "      <td>Capital Goods</td>\n",
       "    </tr>\n",
       "    <tr>\n",
       "      <th>1</th>\n",
       "      <td>2022-01-11</td>\n",
       "      <td>225.810760</td>\n",
       "      <td>234.120682</td>\n",
       "      <td>224.417487</td>\n",
       "      <td>231.682447</td>\n",
       "      <td>297154</td>\n",
       "      <td>-1.042481</td>\n",
       "      <td>-0.025344</td>\n",
       "      <td>0.000000</td>\n",
       "      <td>0.000000</td>\n",
       "      <td>0.000000</td>\n",
       "      <td>0.000000</td>\n",
       "      <td>0.000000</td>\n",
       "      <td>0.000000</td>\n",
       "      <td>0.026003</td>\n",
       "      <td>0.036800</td>\n",
       "      <td>-0.006170</td>\n",
       "      <td>Capital Goods</td>\n",
       "    </tr>\n",
       "    <tr>\n",
       "      <th>2</th>\n",
       "      <td>2022-01-12</td>\n",
       "      <td>232.826935</td>\n",
       "      <td>234.867097</td>\n",
       "      <td>226.656701</td>\n",
       "      <td>227.452863</td>\n",
       "      <td>466403</td>\n",
       "      <td>-1.027757</td>\n",
       "      <td>0.031071</td>\n",
       "      <td>0.000000</td>\n",
       "      <td>0.000000</td>\n",
       "      <td>0.000000</td>\n",
       "      <td>0.000000</td>\n",
       "      <td>0.000000</td>\n",
       "      <td>0.000000</td>\n",
       "      <td>-0.023082</td>\n",
       "      <td>0.008763</td>\n",
       "      <td>-0.026501</td>\n",
       "      <td>Capital Goods</td>\n",
       "    </tr>\n",
       "    <tr>\n",
       "      <th>3</th>\n",
       "      <td>2022-01-13</td>\n",
       "      <td>229.692078</td>\n",
       "      <td>233.871913</td>\n",
       "      <td>228.597352</td>\n",
       "      <td>233.822150</td>\n",
       "      <td>194035</td>\n",
       "      <td>-1.034335</td>\n",
       "      <td>-0.013464</td>\n",
       "      <td>0.000000</td>\n",
       "      <td>0.000000</td>\n",
       "      <td>0.000000</td>\n",
       "      <td>0.000000</td>\n",
       "      <td>0.000000</td>\n",
       "      <td>0.000000</td>\n",
       "      <td>0.017981</td>\n",
       "      <td>0.018198</td>\n",
       "      <td>-0.004766</td>\n",
       "      <td>Capital Goods</td>\n",
       "    </tr>\n",
       "    <tr>\n",
       "      <th>4</th>\n",
       "      <td>2022-01-14</td>\n",
       "      <td>230.936050</td>\n",
       "      <td>233.374286</td>\n",
       "      <td>227.900689</td>\n",
       "      <td>229.692051</td>\n",
       "      <td>259978</td>\n",
       "      <td>-1.031725</td>\n",
       "      <td>0.005416</td>\n",
       "      <td>230.189661</td>\n",
       "      <td>0.000000</td>\n",
       "      <td>0.000000</td>\n",
       "      <td>0.000000</td>\n",
       "      <td>0.000000</td>\n",
       "      <td>0.000000</td>\n",
       "      <td>-0.005387</td>\n",
       "      <td>0.010558</td>\n",
       "      <td>-0.013144</td>\n",
       "      <td>Capital Goods</td>\n",
       "    </tr>\n",
       "    <tr>\n",
       "      <th>...</th>\n",
       "      <td>...</td>\n",
       "      <td>...</td>\n",
       "      <td>...</td>\n",
       "      <td>...</td>\n",
       "      <td>...</td>\n",
       "      <td>...</td>\n",
       "      <td>...</td>\n",
       "      <td>...</td>\n",
       "      <td>...</td>\n",
       "      <td>...</td>\n",
       "      <td>...</td>\n",
       "      <td>...</td>\n",
       "      <td>...</td>\n",
       "      <td>...</td>\n",
       "      <td>...</td>\n",
       "      <td>...</td>\n",
       "      <td>...</td>\n",
       "      <td>...</td>\n",
       "    </tr>\n",
       "    <tr>\n",
       "      <th>736</th>\n",
       "      <td>2025-01-03</td>\n",
       "      <td>1518.099976</td>\n",
       "      <td>1558.699951</td>\n",
       "      <td>1510.050049</td>\n",
       "      <td>1554.000000</td>\n",
       "      <td>236417</td>\n",
       "      <td>1.669489</td>\n",
       "      <td>-0.026734</td>\n",
       "      <td>1531.780029</td>\n",
       "      <td>1500.815015</td>\n",
       "      <td>1482.033350</td>\n",
       "      <td>1463.555017</td>\n",
       "      <td>1442.314014</td>\n",
       "      <td>1412.638346</td>\n",
       "      <td>0.023648</td>\n",
       "      <td>0.026744</td>\n",
       "      <td>-0.005303</td>\n",
       "      <td>Capital Goods</td>\n",
       "    </tr>\n",
       "    <tr>\n",
       "      <th>737</th>\n",
       "      <td>2025-01-06</td>\n",
       "      <td>1446.349976</td>\n",
       "      <td>1542.550049</td>\n",
       "      <td>1436.849976</td>\n",
       "      <td>1523.000000</td>\n",
       "      <td>321889</td>\n",
       "      <td>1.518916</td>\n",
       "      <td>-0.047263</td>\n",
       "      <td>1516.890015</td>\n",
       "      <td>1496.310010</td>\n",
       "      <td>1489.096680</td>\n",
       "      <td>1465.052515</td>\n",
       "      <td>1447.844014</td>\n",
       "      <td>1420.011678</td>\n",
       "      <td>0.052995</td>\n",
       "      <td>0.066512</td>\n",
       "      <td>-0.006568</td>\n",
       "      <td>Capital Goods</td>\n",
       "    </tr>\n",
       "    <tr>\n",
       "      <th>738</th>\n",
       "      <td>2025-01-07</td>\n",
       "      <td>1492.500000</td>\n",
       "      <td>1502.150024</td>\n",
       "      <td>1452.849976</td>\n",
       "      <td>1452.849976</td>\n",
       "      <td>245408</td>\n",
       "      <td>1.615765</td>\n",
       "      <td>0.031908</td>\n",
       "      <td>1513.910010</td>\n",
       "      <td>1496.275012</td>\n",
       "      <td>1494.720011</td>\n",
       "      <td>1468.492517</td>\n",
       "      <td>1453.384014</td>\n",
       "      <td>1427.915011</td>\n",
       "      <td>-0.026566</td>\n",
       "      <td>0.006466</td>\n",
       "      <td>-0.026566</td>\n",
       "      <td>Capital Goods</td>\n",
       "    </tr>\n",
       "    <tr>\n",
       "      <th>739</th>\n",
       "      <td>2025-01-08</td>\n",
       "      <td>1435.250000</td>\n",
       "      <td>1503.699951</td>\n",
       "      <td>1431.000000</td>\n",
       "      <td>1492.599976</td>\n",
       "      <td>244446</td>\n",
       "      <td>1.495622</td>\n",
       "      <td>-0.038358</td>\n",
       "      <td>1490.400000</td>\n",
       "      <td>1492.820007</td>\n",
       "      <td>1493.540015</td>\n",
       "      <td>1468.815015</td>\n",
       "      <td>1456.486016</td>\n",
       "      <td>1433.728345</td>\n",
       "      <td>0.039958</td>\n",
       "      <td>0.047692</td>\n",
       "      <td>-0.002961</td>\n",
       "      <td>Capital Goods</td>\n",
       "    </tr>\n",
       "    <tr>\n",
       "      <th>740</th>\n",
       "      <td>2025-01-09</td>\n",
       "      <td>1398.750000</td>\n",
       "      <td>1448.500000</td>\n",
       "      <td>1390.000000</td>\n",
       "      <td>1442.400024</td>\n",
       "      <td>172160</td>\n",
       "      <td>1.419023</td>\n",
       "      <td>-0.025431</td>\n",
       "      <td>1458.189990</td>\n",
       "      <td>1487.800012</td>\n",
       "      <td>1486.603345</td>\n",
       "      <td>1468.295013</td>\n",
       "      <td>1458.764014</td>\n",
       "      <td>1437.278345</td>\n",
       "      <td>0.031206</td>\n",
       "      <td>0.035567</td>\n",
       "      <td>-0.006256</td>\n",
       "      <td>Capital Goods</td>\n",
       "    </tr>\n",
       "  </tbody>\n",
       "</table>\n",
       "<p>741 rows × 18 columns</p>\n",
       "</div>"
      ],
      "text/plain": [
       "           Date        Close         High          Low         Open  Volume  \\\n",
       "0    2022-01-10   231.682480   235.961841   230.936080   231.433680  553787   \n",
       "1    2022-01-11   225.810760   234.120682   224.417487   231.682447  297154   \n",
       "2    2022-01-12   232.826935   234.867097   226.656701   227.452863  466403   \n",
       "3    2022-01-13   229.692078   233.871913   228.597352   233.822150  194035   \n",
       "4    2022-01-14   230.936050   233.374286   227.900689   229.692051  259978   \n",
       "..          ...          ...          ...          ...          ...     ...   \n",
       "736  2025-01-03  1518.099976  1558.699951  1510.050049  1554.000000  236417   \n",
       "737  2025-01-06  1446.349976  1542.550049  1436.849976  1523.000000  321889   \n",
       "738  2025-01-07  1492.500000  1502.150024  1452.849976  1452.849976  245408   \n",
       "739  2025-01-08  1435.250000  1503.699951  1431.000000  1492.599976  244446   \n",
       "740  2025-01-09  1398.750000  1448.500000  1390.000000  1442.400024  172160   \n",
       "\n",
       "     Normalized_Close  Return_Ratio         MA_5        MA_10        MA_15  \\\n",
       "0           -1.030158      0.000000     0.000000     0.000000     0.000000   \n",
       "1           -1.042481     -0.025344     0.000000     0.000000     0.000000   \n",
       "2           -1.027757      0.031071     0.000000     0.000000     0.000000   \n",
       "3           -1.034335     -0.013464     0.000000     0.000000     0.000000   \n",
       "4           -1.031725      0.005416   230.189661     0.000000     0.000000   \n",
       "..                ...           ...          ...          ...          ...   \n",
       "736          1.669489     -0.026734  1531.780029  1500.815015  1482.033350   \n",
       "737          1.518916     -0.047263  1516.890015  1496.310010  1489.096680   \n",
       "738          1.615765      0.031908  1513.910010  1496.275012  1494.720011   \n",
       "739          1.495622     -0.038358  1490.400000  1492.820007  1493.540015   \n",
       "740          1.419023     -0.025431  1458.189990  1487.800012  1486.603345   \n",
       "\n",
       "           MA_20        MA_25        MA_30  Pct_Change_Open  Pct_Change_High  \\\n",
       "0       0.000000     0.000000     0.000000        -0.001074         0.018471   \n",
       "1       0.000000     0.000000     0.000000         0.026003         0.036800   \n",
       "2       0.000000     0.000000     0.000000        -0.023082         0.008763   \n",
       "3       0.000000     0.000000     0.000000         0.017981         0.018198   \n",
       "4       0.000000     0.000000     0.000000        -0.005387         0.010558   \n",
       "..           ...          ...          ...              ...              ...   \n",
       "736  1463.555017  1442.314014  1412.638346         0.023648         0.026744   \n",
       "737  1465.052515  1447.844014  1420.011678         0.052995         0.066512   \n",
       "738  1468.492517  1453.384014  1427.915011        -0.026566         0.006466   \n",
       "739  1468.815015  1456.486016  1433.728345         0.039958         0.047692   \n",
       "740  1468.295013  1458.764014  1437.278345         0.031206         0.035567   \n",
       "\n",
       "     Pct_Change_Low         Sector  \n",
       "0         -0.003222  Capital Goods  \n",
       "1         -0.006170  Capital Goods  \n",
       "2         -0.026501  Capital Goods  \n",
       "3         -0.004766  Capital Goods  \n",
       "4         -0.013144  Capital Goods  \n",
       "..              ...            ...  \n",
       "736       -0.005303  Capital Goods  \n",
       "737       -0.006568  Capital Goods  \n",
       "738       -0.026566  Capital Goods  \n",
       "739       -0.002961  Capital Goods  \n",
       "740       -0.006256  Capital Goods  \n",
       "\n",
       "[741 rows x 18 columns]"
      ]
     },
     "execution_count": 11,
     "metadata": {},
     "output_type": "execute_result"
    }
   ],
   "source": [
    "NIFTY500_stock['ACE']"
   ]
  },
  {
   "cell_type": "code",
   "execution_count": 12,
   "metadata": {},
   "outputs": [
    {
     "name": "stdout",
     "output_type": "stream",
     "text": [
      "Data has been split and saved in 'Split_Data' folder.\n"
     ]
    }
   ],
   "source": [
    "import os\n",
    "import pandas as pd\n",
    "from datetime import datetime\n",
    "\n",
    "# Define the input folder and date range\n",
    "input_folder = \"Final_Data\"\n",
    "output_folder = \"Split_Data\"\n",
    "\n",
    "\n",
    "start_date = datetime(2022, 1, 10)\n",
    "end_date = datetime(2025, 1, 10)\n",
    "\n",
    "# Split days for training, validation, and testing\n",
    "training_days = 400\n",
    "validation_days = 160\n",
    "def split_data(file_path):\n",
    "    df = pd.read_csv(file_path, parse_dates=['Date'])\n",
    "    df = df.sort_values(by='Date').reset_index(drop=True)\n",
    "    \n",
    "    train = df.iloc[:training_days]\n",
    "    validation = df.iloc[training_days:training_days + validation_days]\n",
    "    test = df.iloc[training_days + validation_days:]\n",
    "    \n",
    "    return train, validation, test\n",
    "\n",
    "# Ensure output directories exist\n",
    "os.makedirs(output_folder, exist_ok=True)\n",
    "os.makedirs(os.path.join(output_folder, \"Train\"), exist_ok=True)\n",
    "os.makedirs(os.path.join(output_folder, \"Validation\"), exist_ok=True)\n",
    "os.makedirs(os.path.join(output_folder, \"Test\"), exist_ok=True)\n",
    "\n",
    "# Dictionary to track sector-wise company counts\n",
    "sector_counts = {}\n",
    "skipped_companies = []\n",
    "\n",
    "# First pass: Identify companies with valid 3-year data and count sectors\n",
    "valid_companies = []\n",
    "for file_name in os.listdir(input_folder):\n",
    "    file_path = os.path.join(input_folder, file_name)\n",
    "    if os.path.isfile(file_path) and file_name.endswith(\".csv\"):\n",
    "        df = pd.read_csv(file_path, parse_dates=['Date'])\n",
    "        df = df[(df['Date'] >= start_date) & (df['Date'] <= end_date)]\n",
    "\n",
    "        # Check if the company has exactly 3 years of data (252 * 3 = 756 days)\n",
    "        if len(df) == 741:\n",
    "            sector = df['Sector'].iloc[0] if 'Sector' in df.columns and not df['Sector'].isna().all() else None\n",
    "\n",
    "            if sector:\n",
    "                valid_companies.append((file_name, sector))\n",
    "                sector_counts[sector] = sector_counts.get(sector, 0) + 1\n",
    "            else:\n",
    "                skipped_companies.append((file_name, \"Missing Sector Column\"))\n",
    "        else:\n",
    "            skipped_companies.append((file_name, \"Insufficient Data\"))\n",
    "\n",
    "# Filter sectors with at least 2 companies\n",
    "valid_sectors = {sector for sector, count in sector_counts.items() if count >= 2}\n",
    "\n",
    "# Second pass: Split and save data for valid companies in valid sectors\n",
    "for file_name, sector in valid_companies:\n",
    "    if sector in valid_sectors:\n",
    "        file_path = os.path.join(input_folder, file_name)\n",
    "        train, validation, test = split_data(file_path)\n",
    "        \n",
    "        # Save the split files\n",
    "        base_name = os.path.splitext(file_name)[0]\n",
    "        train.to_csv(os.path.join(output_folder, \"Train\", f\"{base_name}.csv\"), index=False)\n",
    "        validation.to_csv(os.path.join(output_folder, \"Validation\", f\"{base_name}.csv\"), index=False)\n",
    "        test.to_csv(os.path.join(output_folder, \"Test\", f\"{base_name}.csv\"), index=False)\n",
    "    else:\n",
    "        skipped_companies.append((file_name, \"Sector has fewer than 2 companies\"))\n",
    "\n",
    "\n",
    "\n",
    "print(f\"Data has been split and saved in '{output_folder}' folder.\")\n",
    "\n"
   ]
  },
  {
   "cell_type": "code",
   "execution_count": null,
   "metadata": {},
   "outputs": [],
   "source": [
    "import pandas as pd\n",
    "import numpy as np\n",
    "import os\n",
    "\n",
    "def sliding_window_transform(data, window_size=5):\n",
    "    \"\"\"\n",
    "    Converts daily stock data into weekly data using a sliding window approach.\n",
    "    \"\"\"\n",
    "    transformed_data = []\n",
    "    for i in range(len(data) - window_size - 1):  \n",
    "        window = data['Close'].iloc[i:i + window_size].values  \n",
    "        future_price = data['Close'].iloc[i + window_size]  \n",
    "        return_ratio = (future_price - window[-1]) / window[-1]  \n",
    "        movement = 1 if future_price > window[-1] else 0  \n",
    "        transformed_data.append(list(window) + [return_ratio, movement])\n",
    "    column_names = [f'Day_{i+1}' for i in range(window_size)] + ['Return_Ratio', 'Movement']\n",
    "    return pd.DataFrame(transformed_data, columns=column_names)\n",
    "\n",
    "# Paths\n",
    "input_base_folder = \"Split_Data\"\n",
    "output_base_folder = \"Sliding_Window\"\n",
    "os.makedirs(output_base_folder, exist_ok=True)\n",
    "\n",
    "# Track processed stocks\n",
    "NIFTY500_stock = {}\n",
    "\n",
    "# Loop through Train, Test, Validation\n",
    "for folder in [\"Train\", \"Test\", \"Validation\"]:\n",
    "    input_folder = os.path.join(input_base_folder, folder)\n",
    "    output_folder = os.path.join(output_base_folder, folder)\n",
    "    os.makedirs(output_folder, exist_ok=True)\n",
    "\n",
    "    for file in os.listdir(input_folder):\n",
    "        if file.endswith(\".csv\"):\n",
    "            # Rename: Remove '.NS_data' from filename\n",
    "            company_name = file.replace(\".NS.csv\", \"\")\n",
    "            file_path = os.path.join(input_folder, file)\n",
    "\n",
    "            df = pd.read_csv(file_path, parse_dates=['Date'])\n",
    "            df = df.sort_values(by='Date').reset_index(drop=True)\n",
    "\n",
    "            transformed_df = sliding_window_transform(df, window_size=5)\n",
    "\n",
    "            output_file = os.path.join(output_folder, f\"{company_name}.csv\")\n",
    "            transformed_df.to_csv(output_file, index=False)\n",
    "\n",
    "            NIFTY500_stock[company_name] = transformed_df\n",
    "            print(f\"✅ Processed {company_name} in {folder}\")\n",
    "\n",
    "print(\"\\n🎯 All valid companies transformed and saved in standard format.\")\n"
   ]
  },
  {
   "cell_type": "code",
   "execution_count": 14,
   "metadata": {},
   "outputs": [
    {
     "name": "stdout",
     "output_type": "stream",
     "text": [
      "✅ Sector mapping saved as sector_mapping.csv!\n"
     ]
    }
   ],
   "source": [
    "import pandas as pd\n",
    "\n",
    "# ✅ **Load Companies.csv**\n",
    "companies_df = pd.read_csv(\"filtered_companies.csv\")\n",
    "\n",
    "# ✅ **Extract Stock-Sector Mapping**\n",
    "sector_mapping = companies_df[[\"Symbol\", \"Industry\"]]\n",
    "sector_mapping.columns = [\"Stock\", \"Sector\"]  # Rename columns\n",
    "\n",
    "# ✅ **Save the Mapping as sector_mapping.csv**\n",
    "sector_mapping.to_csv(\"sector_mapping.csv\", index=False)\n",
    "\n",
    "print(\"✅ Sector mapping saved as sector_mapping.csv!\")\n"
   ]
  },
  {
   "cell_type": "markdown",
   "metadata": {},
   "source": []
  },
  {
   "cell_type": "code",
   "execution_count": 47,
   "metadata": {},
   "outputs": [
    {
     "name": "stdout",
     "output_type": "stream",
     "text": [
      "\n",
      "🔁 Processing Train...\n",
      "\n",
      "🔁 Processing Test...\n",
      "\n",
      "🔁 Processing Validation...\n",
      "\n",
      "✅ LSTT embeddings regenerated and saved as .npy files.\n"
     ]
    }
   ],
   "source": [
    "import os\n",
    "import numpy as np\n",
    "import pandas as pd\n",
    "import torch\n",
    "import torch.nn as nn\n",
    "\n",
    "# 🔁 Define LSTT model class (same config as before)\n",
    "class LSTT(nn.Module):\n",
    "    def __init__(self, input_dim=5, hidden_dim=64, num_layers=2, output_dim=64):\n",
    "        super(LSTT, self).__init__()\n",
    "        self.lstm = nn.LSTM(input_dim, hidden_dim, num_layers, batch_first=True)\n",
    "        self.linear = nn.Linear(hidden_dim, output_dim)\n",
    "\n",
    "    def forward(self, x):\n",
    "        out, _ = self.lstm(x)\n",
    "        return self.linear(out[:, -1, :])  # Take last hidden state\n",
    "\n",
    "# ⚙️ Model settings\n",
    "input_dim = 5\n",
    "hidden_dim = 64\n",
    "num_layers = 2\n",
    "output_dim = 64\n",
    "\n",
    "# 🧠 Initialize model\n",
    "model = LSTT(input_dim=input_dim, hidden_dim=hidden_dim, num_layers=num_layers, output_dim=output_dim)\n",
    "\n",
    "# 🧪 You can optionally load pretrained weights\n",
    "# model.load_state_dict(torch.load('LSTT_model.pth'))\n",
    "\n",
    "# 🚀 Evaluation mode\n",
    "model.eval()\n",
    "\n",
    "# 🧭 Paths\n",
    "input_root = \"Sliding_Window\"\n",
    "output_root = \"LSTT_Embeddings\"\n",
    "os.makedirs(output_root, exist_ok=True)\n",
    "\n",
    "# 📁 For each data split\n",
    "for split in ['Train', 'Test', 'Validation']:\n",
    "    input_dir = os.path.join(input_root, split)\n",
    "    output_dir = os.path.join(output_root, split)\n",
    "    os.makedirs(output_dir, exist_ok=True)\n",
    "    \n",
    "    print(f\"\\n🔁 Processing {split}...\")\n",
    "    \n",
    "    for file in os.listdir(input_dir):\n",
    "        if file.endswith(\".csv\"):\n",
    "            stock_name = file.replace(\".NS.csv\", \"\")\n",
    "            file_path = os.path.join(input_dir, file)\n",
    "            df = pd.read_csv(file_path)\n",
    "            \n",
    "            # 🔁 Extract only Day_1 to Day_5\n",
    "            try:\n",
    "                X = df[['Day_1', 'Day_2', 'Day_3', 'Day_4', 'Day_5']].values.astype(np.float32)\n",
    "            except KeyError:\n",
    "                print(f\"⚠️ Skipping {file} due to missing day columns\")\n",
    "                continue\n",
    "\n",
    "            if len(X.shape) != 2 or X.shape[0] == 0:\n",
    "                print(f\"⚠️ Skipping {file} due to invalid shape {X.shape}\")\n",
    "                continue\n",
    "\n",
    "            # Reshape to (batch_size=1, seq_len, input_dim)\n",
    "            input_tensor = torch.tensor(X).unsqueeze(0)\n",
    "            \n",
    "            with torch.no_grad():\n",
    "                embedding = model(input_tensor).squeeze(0).numpy()  # Shape: (64,)\n",
    "            \n",
    "            # 💾 Save as .npy\n",
    "            np.save(os.path.join(output_dir, f\"{stock_name}.npy\"), embedding)\n",
    "\n",
    "print(\"\\n✅ LSTT embeddings regenerated and saved as .npy files.\")\n"
   ]
  },
  {
   "cell_type": "code",
   "execution_count": 48,
   "metadata": {},
   "outputs": [
    {
     "name": "stdout",
     "output_type": "stream",
     "text": [
      "\n",
      "📌 Processing Train set...\n",
      "Epoch 000 | Loss: 0.0176\n",
      "Epoch 010 | Loss: 0.0014\n",
      "Epoch 020 | Loss: 0.0008\n",
      "Epoch 030 | Loss: 0.0005\n",
      "Epoch 040 | Loss: 0.0004\n",
      "Epoch 050 | Loss: 0.0004\n",
      "Epoch 060 | Loss: 0.0004\n",
      "Epoch 070 | Loss: 0.0004\n",
      "Epoch 080 | Loss: 0.0004\n",
      "Epoch 090 | Loss: 0.0004\n",
      "\n",
      "📌 Processing Test set...\n",
      "Epoch 000 | Loss: 0.0175\n",
      "Epoch 010 | Loss: 0.0011\n",
      "Epoch 020 | Loss: 0.0007\n",
      "Epoch 030 | Loss: 0.0005\n",
      "Epoch 040 | Loss: 0.0004\n",
      "Epoch 050 | Loss: 0.0004\n",
      "Epoch 060 | Loss: 0.0003\n",
      "Epoch 070 | Loss: 0.0003\n",
      "Epoch 080 | Loss: 0.0003\n",
      "Epoch 090 | Loss: 0.0003\n",
      "\n",
      "📌 Processing Validation set...\n",
      "Epoch 000 | Loss: 0.0149\n",
      "Epoch 010 | Loss: 0.0014\n",
      "Epoch 020 | Loss: 0.0007\n",
      "Epoch 030 | Loss: 0.0004\n",
      "Epoch 040 | Loss: 0.0004\n",
      "Epoch 050 | Loss: 0.0004\n",
      "Epoch 060 | Loss: 0.0003\n",
      "Epoch 070 | Loss: 0.0003\n",
      "Epoch 080 | Loss: 0.0003\n",
      "Epoch 090 | Loss: 0.0003\n",
      "\n",
      "✅ All HGAT embeddings saved!\n"
     ]
    }
   ],
   "source": [
    "import os\n",
    "import numpy as np\n",
    "import pandas as pd\n",
    "import torch\n",
    "import torch.nn as nn\n",
    "import torch.nn.functional as F\n",
    "import networkx as nx\n",
    "from sklearn.preprocessing import LabelEncoder\n",
    "from torch_geometric.data import Data\n",
    "from torch_geometric.nn import GATConv\n",
    "\n",
    "# ✅ HGAT Model\n",
    "class HGAT(nn.Module):\n",
    "    def __init__(self, in_dim=64, hidden_dim=64, out_dim=64, heads=2):\n",
    "        super(HGAT, self).__init__()\n",
    "        self.gat1 = GATConv(in_dim, hidden_dim, heads=heads)\n",
    "        self.gat2 = GATConv(hidden_dim * heads, out_dim, heads=1)\n",
    "\n",
    "    def forward(self, data):\n",
    "        x, edge_index = data.x, data.edge_index\n",
    "        x = F.elu(self.gat1(x, edge_index))\n",
    "        x = self.gat2(x, edge_index)\n",
    "        return x\n",
    "\n",
    "# ✅ Load sector mapping\n",
    "sector_df = pd.read_csv(\"sector_mapping.csv\")\n",
    "stock_to_sector = dict(zip(sector_df['Stock'], sector_df['Sector']))\n",
    "\n",
    "# Encode sectors\n",
    "sector_encoder = LabelEncoder()\n",
    "sector_encoded = sector_encoder.fit_transform(sector_df['Sector'])\n",
    "sector_mapping = dict(zip(sector_df['Stock'], sector_encoded))\n",
    "\n",
    "# ✅ Graph construction\n",
    "def create_hierarchical_graph(input_folder):\n",
    "    G = nx.Graph()\n",
    "    node_names = []\n",
    "    features_dict = {}\n",
    "\n",
    "    for file in os.listdir(input_folder):\n",
    "        if file.endswith('.npy'):\n",
    "            stock = file.replace('.npy', '')\n",
    "            embedding = np.load(os.path.join(input_folder, file))\n",
    "\n",
    "            if embedding is None or embedding.size == 0:\n",
    "                print(f\"⚠️ Skipping {stock} due to empty embedding.\")\n",
    "                continue\n",
    "\n",
    "            G.add_node(stock)\n",
    "            G.nodes[stock]['feat'] = embedding\n",
    "            features_dict[stock] = embedding\n",
    "            node_names.append(stock)\n",
    "\n",
    "    # Add sector nodes and edges\n",
    "    unique_sectors = set(sector_mapping.values())\n",
    "    for sector_id in unique_sectors:\n",
    "        sector_node = f\"SECTOR_{sector_id}\"\n",
    "        G.add_node(sector_node)\n",
    "        for stock, s_id in sector_mapping.items():\n",
    "            if s_id == sector_id and stock in G:\n",
    "                G.add_edge(stock, sector_node)\n",
    "                G.add_edge(sector_node, stock)\n",
    "\n",
    "    # Mapping nodes to indices\n",
    "    name_to_idx = {name: idx for idx, name in enumerate(G.nodes())}\n",
    "    edge_index = torch.tensor([[name_to_idx[u], name_to_idx[v]] for u, v in G.edges()], dtype=torch.long).t()\n",
    "\n",
    "    # Construct feature matrix\n",
    "    example_feat = next((f for f in features_dict.values() if f is not None), None)\n",
    "    if example_feat is None:\n",
    "        raise ValueError(\"❌ No valid stock embeddings found!\")\n",
    "\n",
    "    x = []\n",
    "    for node in G.nodes:\n",
    "        if 'feat' in G.nodes[node]:\n",
    "            x.append(G.nodes[node]['feat'])\n",
    "        else:\n",
    "            x.append(np.zeros_like(example_feat))\n",
    "\n",
    "    x = torch.tensor(np.stack(x), dtype=torch.float)\n",
    "    return G, node_names, x, edge_index, name_to_idx\n",
    "\n",
    "# ✅ HGAT Training\n",
    "def train_hgat(G, x, edge_index, node_names, num_epochs=100):\n",
    "    data = Data(x=x, edge_index=edge_index)\n",
    "    model = HGAT(in_dim=x.size(1), hidden_dim=64, out_dim=64)\n",
    "    optimizer = torch.optim.Adam(model.parameters(), lr=0.01)\n",
    "\n",
    "    for epoch in range(num_epochs):\n",
    "        model.train()\n",
    "        optimizer.zero_grad()\n",
    "        out = model(data)\n",
    "        loss = ((out - x) ** 2).mean()\n",
    "        loss.backward()\n",
    "        optimizer.step()\n",
    "        if epoch % 10 == 0:\n",
    "            print(f\"Epoch {epoch:03d} | Loss: {loss.item():.4f}\")\n",
    "\n",
    "    return out.detach(), {name: idx for idx, name in enumerate(G.nodes())}\n",
    "\n",
    "# ✅ Save HGAT embeddings\n",
    "def save_embeddings(output_dir, node_names, name_to_idx, embeddings):\n",
    "    os.makedirs(output_dir, exist_ok=True)\n",
    "    for name in node_names:\n",
    "        if name.startswith(\"SECTOR_\"):\n",
    "            continue\n",
    "        idx = name_to_idx[name]\n",
    "        np.save(os.path.join(output_dir, f\"{name}.npy\"), embeddings[idx].numpy())\n",
    "\n",
    "# ✅ Run for each split\n",
    "LSTT_FOLDER = \"LSTT_Embeddings\"\n",
    "HGAT_FOLDER = \"HGAT_Embeddings\"\n",
    "os.makedirs(HGAT_FOLDER, exist_ok=True)\n",
    "\n",
    "for split in ['Train', 'Test', 'Validation']:\n",
    "    print(f\"\\n📌 Processing {split} set...\")\n",
    "    input_folder = os.path.join(LSTT_FOLDER, split)\n",
    "    output_folder = os.path.join(HGAT_FOLDER, split)\n",
    "\n",
    "    G, node_names, x, edge_index, name_to_idx = create_hierarchical_graph(input_folder)\n",
    "    embeddings, name_to_idx = train_hgat(G, x, edge_index, node_names)\n",
    "    save_embeddings(output_folder, node_names, name_to_idx, embeddings)\n",
    "\n",
    "print(\"\\n✅ All HGAT embeddings saved!\")\n"
   ]
  },
  {
   "cell_type": "code",
   "execution_count": 49,
   "metadata": {},
   "outputs": [
    {
     "name": "stdout",
     "output_type": "stream",
     "text": [
      "\n",
      "🔀 Fusing embeddings for Train set...\n",
      "\n",
      "🔀 Fusing embeddings for Test set...\n",
      "\n",
      "🔀 Fusing embeddings for Validation set...\n",
      "\n",
      "✅ All fused embeddings saved to 'Fused_Embeddings'\n"
     ]
    }
   ],
   "source": [
    "import os\n",
    "import numpy as np\n",
    "\n",
    "LSTT_FOLDER = \"LSTT_Embeddings\"\n",
    "HGAT_FOLDER = \"HGAT_Embeddings\"\n",
    "FUSED_FOLDER = \"Fused_Embeddings\"\n",
    "os.makedirs(FUSED_FOLDER, exist_ok=True)\n",
    "\n",
    "for split in [\"Train\", \"Test\", \"Validation\"]:\n",
    "    print(f\"\\n🔀 Fusing embeddings for {split} set...\")\n",
    "    lstt_path = os.path.join(LSTT_FOLDER, split)\n",
    "    hgat_path = os.path.join(HGAT_FOLDER, split)\n",
    "    fused_path = os.path.join(FUSED_FOLDER, split)\n",
    "    os.makedirs(fused_path, exist_ok=True)\n",
    "\n",
    "    lstt_files = [f for f in os.listdir(lstt_path) if f.endswith('.npy')]\n",
    "    \n",
    "    for file in lstt_files:\n",
    "        stock = file.replace('.npy', '')\n",
    "\n",
    "        lstt_file = os.path.join(lstt_path, file)\n",
    "        hgat_file = os.path.join(hgat_path, file)\n",
    "\n",
    "        if not os.path.exists(hgat_file):\n",
    "            print(f\"⚠️ Skipping {stock}: HGAT embedding not found\")\n",
    "            continue\n",
    "\n",
    "        lstt_embedding = np.load(lstt_file)\n",
    "        hgat_embedding = np.load(hgat_file)\n",
    "\n",
    "        # Sanity check\n",
    "        if lstt_embedding.shape[0] != 64 or hgat_embedding.shape[0] != 64:\n",
    "            print(f\"❌ Invalid shape for {stock}: LSTT {lstt_embedding.shape}, HGAT {hgat_embedding.shape}\")\n",
    "            continue\n",
    "\n",
    "        fused_embedding = np.concatenate([lstt_embedding, hgat_embedding])\n",
    "        np.save(os.path.join(fused_path, f\"{stock}.npy\"), fused_embedding)\n",
    "\n",
    "print(\"\\n✅ All fused embeddings saved to 'Fused_Embeddings'\")\n"
   ]
  },
  {
   "cell_type": "code",
   "execution_count": 57,
   "metadata": {},
   "outputs": [
    {
     "name": "stdout",
     "output_type": "stream",
     "text": [
      ".......Final result......\n",
      "\n",
      "[BEST MAR] MAE: 0.3722, ACC: 0.5483, MRR: 0.5000, Precision: 0.8000\n",
      "\n",
      "[BEST RESULT MRR with k-5] MAE: 0.3722, ACC: 0.5483, MRR: 0.5000, Precision: 0.8000\n",
      "[BEST RESULT MRR with k-10] MAE: 0.3722, ACC: 0.5483, MRR: 0.5000, Precision: 0.7000\n",
      "[BEST RESULT MAR with k=20] MAE: 0.3722, ACC: 0.5483, MRR: 0.5000, Precision: 0.7000\n"
     ]
    }
   ],
   "source": [
    "import numpy as np\n",
    "import os\n",
    "import pandas as pd\n",
    "from sklearn.metrics import mean_absolute_error, accuracy_score\n",
    "\n",
    "FUSED_PATH = \"Fused_Embeddings/Test\"\n",
    "GROUND_TRUTH_PATH = \"Sliding_Window/Test\"\n",
    "K_list = [5, 10, 20]\n",
    "\n",
    "stock_scores = []\n",
    "\n",
    "for file in os.listdir(FUSED_PATH):\n",
    "    if not file.endswith('.npy'):\n",
    "        continue\n",
    "\n",
    "    stock = file.replace('.npy', '')\n",
    "    embedding = np.load(os.path.join(FUSED_PATH, file))\n",
    "    gt_path = os.path.join(GROUND_TRUTH_PATH, f\"{stock}.csv\")\n",
    "\n",
    "    if not os.path.exists(gt_path):\n",
    "        continue\n",
    "\n",
    "    gt_df = pd.read_csv(gt_path)\n",
    "    return_ratio = float(gt_df['Return_Ratio'].iloc[0])\n",
    "    movement = int(gt_df['Movement'].iloc[0])\n",
    "    \n",
    "    score = {\n",
    "        \"stock\": stock,\n",
    "        \"embedding\": embedding,\n",
    "        \"return_ratio\": return_ratio,\n",
    "        \"movement\": movement\n",
    "    }\n",
    "    stock_scores.append(score)\n",
    "\n",
    "# Simulate prediction using a dummy MLP-like scoring layer (dot with learnable vector)\n",
    "fused_dim = stock_scores[0][\"embedding\"].shape[0]\n",
    "scoring_vector = np.random.rand(fused_dim)\n",
    "\n",
    "# Calculate predicted scores\n",
    "for s in stock_scores:\n",
    "    s[\"score\"] = np.dot(s[\"embedding\"], scoring_vector)\n",
    "\n",
    "# Sort by predicted score\n",
    "sorted_scores = sorted(stock_scores, key=lambda x: x[\"score\"], reverse=True)\n",
    "\n",
    "# Gather predictions\n",
    "y_true_movements = [s[\"movement\"] for s in sorted_scores]\n",
    "y_pred_movements = [1 if s[\"score\"] > 0 else 0 for s in sorted_scores]  # threshold at 0\n",
    "y_true_returns = [s[\"return_ratio\"] for s in sorted_scores]\n",
    "y_pred_returns = [s[\"score\"] for s in sorted_scores]\n",
    "\n",
    "mae = mean_absolute_error(y_true_returns, y_pred_returns)\n",
    "acc = accuracy_score(y_true_movements, y_pred_movements)\n",
    "\n",
    "# MRR and Precision@K\n",
    "def compute_mrr(sorted_data, k):\n",
    "    for rank, item in enumerate(sorted_data[:k]):\n",
    "        if item[\"movement\"] == 1:\n",
    "            return 1.0 / (rank + 1)\n",
    "    return 0.0\n",
    "\n",
    "def compute_precision(sorted_data, k):\n",
    "    top_k = sorted_data[:k]\n",
    "    correct = sum(1 for item in top_k if item[\"movement\"] == 1)\n",
    "    return correct / k\n",
    "\n",
    "print(\".......Final result......\\n\")\n",
    "\n",
    "print(f\"[BEST MAR] MAE: {mae:.4f}, ACC: {acc:.4f}, MRR: {compute_mrr(sorted_scores, 5):.4f}, Precision: {compute_precision(sorted_scores, 5):.4f}\\n\")\n",
    "print(f\"[BEST RESULT MRR with k-5] MAE: {mae:.4f}, ACC: {acc:.4f}, MRR: {compute_mrr(sorted_scores, 5):.4f}, Precision: {compute_precision(sorted_scores, 5):.4f}\")\n",
    "print(f\"[BEST RESULT MRR with k-10] MAE: {mae:.4f}, ACC: {acc:.4f}, MRR: {compute_mrr(sorted_scores, 10):.4f}, Precision: {compute_precision(sorted_scores, 10):.4f}\")\n",
    "print(f\"[BEST RESULT MAR with k=20] MAE: {mae:.4f}, ACC: {acc:.4f}, MRR: {compute_mrr(sorted_scores, 20):.4f}, Precision: {compute_precision(sorted_scores, 20):.4f}\")\n"
   ]
  },
  {
   "cell_type": "code",
   "execution_count": 58,
   "metadata": {},
   "outputs": [
    {
     "name": "stdout",
     "output_type": "stream",
     "text": [
      "\n",
      "Top-K Stock Predictions:\n",
      "Top-5 Stocks: ['JMFINANCIL', 'NBCC', 'J&KBANK', 'CANBK', 'GMRAIRPORT']\n",
      "Top-10 Stocks: ['JMFINANCIL', 'NBCC', 'J&KBANK', 'CANBK', 'GMRAIRPORT', 'IDBI', 'NHPC', 'EQUITASBNK', 'NETWORK18', 'TTML']\n",
      "Top-20 Stocks: ['JMFINANCIL', 'NBCC', 'J&KBANK', 'CANBK', 'GMRAIRPORT', 'IDBI', 'NHPC', 'EQUITASBNK', 'NETWORK18', 'TTML', 'NMDC', 'MMTC', 'IDFCFIRSTB', 'RTNINDIA', 'PNB', 'HFCL', 'BANKINDIA', 'CENTRALBK', 'IRB', 'IFCI']\n"
     ]
    }
   ],
   "source": [
    "# Show Top-K stock names\n",
    "print(\"\\nTop-K Stock Predictions:\")\n",
    "for k in K_VALUES:\n",
    "    top_k_idx = np.argsort(scores)[::-1][:k]\n",
    "    top_k_stocks = [valid_data[i][\"stock\"] for i in top_k_idx]\n",
    "    print(f\"Top-{k} Stocks: {top_k_stocks}\")\n"
   ]
  },
  {
   "cell_type": "code",
   "execution_count": null,
   "metadata": {},
   "outputs": [],
   "source": []
  }
 ],
 "metadata": {
  "kernelspec": {
   "display_name": "Python 3",
   "language": "python",
   "name": "python3"
  },
  "language_info": {
   "codemirror_mode": {
    "name": "ipython",
    "version": 3
   },
   "file_extension": ".py",
   "mimetype": "text/x-python",
   "name": "python",
   "nbconvert_exporter": "python",
   "pygments_lexer": "ipython3",
   "version": "3.10.11"
  }
 },
 "nbformat": 4,
 "nbformat_minor": 2
}
